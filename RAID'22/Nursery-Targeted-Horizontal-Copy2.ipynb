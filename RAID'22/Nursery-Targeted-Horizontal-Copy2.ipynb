{
 "cells": [
  {
   "cell_type": "code",
   "execution_count": 3,
   "id": "2b63b494",
   "metadata": {},
   "outputs": [],
   "source": [
    "import os\n",
    "os.chdir(\"C:\\\\Users\\\\tsarcevic\\\\PycharmProjects\\\\fingerprinting-toolbox\")\n",
    "import warnings\n",
    "warnings.filterwarnings('ignore')"
   ]
  },
  {
   "cell_type": "code",
   "execution_count": 4,
   "id": "e5bcb89b",
   "metadata": {},
   "outputs": [],
   "source": [
    "import pickle\n",
    "import numpy as np\n",
    "import pandas as pd\n",
    "import collections\n",
    "\n",
    "from sklearn.neighbors import LocalOutlierFactor\n",
    "from sklearn.model_selection import train_test_split, cross_val_score\n",
    "from sklearn.linear_model import LogisticRegression\n",
    "from sklearn.metrics import accuracy_score\n",
    "\n",
    "from scipy.stats import chi2\n",
    "from imblearn.under_sampling import *\n",
    "\n",
    "from datasets import GermanCredit\n",
    "from attacks import *\n",
    "from parameter_guidelines.guidelines import *"
   ]
  },
  {
   "cell_type": "code",
   "execution_count": 5,
   "id": "665170a1",
   "metadata": {
    "scrolled": true
   },
   "outputs": [],
   "source": [
    "# original data\n",
    "data = Nursery().preprocessed()\n",
    "X = data.drop('target', axis=1).to_numpy()\n",
    "y = data['target']"
   ]
  },
  {
   "cell_type": "code",
   "execution_count": 6,
   "id": "59f0b76c",
   "metadata": {},
   "outputs": [],
   "source": [
    "# fingerprinted data\n",
    "gamma=1\n",
    "fp_dir = \"parameter_guidelines/fingerprinted_data/nursery/attr_subset_8/\"\n",
    "fingerprinted_data = pd.read_csv(fp_dir + \"universal_g{}_x1_l32_u1_sk0.csv\".format(gamma))\n",
    "fp_data = Nursery().preprocessed(fp_data=fingerprinted_data)\n",
    "#data = data.to_numpy()\n",
    "X_fp = fp_data.drop('target', axis=1)#.to_numpy()\n",
    "y_fp = fp_data['target']"
   ]
  },
  {
   "cell_type": "code",
   "execution_count": 7,
   "id": "a80ec926",
   "metadata": {},
   "outputs": [
    {
     "data": {
      "text/plain": [
       "array([0.66743827, 0.75462963, 0.7804784 , 0.82747974, 0.64569664])"
      ]
     },
     "execution_count": 7,
     "metadata": {},
     "output_type": "execute_result"
    }
   ],
   "source": [
    "# baseline\n",
    "score_baseline = fp_cross_val_score(LogisticRegression(random_state=9), X, y, X_fp, y_fp, scoring='accuracy')['test_score']\n",
    "score_baseline"
   ]
  },
  {
   "cell_type": "code",
   "execution_count": 8,
   "id": "1a377216",
   "metadata": {},
   "outputs": [],
   "source": [
    "# this function will serve as a pipeline for cross validation attacked dataset\n",
    "def attack_cross_val_score(X, y, target, attack, attack_strength, n_folds=5):\n",
    "    accuracy = []\n",
    "    for fold in range(n_folds):\n",
    "        X_train, X_test, y_train, y_test = train_test_split(X, y, test_size=0.2, random_state=fold, shuffle=True)\n",
    "        train = pd.concat([X_train, y_train], axis=1)\n",
    "        attacked_train = attack.run(train, attack_strength, random_state=fold)\n",
    "        attacked_X = attacked_train.drop(target, axis=1)\n",
    "        attacked_y = attacked_train[target]\n",
    "        model = LogisticRegression()\n",
    "        model.fit(attacked_X, attacked_y)\n",
    "        acc = accuracy_score(y_test, model.predict(X_test))\n",
    "        accuracy.append(acc)\n",
    "    return accuracy"
   ]
  },
  {
   "cell_type": "code",
   "execution_count": 9,
   "id": "edd195c1",
   "metadata": {},
   "outputs": [
    {
     "data": {
      "text/plain": [
       "[0.7098765432098766,\n",
       " 0.7040895061728395,\n",
       " 0.7326388888888888,\n",
       " 0.7087191358024691,\n",
       " 0.7195216049382716]"
      ]
     },
     "execution_count": 9,
     "metadata": {},
     "output_type": "execute_result"
    }
   ],
   "source": [
    "# random attack\n",
    "attack_utility_scores = attack_cross_val_score(X_fp, y_fp, 'target', HorizontalSubsetAttack(), 0.7)\n",
    "attack_utility_scores"
   ]
  },
  {
   "cell_type": "markdown",
   "id": "bace6bea",
   "metadata": {},
   "source": [
    "### Targeted attack"
   ]
  },
  {
   "cell_type": "code",
   "execution_count": 10,
   "id": "adf86741",
   "metadata": {},
   "outputs": [],
   "source": [
    "def targeted_attack_cross_val_score(X, y, attack_strength, n_folds=5, sampler_version=1, sampler_n_neighbors=3):\n",
    "    accuracy = []\n",
    "    for fold in range(n_folds):\n",
    "        X_train, X_test, y_train, y_test = train_test_split(X, y, test_size=0.2, random_state=fold, shuffle=True)\n",
    "        train = pd.concat([X_train, y_train], axis=1)\n",
    "        sampler = NearMiss(version=sampler_version, \n",
    "                           sampling_strategy=strategy(attack_strength, y_train), \n",
    "                           n_neighbors=sampler_n_neighbors)\n",
    "        #sampler = InstanceHardnessThreshold(estimator=GradientBoostingClassifier(),\n",
    "        #                                    sampling_strategy=strategy(attack_strength, y_train)) -- some internal error\n",
    "        attacked_X, attacked_y = sampler.fit_resample(X_train, y_train)\n",
    "        model = LogisticRegression()\n",
    "        model.fit(attacked_X, attacked_y)\n",
    "        acc = accuracy_score(y_test, model.predict(X_test))\n",
    "        accuracy.append(acc)\n",
    "    return accuracy"
   ]
  },
  {
   "cell_type": "code",
   "execution_count": 11,
   "id": "daa12591",
   "metadata": {},
   "outputs": [],
   "source": [
    "def strategy(attack_strength, y):\n",
    "    strategy = y.value_counts() * (1-attack_strength)\n",
    "    strategy = {key: round(x) for key, x in strategy.items()}\n",
    "    return strategy"
   ]
  },
  {
   "cell_type": "code",
   "execution_count": 16,
   "id": "17c2ca44",
   "metadata": {},
   "outputs": [
    {
     "data": {
      "text/plain": [
       "0.5830246913580247"
      ]
     },
     "execution_count": 16,
     "metadata": {},
     "output_type": "execute_result"
    }
   ],
   "source": [
    "# targeted attack\n",
    "attack_utility_scores = targeted_attack_cross_val_score(X_fp, y_fp, 0.7)\n",
    "attack_utility_scores\n",
    "np.mean(attack_utility_scores) # version 1 ###### the best (and the only one actually better than random)"
   ]
  },
  {
   "cell_type": "code",
   "execution_count": 17,
   "id": "f4fb6ad5",
   "metadata": {},
   "outputs": [
    {
     "name": "stdout",
     "output_type": "stream",
     "text": [
      "version 1\n",
      "{1: 0.6324845679012345, 2: 0.6084876543209876, 3: 0.5830246913580247, 4: 0.5804012345679013, 5: 0.5748456790123456, 6: 0.5712191358024692, 7: 0.5706790123456791, 8: 0.5688271604938271, 9: 0.5679783950617284}\n",
      "0.6324845679012345\n"
     ]
    }
   ],
   "source": [
    "# experimenting with the number of neighbors\n",
    "res = dict()\n",
    "for n in range(1, 10):\n",
    "    # targeted attack\n",
    "    attack_utility_scores = targeted_attack_cross_val_score(X_fp, y_fp, 0.7, sampler_n_neighbors=n) # 3 shows to be the best (default)\n",
    "    res[n] = np.mean(attack_utility_scores) # version 1 ###### the best (and the only one actually better than random)\n",
    "print('version 1')\n",
    "print(res)\n",
    "print(max(res.values()))"
   ]
  },
  {
   "cell_type": "code",
   "execution_count": 18,
   "id": "27ba4466",
   "metadata": {},
   "outputs": [
    {
     "data": {
      "text/plain": [
       "0.695216049382716"
      ]
     },
     "execution_count": 18,
     "metadata": {},
     "output_type": "execute_result"
    }
   ],
   "source": [
    "# targeted attack\n",
    "attack_utility_scores = targeted_attack_cross_val_score(X_fp, y_fp, 0.7, sampler_version=2)\n",
    "attack_utility_scores\n",
    "np.mean(attack_utility_scores) # version 2"
   ]
  },
  {
   "cell_type": "code",
   "execution_count": 19,
   "id": "f39c8b8e",
   "metadata": {},
   "outputs": [
    {
     "data": {
      "text/plain": [
       "0.5910493827160493"
      ]
     },
     "execution_count": 19,
     "metadata": {},
     "output_type": "execute_result"
    }
   ],
   "source": [
    "# targeted attack\n",
    "attack_utility_scores = targeted_attack_cross_val_score(X_fp, y_fp, 0.7, sampler_version=3)\n",
    "np.mean(attack_utility_scores) # version 3"
   ]
  },
  {
   "cell_type": "markdown",
   "id": "c17f9512",
   "metadata": {},
   "source": [
    "Here update the targeted_attack_cross_val_score with the best strategy."
   ]
  },
  {
   "cell_type": "code",
   "execution_count": 20,
   "id": "572d2104",
   "metadata": {},
   "outputs": [],
   "source": [
    "with open('parameter_guidelines/Nursery/evaluation/robustness_horizontal_universal_c95_e30.pickle', 'rb') as infile:\n",
    "    robustness = pickle.load(infile)"
   ]
  },
  {
   "cell_type": "code",
   "execution_count": 21,
   "id": "6d90857b",
   "metadata": {},
   "outputs": [
    {
     "data": {
      "text/plain": [
       "{1: 0.9,\n",
       " 1.11: 0.9,\n",
       " 1.25: 0.9,\n",
       " 1.43: 0.9,\n",
       " 1.67: 0.9,\n",
       " 2: 0.9,\n",
       " 2.5: 0.9,\n",
       " 3: 0.9,\n",
       " 4: 0.9,\n",
       " 5: 0.9,\n",
       " 10: 0.8,\n",
       " 18: 0.6}"
      ]
     },
     "execution_count": 21,
     "metadata": {},
     "output_type": "execute_result"
    }
   ],
   "source": [
    "robustness"
   ]
  },
  {
   "cell_type": "code",
   "execution_count": 22,
   "id": "5d1aba13",
   "metadata": {},
   "outputs": [
    {
     "name": "stdout",
     "output_type": "stream",
     "text": [
      "1 0.9\n",
      "1.11 0.9\n",
      "1.25 0.9\n",
      "1.43 0.9\n",
      "1.67 0.9\n",
      "2 0.9\n",
      "2.5 0.9\n",
      "3 0.9\n",
      "4 0.9\n",
      "5 0.9\n",
      "10 0.8\n",
      "18 0.6\n"
     ]
    }
   ],
   "source": [
    "fpattr=8\n",
    "n_exp = 10\n",
    "results = {gamma: [] for gamma in robustness}\n",
    "for gamma, attack_strength in robustness.items():\n",
    "    print(gamma, attack_strength)\n",
    "    for exp in range(n_exp):\n",
    "        # take one fp ds\n",
    "        fp_dir = \"parameter_guidelines/fingerprinted_data/nursery/attr_subset_{}/\".format(fpattr)\n",
    "        fingerprinted_data = pd.read_csv(fp_dir + \"universal_g{}_x1_l32_u1_sk{}.csv\".format(gamma, exp))\n",
    "        fp_data = Nursery().preprocessed(fp_data=fingerprinted_data)\n",
    "        #data = data.to_numpy()\n",
    "        X_fp = fp_data.drop('target', axis=1)#.to_numpy()\n",
    "        y_fp = fp_data['target']\n",
    "        \n",
    "        # calc baseline fp utility\n",
    "        score_baseline = fp_cross_val_score(LogisticRegression(random_state=9), X, y, X_fp, y_fp, scoring='accuracy')['test_score']\n",
    "\n",
    "        # calc attacked \n",
    "        attack_utility_scores = targeted_attack_cross_val_score(X_fp, y_fp, attack_strength, \n",
    "                                                                sampler_version=2, sampler_n_neighbors=1) # CHANGE HERE\n",
    "\n",
    "        # take relative loss\n",
    "        rel_loss = (score_baseline - attack_utility_scores) / score_baseline\n",
    "        results[gamma].append(rel_loss)"
   ]
  },
  {
   "cell_type": "code",
   "execution_count": 23,
   "id": "9d8a5db0",
   "metadata": {},
   "outputs": [
    {
     "data": {
      "text/plain": [
       "{1: [array([-0.00520231,  0.12730061,  0.12061295,  0.18175237, -0.06713147]),\n",
       "  array([ 0.00289184,  0.13859383,  0.11890547,  0.20894843, -0.03725657]),\n",
       "  array([ 0.0300578 ,  0.13403614,  0.14427367,  0.22019869, -0.00857667]),\n",
       "  array([-0.00462428,  0.11015664,  0.12325349,  0.20283339, -0.00618668]),\n",
       "  array([ 0.01729107,  0.1192053 ,  0.11967952,  0.25225346, -0.03546408]),\n",
       "  array([0.07865818, 0.21084643, 0.2044665 , 0.28552471, 0.02966321]),\n",
       "  array([ 0.06072874,  0.18315576,  0.15584416,  0.23778833, -0.01335665]),\n",
       "  array([ 0.        ,  0.13394216,  0.1509716 ,  0.22133852, -0.01395415]),\n",
       "  array([ 0.04279931,  0.15794872,  0.1440678 ,  0.23968459, -0.01156416]),\n",
       "  array([ 0.01097631,  0.12531454,  0.10484274,  0.1865337 , -0.05159653])],\n",
       " 1.11: [array([-0.0150289 ,  0.12022415,  0.10445545,  0.16839212, -0.07848394]),\n",
       "  array([ 0.00578369,  0.12341932,  0.11050274,  0.19919641, -0.05518151]),\n",
       "  array([ 0.03060046,  0.15813253,  0.14761431,  0.21741036, -0.02470911]),\n",
       "  array([-0.03238866,  0.10126582,  0.09985022,  0.18795964, -0.04502405]),\n",
       "  array([ 0.00980958,  0.12785388,  0.10190763,  0.22431785, -0.05099903]),\n",
       "  array([0.04569115, 0.17831814, 0.15598609, 0.21132213, 0.01472576]),\n",
       "  array([ 0.0739457 ,  0.18822933,  0.14866901,  0.24725598, -0.00200419]),\n",
       "  array([-0.00462695,  0.11782631,  0.14071856,  0.20782663, -0.03904907]),\n",
       "  array([ 0.04337767,  0.1833418 ,  0.16133866,  0.2582909 , -0.02470911]),\n",
       "  array([-0.00867052,  0.12393377,  0.09879639,  0.183191  , -0.07071646])],\n",
       " 1.25: [array([-0.02082128,  0.10687023,  0.10144207,  0.17577308, -0.07728894]),\n",
       "  array([-0.00809717,  0.10920121,  0.08945527,  0.18503676, -0.07549645]),\n",
       "  array([-0.00173511,  0.11963655,  0.11938062,  0.18285138, -0.06653398]),\n",
       "  array([-0.03294798,  0.09251769,  0.08741259,  0.16847081, -0.06892397]),\n",
       "  array([ 0.00634006,  0.13888889,  0.09688755,  0.22097753, -0.03486658]),\n",
       "  array([ 0.02601156,  0.1709792 ,  0.145     ,  0.19723004, -0.01096666]),\n",
       "  array([ 0.07151096,  0.17873418,  0.13246362,  0.22948354, -0.04860904]),\n",
       "  array([-0.01561596,  0.09137056,  0.1328008 ,  0.21063504, -0.04860904]),\n",
       "  array([ 0.02369942,  0.15872211,  0.13486513,  0.22370881, -0.02590411]),\n",
       "  array([-0.00403691,  0.12487462,  0.07973922,  0.17311839, -0.07191146])],\n",
       " 1.43: [array([-0.02776171,  0.09867752,  0.08751865,  0.17009642, -0.08804391]),\n",
       "  array([-0.0218894 ,  0.09690512,  0.07788318,  0.1800293 , -0.08087393]),\n",
       "  array([ 0.00577034,  0.12153303,  0.11216351,  0.17918612, -0.07609394]),\n",
       "  array([-0.03930636,  0.08439248,  0.07953977,  0.16424929, -0.07609394]),\n",
       "  array([-0.00634006,  0.11761736,  0.09688755,  0.21478773, -0.04621904]),\n",
       "  array([-0.00520231,  0.14350913,  0.12418953,  0.19420771, -0.05577901]),\n",
       "  array([ 0.04668588,  0.1548583 ,  0.12068102,  0.20002811, -0.04502405]),\n",
       "  array([-0.02601156,  0.08625063,  0.11038961,  0.20002942, -0.06414398]),\n",
       "  array([ 0.01096998,  0.12917933,  0.109336  ,  0.18813296, -0.03546408]),\n",
       "  array([-0.01729107,  0.10502513,  0.07568922,  0.17857181, -0.08684891])],\n",
       " 1.67: [array([-0.03757225,  0.09359105,  0.07438842,  0.16286396, -0.09401889]),\n",
       "  array([-0.0224525 ,  0.08755061,  0.07207207,  0.17855778, -0.09521388]),\n",
       "  array([-0.01558891,  0.09757331,  0.10972569,  0.18276667, -0.08804391]),\n",
       "  array([-0.04157044,  0.07849134,  0.06506507,  0.15546614, -0.08804391]),\n",
       "  array([-0.02419355,  0.08752515,  0.08647562,  0.2011432 , -0.06533898]),\n",
       "  array([-0.02078522,  0.12430238,  0.09904952,  0.17137244, -0.07669144]),\n",
       "  array([ 0.02301496,  0.12046371,  0.10065098,  0.18536114, -0.06115649]),\n",
       "  array([-0.0271206 ,  0.08662614,  0.11055528,  0.19229682, -0.06593648]),\n",
       "  array([-0.01499423,  0.08975659,  0.06693508,  0.17000885, -0.07549645]),\n",
       "  array([-0.02478386,  0.09919436,  0.07927747,  0.1820065 , -0.0904339 ])],\n",
       " 2: [array([-0.04682081,  0.08219178,  0.0891337 ,  0.1583426 , -0.11433382]),\n",
       "  array([-0.03629032,  0.09260191,  0.05820371,  0.16706555, -0.09640888]),\n",
       "  array([-0.03974654,  0.08433735,  0.08562844,  0.16482048, -0.10955383]),\n",
       "  array([-0.03923832,  0.06917599,  0.07031642,  0.15051443, -0.10118886]),\n",
       "  array([-0.04317789,  0.06720566,  0.07193159,  0.17665188, -0.09700638]),\n",
       "  array([-0.02540416,  0.09242424,  0.07881526,  0.15745464, -0.08445892]),\n",
       "  array([-0.02474108,  0.08835341,  0.06569709,  0.17459629, -0.09461638]),\n",
       "  array([-0.05184332,  0.07785642,  0.08278976,  0.17951815, -0.10059136]),\n",
       "  array([-0.04322767,  0.07418699,  0.05538771,  0.16861469, -0.10178636]),\n",
       "  array([-0.03629032,  0.08417339,  0.06036217,  0.18851544, -0.10596885])],\n",
       " 2.5: [array([-0.04099307,  0.07063572,  0.06475904,  0.15018793, -0.09879887]),\n",
       "  array([-0.04548071,  0.07851032,  0.04422111,  0.15682286, -0.12389379]),\n",
       "  array([-0.06221198,  0.05823293,  0.0665999 ,  0.14238968, -0.12807627]),\n",
       "  array([-0.03051238,  0.07501267,  0.06646526,  0.1480297 , -0.10596885]),\n",
       "  array([-0.06559264,  0.05721519,  0.04476861,  0.14956114, -0.13106376]),\n",
       "  array([-0.05181347,  0.0881459 ,  0.04472362,  0.16242266, -0.12449128]),\n",
       "  array([-0.01841197,  0.06467913,  0.05418966,  0.1613288 , -0.10059136]),\n",
       "  array([-0.04660529,  0.06126582,  0.0718232 ,  0.16776091, -0.1185163 ]),\n",
       "  array([-0.05235903,  0.07189873,  0.04433249,  0.16203345, -0.10417635]),\n",
       "  array([-0.04550691,  0.07171717,  0.07135678,  0.16286396, -0.11194383])],\n",
       " 3: [array([-0.05699482,  0.06995471,  0.05731523,  0.15471057, -0.11373632]),\n",
       "  array([-0.0598389 ,  0.05906108,  0.03971845,  0.16442506, -0.1203088 ]),\n",
       "  array([-0.06275187,  0.06306306,  0.05684105,  0.15130612, -0.12508878]),\n",
       "  array([-0.04655172,  0.05775076,  0.05535984,  0.14930412, -0.10716384]),\n",
       "  array([-0.06501726,  0.06427126,  0.04431017,  0.1451832 , -0.13883124]),\n",
       "  array([-0.04890679,  0.08106747,  0.0415    ,  0.14770226, -0.12927127]),\n",
       "  array([-0.05172414,  0.06033183,  0.03627204,  0.15016513, -0.11732131]),\n",
       "  array([-0.04775604,  0.05730223,  0.06740443,  0.1653571 , -0.1203088 ]),\n",
       "  array([-0.05692927,  0.0766129 ,  0.04126824,  0.14830452, -0.12210129]),\n",
       "  array([-0.05241935,  0.07843137,  0.04828974,  0.14045318, -0.1197113 ])],\n",
       " 4: [array([-0.06612996,  0.06121425,  0.04833837,  0.15098067, -0.11254132]),\n",
       "  array([-0.06773823,  0.04879276,  0.02824004,  0.14165591, -0.13345376]),\n",
       "  array([-0.08055236,  0.04759519,  0.03927492,  0.1446552 , -0.13464875]),\n",
       "  array([-0.04997128,  0.05502272,  0.04678068,  0.14025719, -0.13046627]),\n",
       "  array([-0.0730725 ,  0.06253152,  0.03530005,  0.14118967, -0.12568628]),\n",
       "  array([-0.05577918,  0.06626506,  0.03361766,  0.13608424, -0.13703874]),\n",
       "  array([-0.06375646,  0.05773092,  0.0182002 ,  0.13510218, -0.14062373]),\n",
       "  array([-0.0626797 ,  0.05465587,  0.03867403,  0.14418831, -0.12389379]),\n",
       "  array([-0.06142365,  0.07146452,  0.03335018,  0.14392015, -0.12807627]),\n",
       "  array([-0.06214039,  0.04771472,  0.0327621 ,  0.13338769, -0.13942874])],\n",
       " 5: [array([-0.06728005,  0.05471888,  0.04881731,  0.13892309, -0.1203088 ]),\n",
       "  array([-0.06601607,  0.04785894,  0.02323232,  0.13705727, -0.13942874]),\n",
       "  array([-0.08342923,  0.04354354,  0.02670025,  0.13503916, -0.14241623]),\n",
       "  array([-0.06433084,  0.04942007,  0.03528226,  0.13357423, -0.13584375]),\n",
       "  array([-0.07594937,  0.06139909,  0.0332997 ,  0.13186491, -0.13405125]),\n",
       "  array([-0.06210466,  0.06174699,  0.0346908 ,  0.12743174, -0.13823374]),\n",
       "  array([-0.07696726,  0.0551655 ,  0.0177305 ,  0.13885848, -0.14779371]),\n",
       "  array([-0.06843013,  0.05070994,  0.03269618,  0.14064972, -0.13106376]),\n",
       "  array([-0.06540448,  0.06656581,  0.03233957,  0.14545347, -0.14420872]),\n",
       "  array([-0.06321839,  0.0502008 ,  0.02574457,  0.13885848, -0.13584375])],\n",
       " 10: [array([-0.07577497,  0.04391721,  0.01971689,  0.12018975, -0.1495862 ]),\n",
       "  array([-0.07965616,  0.04534005,  0.01619433,  0.12411199, -0.15675618]),\n",
       "  array([-0.07466973,  0.04216867,  0.02427921,  0.12090004, -0.15436619]),\n",
       "  array([-0.07740826,  0.03985873,  0.01718908,  0.12018975, -0.1495862 ]),\n",
       "  array([-0.08266361,  0.0372796 ,  0.01364325,  0.1159238 , -0.16332866]),\n",
       "  array([-0.08223117,  0.04433249,  0.01515152,  0.12271131, -0.15854867]),\n",
       "  array([-0.07864524,  0.03977845,  0.01620253,  0.11861974, -0.15257369]),\n",
       "  array([-0.0821367 ,  0.04632427,  0.01568032,  0.12603824, -0.15675618]),\n",
       "  array([-0.07802639,  0.05135952,  0.0187247 ,  0.12189103, -0.15376869]),\n",
       "  array([-0.08495982,  0.0407855 ,  0.01261989,  0.11622894, -0.16034117])],\n",
       " 18: [array([-0.08448276,  0.03380424,  0.01061678,  0.11457394, -0.15675618]),\n",
       "  array([-0.0837156 ,  0.03173804,  0.00556399,  0.11301181, -0.16691364]),\n",
       "  array([-0.08605852,  0.03566047,  0.01214575,  0.11472076, -0.16751114]),\n",
       "  array([-0.08424069,  0.03530005,  0.00809307,  0.11358498, -0.16392615]),\n",
       "  array([-0.08955224,  0.02825429,  0.00353714,  0.1098941 , -0.16810864]),\n",
       "  array([-0.08625647,  0.03427419,  0.00910931,  0.11482761, -0.16810864]),\n",
       "  array([-0.08142202,  0.0302267 ,  0.00708861,  0.10698638, -0.16631615]),\n",
       "  array([-0.08725603,  0.03477823,  0.01468354,  0.11493467, -0.16691364]),\n",
       "  array([-0.08772936,  0.03172205,  0.00961538,  0.10688675, -0.16990113]),\n",
       "  array([-0.08668197,  0.03373615,  0.00758725,  0.10880586, -0.16810864])]}"
      ]
     },
     "execution_count": 23,
     "metadata": {},
     "output_type": "execute_result"
    }
   ],
   "source": [
    "results"
   ]
  },
  {
   "cell_type": "code",
   "execution_count": 24,
   "id": "9159aa52",
   "metadata": {},
   "outputs": [],
   "source": [
    "with open('parameter_guidelines/Nursery/evaluation/rel_undersampling_attack_utilities_lr_fpattr{}_e{}.pkl'.format(fpattr, n_exp), 'wb') as outfile:\n",
    "    pickle.dump(results, outfile)"
   ]
  }
 ],
 "metadata": {
  "kernelspec": {
   "display_name": "Python3-FP",
   "language": "python",
   "name": "python3"
  },
  "language_info": {
   "codemirror_mode": {
    "name": "ipython",
    "version": 3
   },
   "file_extension": ".py",
   "mimetype": "text/x-python",
   "name": "python",
   "nbconvert_exporter": "python",
   "pygments_lexer": "ipython3",
   "version": "3.8.8"
  }
 },
 "nbformat": 4,
 "nbformat_minor": 5
}
