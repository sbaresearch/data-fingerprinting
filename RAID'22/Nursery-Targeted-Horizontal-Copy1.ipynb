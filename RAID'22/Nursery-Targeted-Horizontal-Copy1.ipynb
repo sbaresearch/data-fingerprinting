{
 "cells": [
  {
   "cell_type": "code",
   "execution_count": 3,
   "id": "6d0d9974",
   "metadata": {},
   "outputs": [],
   "source": [
    "import os\n",
    "os.chdir(\"C:\\\\Users\\\\tsarcevic\\\\PycharmProjects\\\\fingerprinting-toolbox\")\n",
    "import warnings\n",
    "warnings.filterwarnings('ignore')"
   ]
  },
  {
   "cell_type": "code",
   "execution_count": 8,
   "id": "af8dbb16",
   "metadata": {},
   "outputs": [],
   "source": [
    "import pickle\n",
    "import numpy as np\n",
    "import pandas as pd\n",
    "import collections\n",
    "\n",
    "from sklearn.neighbors import LocalOutlierFactor\n",
    "from sklearn.model_selection import train_test_split, cross_val_score\n",
    "from sklearn.neighbors import KNeighborsClassifier\n",
    "from sklearn.metrics import accuracy_score\n",
    "\n",
    "from scipy.stats import chi2\n",
    "from imblearn.under_sampling import *\n",
    "\n",
    "from datasets import GermanCredit\n",
    "from attacks import *\n",
    "from parameter_guidelines.guidelines import *"
   ]
  },
  {
   "cell_type": "code",
   "execution_count": 5,
   "id": "4ca39b4e",
   "metadata": {
    "scrolled": true
   },
   "outputs": [],
   "source": [
    "# original data\n",
    "data = Nursery().preprocessed()\n",
    "X = data.drop('target', axis=1).to_numpy()\n",
    "y = data['target']"
   ]
  },
  {
   "cell_type": "code",
   "execution_count": 6,
   "id": "35432f6e",
   "metadata": {},
   "outputs": [],
   "source": [
    "# fingerprinted data\n",
    "gamma=1\n",
    "fp_dir = \"parameter_guidelines/fingerprinted_data/nursery/attr_subset_8/\"\n",
    "fingerprinted_data = pd.read_csv(fp_dir + \"universal_g{}_x1_l32_u1_sk0.csv\".format(gamma))\n",
    "fp_data = Nursery().preprocessed(fp_data=fingerprinted_data)\n",
    "#data = data.to_numpy()\n",
    "X_fp = fp_data.drop('target', axis=1)#.to_numpy()\n",
    "y_fp = fp_data['target']"
   ]
  },
  {
   "cell_type": "code",
   "execution_count": 9,
   "id": "85c2ba59",
   "metadata": {},
   "outputs": [
    {
     "data": {
      "text/plain": [
       "array([0.7037037 , 0.65856481, 0.73842593, 0.69239676, 0.67155538])"
      ]
     },
     "execution_count": 9,
     "metadata": {},
     "output_type": "execute_result"
    }
   ],
   "source": [
    "# baseline\n",
    "score_baseline = fp_cross_val_score(KNeighborsClassifier(), X, y, X_fp, y_fp, scoring='accuracy')['test_score']\n",
    "score_baseline"
   ]
  },
  {
   "cell_type": "code",
   "execution_count": 10,
   "id": "fd5ff0f8",
   "metadata": {},
   "outputs": [],
   "source": [
    "# this function will serve as a pipeline for cross validation attacked dataset\n",
    "def attack_cross_val_score(X, y, target, attack, attack_strength, n_folds=5):\n",
    "    accuracy = []\n",
    "    for fold in range(n_folds):\n",
    "        X_train, X_test, y_train, y_test = train_test_split(X, y, test_size=0.2, random_state=fold, shuffle=True)\n",
    "        train = pd.concat([X_train, y_train], axis=1)\n",
    "        attacked_train = attack.run(train, attack_strength, random_state=fold)\n",
    "        attacked_X = attacked_train.drop(target, axis=1)\n",
    "        attacked_y = attacked_train[target]\n",
    "        model = KNeighborsClassifier()\n",
    "        model.fit(attacked_X, attacked_y)\n",
    "        acc = accuracy_score(y_test, model.predict(X_test))\n",
    "        accuracy.append(acc)\n",
    "    return accuracy"
   ]
  },
  {
   "cell_type": "code",
   "execution_count": 11,
   "id": "bcb1ce40",
   "metadata": {},
   "outputs": [
    {
     "data": {
      "text/plain": [
       "[0.7334104938271605,\n",
       " 0.7118055555555556,\n",
       " 0.7345679012345679,\n",
       " 0.7291666666666666,\n",
       " 0.7322530864197531]"
      ]
     },
     "execution_count": 11,
     "metadata": {},
     "output_type": "execute_result"
    }
   ],
   "source": [
    "# random attack\n",
    "attack_utility_scores = attack_cross_val_score(X_fp, y_fp, 'target', HorizontalSubsetAttack(), 0.7)\n",
    "attack_utility_scores"
   ]
  },
  {
   "cell_type": "markdown",
   "id": "aa9fcba2",
   "metadata": {},
   "source": [
    "### Targeted attack"
   ]
  },
  {
   "cell_type": "code",
   "execution_count": 12,
   "id": "57e49191",
   "metadata": {},
   "outputs": [],
   "source": [
    "def targeted_attack_cross_val_score(X, y, attack_strength, n_folds=5, sampler_version=1, sampler_n_neighbors=3):\n",
    "    accuracy = []\n",
    "    for fold in range(n_folds):\n",
    "        X_train, X_test, y_train, y_test = train_test_split(X, y, test_size=0.2, random_state=fold, shuffle=True)\n",
    "        train = pd.concat([X_train, y_train], axis=1)\n",
    "        sampler = NearMiss(version=sampler_version, \n",
    "                           sampling_strategy=strategy(attack_strength, y_train), \n",
    "                           n_neighbors=sampler_n_neighbors)\n",
    "        #sampler = InstanceHardnessThreshold(estimator=GradientBoostingClassifier(),\n",
    "        #                                    sampling_strategy=strategy(attack_strength, y_train)) -- some internal error\n",
    "        attacked_X, attacked_y = sampler.fit_resample(X_train, y_train)\n",
    "        model = KNeighborsClassifier()\n",
    "        model.fit(attacked_X, attacked_y)\n",
    "        acc = accuracy_score(y_test, model.predict(X_test))\n",
    "        accuracy.append(acc)\n",
    "    return accuracy"
   ]
  },
  {
   "cell_type": "code",
   "execution_count": 13,
   "id": "732499c2",
   "metadata": {},
   "outputs": [],
   "source": [
    "def strategy(attack_strength, y):\n",
    "    strategy = y.value_counts() * (1-attack_strength)\n",
    "    strategy = {key: round(x) for key, x in strategy.items()}\n",
    "    return strategy"
   ]
  },
  {
   "cell_type": "code",
   "execution_count": 18,
   "id": "1a02f4e7",
   "metadata": {},
   "outputs": [
    {
     "data": {
      "text/plain": [
       "0.6371913580246915"
      ]
     },
     "execution_count": 18,
     "metadata": {},
     "output_type": "execute_result"
    }
   ],
   "source": [
    "# targeted attack\n",
    "attack_utility_scores = targeted_attack_cross_val_score(X_fp, y_fp, 0.7)\n",
    "attack_utility_scores\n",
    "np.mean(attack_utility_scores) # version 1 ###### the best (and the only one actually better than random)"
   ]
  },
  {
   "cell_type": "code",
   "execution_count": 19,
   "id": "f6f383a6",
   "metadata": {},
   "outputs": [
    {
     "name": "stdout",
     "output_type": "stream",
     "text": [
      "version 1\n",
      "{1: 0.657716049382716, 2: 0.6479938271604938, 3: 0.6371913580246915, 4: 0.6342592592592593, 5: 0.6308641975308642, 6: 0.6287037037037037, 7: 0.6272376543209877, 8: 0.6281635802469137, 9: 0.6255401234567901}\n",
      "0.657716049382716\n"
     ]
    }
   ],
   "source": [
    "# experimenting with the number of neighbors\n",
    "res = dict()\n",
    "for n in range(1, 10):\n",
    "    # targeted attack\n",
    "    attack_utility_scores = targeted_attack_cross_val_score(X_fp, y_fp, 0.7, sampler_n_neighbors=n) # 3 shows to be the best (default)\n",
    "    res[n] = np.mean(attack_utility_scores) # version 1 ###### the best (and the only one actually better than random)\n",
    "print('version 1')\n",
    "print(res)\n",
    "print(max(res.values()))"
   ]
  },
  {
   "cell_type": "code",
   "execution_count": 20,
   "id": "912578f9",
   "metadata": {},
   "outputs": [
    {
     "data": {
      "text/plain": [
       "0.71820987654321"
      ]
     },
     "execution_count": 20,
     "metadata": {},
     "output_type": "execute_result"
    }
   ],
   "source": [
    "# targeted attack\n",
    "attack_utility_scores = targeted_attack_cross_val_score(X_fp, y_fp, 0.7, sampler_version=2)\n",
    "attack_utility_scores\n",
    "np.mean(attack_utility_scores) # version 2"
   ]
  },
  {
   "cell_type": "code",
   "execution_count": 21,
   "id": "f6cad1e8",
   "metadata": {},
   "outputs": [
    {
     "data": {
      "text/plain": [
       "0.5409722222222222"
      ]
     },
     "execution_count": 21,
     "metadata": {},
     "output_type": "execute_result"
    }
   ],
   "source": [
    "# targeted attack\n",
    "attack_utility_scores = targeted_attack_cross_val_score(X_fp, y_fp, 0.7, sampler_version=3)\n",
    "np.mean(attack_utility_scores) # version 3"
   ]
  },
  {
   "cell_type": "markdown",
   "id": "81bee505",
   "metadata": {},
   "source": [
    "Here update the targeted_attack_cross_val_score with the best strategy."
   ]
  },
  {
   "cell_type": "code",
   "execution_count": 22,
   "id": "3ddfe764",
   "metadata": {},
   "outputs": [],
   "source": [
    "with open('parameter_guidelines/Nursery/evaluation/robustness_horizontal_universal_c95_e30.pickle', 'rb') as infile:\n",
    "    robustness = pickle.load(infile)"
   ]
  },
  {
   "cell_type": "code",
   "execution_count": 23,
   "id": "241cd4e8",
   "metadata": {},
   "outputs": [
    {
     "data": {
      "text/plain": [
       "{1: 0.9,\n",
       " 1.11: 0.9,\n",
       " 1.25: 0.9,\n",
       " 1.43: 0.9,\n",
       " 1.67: 0.9,\n",
       " 2: 0.9,\n",
       " 2.5: 0.9,\n",
       " 3: 0.9,\n",
       " 4: 0.9,\n",
       " 5: 0.9,\n",
       " 10: 0.8,\n",
       " 18: 0.6}"
      ]
     },
     "execution_count": 23,
     "metadata": {},
     "output_type": "execute_result"
    }
   ],
   "source": [
    "robustness"
   ]
  },
  {
   "cell_type": "code",
   "execution_count": 24,
   "id": "18794645",
   "metadata": {},
   "outputs": [
    {
     "name": "stdout",
     "output_type": "stream",
     "text": [
      "1 0.9\n",
      "1.11 0.9\n",
      "1.25 0.9\n",
      "1.43 0.9\n",
      "1.67 0.9\n",
      "2 0.9\n",
      "2.5 0.9\n",
      "3 0.9\n",
      "4 0.9\n",
      "5 0.9\n",
      "10 0.8\n",
      "18 0.6\n"
     ]
    }
   ],
   "source": [
    "fpattr=8\n",
    "n_exp = 10\n",
    "results = {gamma: [] for gamma in robustness}\n",
    "for gamma, attack_strength in robustness.items():\n",
    "    print(gamma, attack_strength)\n",
    "    for exp in range(n_exp):\n",
    "        # take one fp ds\n",
    "        fp_dir = \"parameter_guidelines/fingerprinted_data/nursery/attr_subset_{}/\".format(fpattr)\n",
    "        fingerprinted_data = pd.read_csv(fp_dir + \"universal_g{}_x1_l32_u1_sk{}.csv\".format(gamma, exp))\n",
    "        fp_data = Nursery().preprocessed(fp_data=fingerprinted_data)\n",
    "        #data = data.to_numpy()\n",
    "        X_fp = fp_data.drop('target', axis=1)#.to_numpy()\n",
    "        y_fp = fp_data['target']\n",
    "        \n",
    "        # calc baseline fp utility\n",
    "        score_baseline = fp_cross_val_score(KNeighborsClassifier(), X, y, X_fp, y_fp, scoring='accuracy')['test_score']\n",
    "\n",
    "        # calc attacked \n",
    "        attack_utility_scores = targeted_attack_cross_val_score(X_fp, y_fp, attack_strength, \n",
    "                                                                sampler_version=2, sampler_n_neighbors=1) # CHANGE HERE\n",
    "\n",
    "        # take relative loss\n",
    "        rel_loss = (score_baseline - attack_utility_scores) / score_baseline\n",
    "        results[gamma].append(rel_loss)"
   ]
  },
  {
   "cell_type": "code",
   "execution_count": 25,
   "id": "8a9f7ea3",
   "metadata": {},
   "outputs": [
    {
     "data": {
      "text/plain": [
       "{1: [array([ 0.02576754, -0.01874634,  0.08881923,  0.01988775,  0.02279095]),\n",
       "  array([ 0.08373852, -0.04374241,  0.09546166,  0.0117386 ,  0.04726037]),\n",
       "  array([0.08842795, 0.04456019, 0.14858841, 0.04758033, 0.04996758]),\n",
       "  array([ 0.06287921, -0.02344666,  0.08227176,  0.0748843 ,  0.06911277]),\n",
       "  array([ 0.06554713, -0.07321538,  0.1032419 ,  0.00996497,  0.03636742]),\n",
       "  array([0.06883044, 0.03358425, 0.13863405, 0.02586844, 0.04165947]),\n",
       "  array([ 0.09199782, -0.02248521,  0.09560327,  0.01822578,  0.05931745]),\n",
       "  array([ 0.07921867, -0.00059312,  0.11973279,  0.07303382,  0.06766753]),\n",
       "  array([ 0.08915145, -0.01305638,  0.12899949,  0.00745438,  0.05131062]),\n",
       "  array([ 0.02847755, -0.05791045,  0.10311383,  0.01006316,  0.01681937])],\n",
       " 1.11: [array([ 0.02351011, -0.01275362,  0.08423773,  0.02203208,  0.01348616]),\n",
       "  array([ 0.07515991, -0.04620061,  0.08367347,  0.01381847,  0.02411887]),\n",
       "  array([0.06688596, 0.00584112, 0.13483146, 0.01546119, 0.01123256]),\n",
       "  array([0.03608529, 0.00057604, 0.09403905, 0.0081219 , 0.02103668]),\n",
       "  array([ 0.04881974, -0.11547912,  0.10427011, -0.00975113,  0.0093309 ]),\n",
       "  array([ 0.04679666,  0.00057803,  0.11761736, -0.00019301,  0.02695926]),\n",
       "  array([ 0.0995671 , -0.02797619,  0.11761711,  0.01240865,  0.04309962]),\n",
       "  array([ 0.06189451, -0.00825959,  0.09025271,  0.05135763,  0.05663871]),\n",
       "  array([ 0.06812134, -0.00529412,  0.12921066,  0.02382342,  0.05569817]),\n",
       "  array([ 0.03488996, -0.04932472,  0.07798165,  0.00151467,  0.01172573])],\n",
       " 1.25: [array([ 0.04280364, -0.04587689,  0.06549768, -0.01411753, -0.01615088]),\n",
       "  array([ 0.05929063, -0.07635919,  0.08691258, -0.01188625, -0.02854741]),\n",
       "  array([ 0.02896175, -0.02825191,  0.12554958, -0.00415532, -0.01105143]),\n",
       "  array([ 0.00766703, -0.02678063,  0.07820383,  0.0003858 , -0.00017264]),\n",
       "  array([ 0.04478398, -0.08535862,  0.10170316, -0.01646163, -0.02114784]),\n",
       "  array([ 0.01944444, -0.01263642,  0.09944751, -0.03311097, -0.00414246]),\n",
       "  array([ 0.0713128 , -0.04572447,  0.09150991, -0.01942007, -0.00072242]),\n",
       "  array([ 0.04301075, -0.04594272,  0.08587398,  0.02295046,  0.01339719]),\n",
       "  array([ 0.06403415, -0.02982456,  0.0930824 ,  0.00945774,  0.04521155]),\n",
       "  array([ 0.04135338, -0.04537622,  0.07591755, -0.02471612, -0.01160957])],\n",
       " 1.43: [array([ 0.0133547 , -0.06828704,  0.0519415 , -0.01946313, -0.03251864]),\n",
       "  array([ 0.05315268, -0.11590629,  0.06831984, -0.02400855, -0.04800099]),\n",
       "  array([ 0.00921909, -0.04572098,  0.11331719, -0.04797345, -0.03022052]),\n",
       "  array([-0.0135428 , -0.04584041,  0.08529412, -0.0264826 , -0.03090452]),\n",
       "  array([ 0.04692388, -0.09976387,  0.08421559, -0.03004214, -0.03437843]),\n",
       "  array([-0.00604396, -0.01436782,  0.09095403, -0.04497191, -0.0090813 ]),\n",
       "  array([ 0.05172414, -0.06489676,  0.06717172, -0.03770573, -0.03093801]),\n",
       "  array([ 0.03457447, -0.0777512 ,  0.07591093,  0.00375908, -0.00701875]),\n",
       "  array([ 0.03533191, -0.03464203,  0.0794369 , -0.02678378,  0.03034094]),\n",
       "  array([ 0.02565473, -0.06408776,  0.08603736, -0.04047189, -0.02550511])],\n",
       " 1.67: [array([-0.02403846, -0.09971182,  0.03344983, -0.03787171, -0.07227213]),\n",
       "  array([ 0.0266597 , -0.14380665,  0.0513834 , -0.0557723 , -0.09725093]),\n",
       "  array([-0.00375335, -0.07755102,  0.0949185 , -0.03825475, -0.05685064]),\n",
       "  array([-0.0176565 , -0.05132544,  0.0656054 , -0.04352915, -0.05660729]),\n",
       "  array([ 0.04831933, -0.10718492,  0.08193579, -0.01983111, -0.05070181]),\n",
       "  array([-0.04525386, -0.04121351,  0.07542579, -0.05110608, -0.05642964]),\n",
       "  array([ 0.011771  , -0.08782201,  0.03484848, -0.06184032, -0.05851309]),\n",
       "  array([ 0.01688654, -0.11714976,  0.08428928, -0.0386926 , -0.02591983]),\n",
       "  array([ 0.00702323, -0.10482921,  0.03546454, -0.04502572, -0.0557723 ]),\n",
       "  array([-0.00532198, -0.08969907,  0.07823961, -0.05610209, -0.00936125])],\n",
       " 2: [array([-0.01685985, -0.11730546,  0.03940887, -0.06274195, -0.06458912]),\n",
       "  array([ 0.00156169, -0.19035998,  0.02600589, -0.10086219, -0.13687293]),\n",
       "  array([-0.04198062, -0.12514552,  0.08553875, -0.056259  , -0.10240526]),\n",
       "  array([-0.04683342, -0.07970605,  0.03411821, -0.09262701, -0.10002187]),\n",
       "  array([ 0.04618578, -0.14580874,  0.06426859, -0.0725621 , -0.10948068]),\n",
       "  array([-0.0393319 , -0.07413696,  0.0528613 , -0.07784977, -0.08310215]),\n",
       "  array([-0.02119767, -0.12602579,  0.03019802, -0.09866996, -0.08172143]),\n",
       "  array([ 0.00826873, -0.13758189,  0.0798237 , -0.09814351, -0.05834795]),\n",
       "  array([ 0.00422833, -0.15180154,  0.02673267, -0.11880783, -0.1062013 ]),\n",
       "  array([ 0.00988554, -0.10809249,  0.07391304, -0.07983015, -0.06215927])],\n",
       " 2.5: [array([-0.05210526, -0.16159251,  0.03970944, -0.10319539, -0.09148848]),\n",
       "  array([-0.04443283, -0.16403046,  0.02380952, -0.13406855, -0.16227502]),\n",
       "  array([-0.07059448, -0.13636364,  0.07771056, -0.07491265, -0.12542771]),\n",
       "  array([-0.0512685 , -0.12521739,  0.01396245, -0.09073329, -0.09996157]),\n",
       "  array([-0.01871102, -0.13451631,  0.02872188, -0.06647257, -0.11665048]),\n",
       "  array([-0.06283566, -0.09540034,  0.05476865, -0.11131567, -0.11794508]),\n",
       "  array([-0.00208768, -0.14509332,  0.05275895, -0.10382327, -0.094737  ]),\n",
       "  array([-0.01376849, -0.16934046,  0.06609605, -0.11226281, -0.11434265]),\n",
       "  array([-0.02885624, -0.21836983,  0.00392542, -0.15084523, -0.12940465]),\n",
       "  array([-0.0300986 , -0.19890177,  0.0270793 , -0.12610513, -0.09588964])],\n",
       " 3: [array([-0.11868958, -0.20357143,  0.0385898 , -0.0966853 , -0.12202714]),\n",
       "  array([-0.03534836, -0.1941349 ,  0.01101533, -0.1168597 , -0.17202053]),\n",
       "  array([-0.07150313, -0.19894366,  0.00857143, -0.0993576 , -0.15649416]),\n",
       "  array([-0.06263158, -0.18430233,  0.01788235, -0.11947993, -0.11147448]),\n",
       "  array([-0.03202479, -0.17728055,  0.02278121, -0.08070783, -0.15300622]),\n",
       "  array([-0.05207226, -0.12385321,  0.05901639, -0.12676558, -0.1408885 ]),\n",
       "  array([-0.03392484, -0.13925501,  0.03386551, -0.14200775, -0.13821379]),\n",
       "  array([-0.03867973, -0.20191732,  0.04368471, -0.12207406, -0.13703977]),\n",
       "  array([-0.0400416 , -0.21522782, -0.00924574, -0.16062206, -0.14882709]),\n",
       "  array([-0.04278351, -0.19198565,  0.03222749, -0.12415085, -0.09575196])],\n",
       " 4: [array([-0.12821888, -0.19846879,  0.05117371, -0.13865195, -0.16353092]),\n",
       "  array([-0.01551552, -0.2205006 ,  0.01169317, -0.15868178, -0.18100039]),\n",
       "  array([-0.05659398, -0.17738232,  0.02194211, -0.12647989, -0.17422177]),\n",
       "  array([-0.06948798, -0.20092379,  0.01758445, -0.12959667, -0.11740657]),\n",
       "  array([-0.04808184, -0.17482916,  0.01696513, -0.10803222, -0.17922341]),\n",
       "  array([-0.07195767, -0.1498829 ,  0.05236092, -0.13136369, -0.1287934 ]),\n",
       "  array([-0.03513238, -0.23902439,  0.01045627, -0.17454668, -0.17436407]),\n",
       "  array([-0.05603668, -0.15795455,  0.01913206, -0.12429375, -0.15980152]),\n",
       "  array([-0.03492553, -0.20011772,  0.01330166, -0.13617654, -0.13743476]),\n",
       "  array([-0.04290092, -0.26764886,  0.02722063, -0.14402164, -0.13770069])],\n",
       " 5: [array([-0.1061246 , -0.23841463,  0.04607428, -0.18420205, -0.19661846]),\n",
       "  array([-0.00497512, -0.22215605,  0.02700186, -0.17321666, -0.21739758]),\n",
       "  array([-0.0506012 , -0.2287234 , -0.01375712, -0.21430797, -0.19577352]),\n",
       "  array([-0.08611691, -0.21931355,  0.0083682 , -0.1465679 , -0.12709968]),\n",
       "  array([-0.034     , -0.20659722,  0.02808989, -0.16148354, -0.20604994]),\n",
       "  array([-0.05417957, -0.16814159,  0.0397382 , -0.16219513, -0.14472849]),\n",
       "  array([-0.0204693 , -0.28128872, -0.00952381, -0.17971466, -0.19907981]),\n",
       "  array([-0.05642317, -0.18484501,  0.01032379, -0.14374717, -0.14194519]),\n",
       "  array([-0.04613019, -0.17321937,  0.00659444, -0.14085213, -0.13071114]),\n",
       "  array([-0.05281869, -0.21896956,  0.01124649, -0.17162758, -0.13984392])],\n",
       " 10: [array([-0.13229167, -0.34938272, -0.02570093, -0.2214387 , -0.20538467]),\n",
       "  array([-0.05164781, -0.22197055, -0.00921234, -0.24543054, -0.25570419]),\n",
       "  array([-0.06666667, -0.25819436,  0.00600462, -0.18161066, -0.2387892 ]),\n",
       "  array([-0.11804472, -0.29797378, -0.00606061, -0.19113417, -0.17102327]),\n",
       "  array([-0.11797753, -0.24141812, -0.03310023, -0.16541172, -0.23737554]),\n",
       "  array([-0.08163265, -0.23389437,  0.00092464, -0.17813623, -0.19174213]),\n",
       "  array([-0.06943057, -0.36591479, -0.03160377, -0.23794417, -0.19620499]),\n",
       "  array([-0.15180467, -0.30985075,  0.00638978, -0.18076699, -0.18126394]),\n",
       "  array([-0.07700101, -0.24757558, -0.00693802, -0.16314805, -0.19315886]),\n",
       "  array([-0.1056338 , -0.34340321, -0.01998141, -0.27160225, -0.22751721])],\n",
       " 18: [array([-0.14871795, -0.4017199 , -0.057434  , -0.28734718, -0.2398955 ]),\n",
       "  array([-0.15154587, -0.26966292, -0.06786704, -0.23058566, -0.2574007 ]),\n",
       "  array([-0.14256825, -0.31454859, -0.05491463, -0.23853298, -0.27791588]),\n",
       "  array([-0.16137428, -0.37264438, -0.05563347, -0.23236347, -0.22772144]),\n",
       "  array([-0.16183206, -0.29585463, -0.07526882, -0.22608506, -0.27653435]),\n",
       "  array([-0.15435897, -0.31711606, -0.02678166, -0.22187115, -0.20741736]),\n",
       "  array([-0.13410347, -0.32173913, -0.05365402, -0.21694514, -0.22024488]),\n",
       "  array([-0.20707871, -0.32465278, -0.04764086, -0.22966687, -0.24086248]),\n",
       "  array([-0.12419275, -0.3936624 , -0.08530806, -0.28973211, -0.27335815]),\n",
       "  array([-0.14765101, -0.42712294, -0.06450116, -0.30235117, -0.24470927])]}"
      ]
     },
     "execution_count": 25,
     "metadata": {},
     "output_type": "execute_result"
    }
   ],
   "source": [
    "results"
   ]
  },
  {
   "cell_type": "code",
   "execution_count": 26,
   "id": "7fe3bf6a",
   "metadata": {},
   "outputs": [],
   "source": [
    "with open('parameter_guidelines/Nursery/evaluation/rel_undersampling_attack_utilities_knn_fpattr{}_e{}.pkl'.format(fpattr, n_exp), 'wb') as outfile:\n",
    "    pickle.dump(results, outfile)"
   ]
  }
 ],
 "metadata": {
  "kernelspec": {
   "display_name": "Python3-FP",
   "language": "python",
   "name": "python3"
  },
  "language_info": {
   "codemirror_mode": {
    "name": "ipython",
    "version": 3
   },
   "file_extension": ".py",
   "mimetype": "text/x-python",
   "name": "python",
   "nbconvert_exporter": "python",
   "pygments_lexer": "ipython3",
   "version": "3.8.8"
  }
 },
 "nbformat": 4,
 "nbformat_minor": 5
}
