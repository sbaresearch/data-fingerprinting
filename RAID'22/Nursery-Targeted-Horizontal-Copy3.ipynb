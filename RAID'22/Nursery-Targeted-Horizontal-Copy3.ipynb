{
 "cells": [
  {
   "cell_type": "code",
   "execution_count": 5,
   "id": "d7807df6",
   "metadata": {},
   "outputs": [],
   "source": [
    "import os\n",
    "os.chdir(\"C:\\\\Users\\\\tsarcevic\\\\PycharmProjects\\\\fingerprinting-toolbox\")\n",
    "import warnings\n",
    "warnings.filterwarnings('ignore')"
   ]
  },
  {
   "cell_type": "code",
   "execution_count": 7,
   "id": "ef3db0e6",
   "metadata": {},
   "outputs": [],
   "source": [
    "import pickle\n",
    "import numpy as np\n",
    "import pandas as pd\n",
    "import collections\n",
    "\n",
    "from sklearn.neighbors import LocalOutlierFactor\n",
    "from sklearn.model_selection import train_test_split, cross_val_score\n",
    "from sklearn.neural_network import MLPClassifier\n",
    "from sklearn.metrics import accuracy_score\n",
    "\n",
    "from scipy.stats import chi2\n",
    "from imblearn.under_sampling import *\n",
    "\n",
    "from datasets import GermanCredit\n",
    "from attacks import *\n",
    "from parameter_guidelines.guidelines import *"
   ]
  },
  {
   "cell_type": "code",
   "execution_count": 8,
   "id": "6895b246",
   "metadata": {
    "scrolled": true
   },
   "outputs": [],
   "source": [
    "# original data\n",
    "data = Nursery().preprocessed()\n",
    "X = data.drop('target', axis=1).to_numpy()\n",
    "y = data['target']"
   ]
  },
  {
   "cell_type": "code",
   "execution_count": 9,
   "id": "608066e1",
   "metadata": {},
   "outputs": [],
   "source": [
    "# fingerprinted data\n",
    "gamma=1\n",
    "fp_dir = \"parameter_guidelines/fingerprinted_data/nursery/attr_subset_8/\"\n",
    "fingerprinted_data = pd.read_csv(fp_dir + \"universal_g{}_x1_l32_u1_sk0.csv\".format(gamma))\n",
    "fp_data = Nursery().preprocessed(fp_data=fingerprinted_data)\n",
    "#data = data.to_numpy()\n",
    "X_fp = fp_data.drop('target', axis=1)#.to_numpy()\n",
    "y_fp = fp_data['target']"
   ]
  },
  {
   "cell_type": "code",
   "execution_count": 10,
   "id": "8f0e4a6b",
   "metadata": {},
   "outputs": [
    {
     "data": {
      "text/plain": [
       "array([0.78780864, 0.74421296, 0.79552469, 0.72867619, 0.7047472 ])"
      ]
     },
     "execution_count": 10,
     "metadata": {},
     "output_type": "execute_result"
    }
   ],
   "source": [
    "# baseline\n",
    "score_baseline = fp_cross_val_score(MLPClassifier(random_state=9), X, y, X_fp, y_fp, scoring='accuracy')['test_score']\n",
    "score_baseline"
   ]
  },
  {
   "cell_type": "code",
   "execution_count": 11,
   "id": "21db6ba9",
   "metadata": {},
   "outputs": [],
   "source": [
    "# this function will serve as a pipeline for cross validation attacked dataset\n",
    "def attack_cross_val_score(X, y, target, attack, attack_strength, n_folds=5):\n",
    "    accuracy = []\n",
    "    for fold in range(n_folds):\n",
    "        X_train, X_test, y_train, y_test = train_test_split(X, y, test_size=0.2, random_state=fold, shuffle=True)\n",
    "        train = pd.concat([X_train, y_train], axis=1)\n",
    "        attacked_train = attack.run(train, attack_strength, random_state=fold)\n",
    "        attacked_X = attacked_train.drop(target, axis=1)\n",
    "        attacked_y = attacked_train[target]\n",
    "        model = MLPClassifier()\n",
    "        model.fit(attacked_X, attacked_y)\n",
    "        acc = accuracy_score(y_test, model.predict(X_test))\n",
    "        accuracy.append(acc)\n",
    "    return accuracy"
   ]
  },
  {
   "cell_type": "code",
   "execution_count": 12,
   "id": "e277d56d",
   "metadata": {},
   "outputs": [
    {
     "data": {
      "text/plain": [
       "[0.8271604938271605,\n",
       " 0.8271604938271605,\n",
       " 0.841820987654321,\n",
       " 0.8209876543209876,\n",
       " 0.8233024691358025]"
      ]
     },
     "execution_count": 12,
     "metadata": {},
     "output_type": "execute_result"
    }
   ],
   "source": [
    "# random attack\n",
    "attack_utility_scores = attack_cross_val_score(X_fp, y_fp, 'target', HorizontalSubsetAttack(), 0.7)\n",
    "attack_utility_scores"
   ]
  },
  {
   "cell_type": "markdown",
   "id": "5ee5e91d",
   "metadata": {},
   "source": [
    "### Targeted attack"
   ]
  },
  {
   "cell_type": "code",
   "execution_count": 13,
   "id": "1b2005be",
   "metadata": {},
   "outputs": [],
   "source": [
    "def targeted_attack_cross_val_score(X, y, attack_strength, n_folds=5, sampler_version=1, sampler_n_neighbors=3):\n",
    "    accuracy = []\n",
    "    for fold in range(n_folds):\n",
    "        X_train, X_test, y_train, y_test = train_test_split(X, y, test_size=0.2, random_state=fold, shuffle=True)\n",
    "        train = pd.concat([X_train, y_train], axis=1)\n",
    "        sampler = NearMiss(version=sampler_version, \n",
    "                           sampling_strategy=strategy(attack_strength, y_train), \n",
    "                           n_neighbors=sampler_n_neighbors)\n",
    "        #sampler = InstanceHardnessThreshold(estimator=GradientBoostingClassifier(),\n",
    "        #                                    sampling_strategy=strategy(attack_strength, y_train)) -- some internal error\n",
    "        attacked_X, attacked_y = sampler.fit_resample(X_train, y_train)\n",
    "        model = MLPClassifier()\n",
    "        model.fit(attacked_X, attacked_y)\n",
    "        acc = accuracy_score(y_test, model.predict(X_test))\n",
    "        accuracy.append(acc)\n",
    "    return accuracy"
   ]
  },
  {
   "cell_type": "code",
   "execution_count": 14,
   "id": "6b77d540",
   "metadata": {},
   "outputs": [],
   "source": [
    "def strategy(attack_strength, y):\n",
    "    strategy = y.value_counts() * (1-attack_strength)\n",
    "    strategy = {key: round(x) for key, x in strategy.items()}\n",
    "    return strategy"
   ]
  },
  {
   "cell_type": "code",
   "execution_count": 15,
   "id": "4d686ff8",
   "metadata": {},
   "outputs": [
    {
     "data": {
      "text/plain": [
       "0.6749228395061728"
      ]
     },
     "execution_count": 15,
     "metadata": {},
     "output_type": "execute_result"
    }
   ],
   "source": [
    "# targeted attack\n",
    "attack_utility_scores = targeted_attack_cross_val_score(X_fp, y_fp, 0.7)\n",
    "attack_utility_scores\n",
    "np.mean(attack_utility_scores) # version 1 ###### the best (and the only one actually better than random)"
   ]
  },
  {
   "cell_type": "code",
   "execution_count": 16,
   "id": "f6662513",
   "metadata": {},
   "outputs": [
    {
     "name": "stdout",
     "output_type": "stream",
     "text": [
      "version 1\n",
      "{1: 0.7416666666666666, 2: 0.7162808641975309, 3: 0.6739197530864198, 4: 0.6619598765432099, 5: 0.6429783950617283, 6: 0.6366512345679013, 7: 0.6292438271604939, 8: 0.6227623456790123, 9: 0.6175925925925926}\n",
      "0.7416666666666666\n"
     ]
    }
   ],
   "source": [
    "# experimenting with the number of neighbors\n",
    "res = dict()\n",
    "for n in range(1, 10):\n",
    "    # targeted attack\n",
    "    attack_utility_scores = targeted_attack_cross_val_score(X_fp, y_fp, 0.7, sampler_n_neighbors=n) # 3 shows to be the best (default)\n",
    "    res[n] = np.mean(attack_utility_scores) # version 1 ###### the best (and the only one actually better than random)\n",
    "print('version 1')\n",
    "print(res)\n",
    "print(max(res.values()))"
   ]
  },
  {
   "cell_type": "code",
   "execution_count": 17,
   "id": "cadfa2d6",
   "metadata": {},
   "outputs": [
    {
     "data": {
      "text/plain": [
       "0.719212962962963"
      ]
     },
     "execution_count": 17,
     "metadata": {},
     "output_type": "execute_result"
    }
   ],
   "source": [
    "# targeted attack\n",
    "attack_utility_scores = targeted_attack_cross_val_score(X_fp, y_fp, 0.7, sampler_version=2)\n",
    "attack_utility_scores\n",
    "np.mean(attack_utility_scores) # version 2"
   ]
  },
  {
   "cell_type": "code",
   "execution_count": 18,
   "id": "b3d30875",
   "metadata": {},
   "outputs": [
    {
     "data": {
      "text/plain": [
       "0.6344135802469135"
      ]
     },
     "execution_count": 18,
     "metadata": {},
     "output_type": "execute_result"
    }
   ],
   "source": [
    "# targeted attack\n",
    "attack_utility_scores = targeted_attack_cross_val_score(X_fp, y_fp, 0.7, sampler_version=3)\n",
    "np.mean(attack_utility_scores) # version 3"
   ]
  },
  {
   "cell_type": "markdown",
   "id": "dbeecf9a",
   "metadata": {},
   "source": [
    "Here update the targeted_attack_cross_val_score with the best strategy."
   ]
  },
  {
   "cell_type": "code",
   "execution_count": 19,
   "id": "c713c203",
   "metadata": {},
   "outputs": [],
   "source": [
    "with open('parameter_guidelines/Nursery/evaluation/robustness_horizontal_universal_c95_e30.pickle', 'rb') as infile:\n",
    "    robustness = pickle.load(infile)"
   ]
  },
  {
   "cell_type": "code",
   "execution_count": 20,
   "id": "17bc9050",
   "metadata": {},
   "outputs": [
    {
     "data": {
      "text/plain": [
       "{1: 0.9,\n",
       " 1.11: 0.9,\n",
       " 1.25: 0.9,\n",
       " 1.43: 0.9,\n",
       " 1.67: 0.9,\n",
       " 2: 0.9,\n",
       " 2.5: 0.9,\n",
       " 3: 0.9,\n",
       " 4: 0.9,\n",
       " 5: 0.9,\n",
       " 10: 0.8,\n",
       " 18: 0.6}"
      ]
     },
     "execution_count": 20,
     "metadata": {},
     "output_type": "execute_result"
    }
   ],
   "source": [
    "robustness"
   ]
  },
  {
   "cell_type": "code",
   "execution_count": 21,
   "id": "97edc2e9",
   "metadata": {},
   "outputs": [
    {
     "name": "stdout",
     "output_type": "stream",
     "text": [
      "1 0.9\n",
      "1.11 0.9\n",
      "1.25 0.9\n",
      "1.43 0.9\n",
      "1.67 0.9\n",
      "2 0.9\n",
      "2.5 0.9\n",
      "3 0.9\n",
      "4 0.9\n",
      "5 0.9\n",
      "10 0.8\n",
      "18 0.6\n"
     ]
    }
   ],
   "source": [
    "fpattr=8\n",
    "n_exp = 10\n",
    "results = {gamma: [] for gamma in robustness}\n",
    "for gamma, attack_strength in robustness.items():\n",
    "    print(gamma, attack_strength)\n",
    "    for exp in range(n_exp):\n",
    "        # take one fp ds\n",
    "        fp_dir = \"parameter_guidelines/fingerprinted_data/nursery/attr_subset_{}/\".format(fpattr)\n",
    "        fingerprinted_data = pd.read_csv(fp_dir + \"universal_g{}_x1_l32_u1_sk{}.csv\".format(gamma, exp))\n",
    "        fp_data = Nursery().preprocessed(fp_data=fingerprinted_data)\n",
    "        #data = data.to_numpy()\n",
    "        X_fp = fp_data.drop('target', axis=1)#.to_numpy()\n",
    "        y_fp = fp_data['target']\n",
    "        \n",
    "        # calc baseline fp utility\n",
    "        score_baseline = fp_cross_val_score(MLPClassifier(random_state=9), X, y, X_fp, y_fp, scoring='accuracy')['test_score']\n",
    "\n",
    "        # calc attacked \n",
    "        attack_utility_scores = targeted_attack_cross_val_score(X_fp, y_fp, attack_strength, \n",
    "                                                                sampler_version=1, sampler_n_neighbors=1) # CHANGE HERE\n",
    "\n",
    "        # take relative loss\n",
    "        rel_loss = (score_baseline - attack_utility_scores) / score_baseline\n",
    "        results[gamma].append(rel_loss)"
   ]
  },
  {
   "cell_type": "code",
   "execution_count": 22,
   "id": "f2e94ed6",
   "metadata": {},
   "outputs": [
    {
     "data": {
      "text/plain": [
       "{1: [array([ 0.125857  ,  0.08553655,  0.13870029,  0.02632918, -0.02917563]),\n",
       "  array([0.16523929, 0.15079365, 0.15549077, 0.12626315, 0.12219876]),\n",
       "  array([0.13246362, 0.10638298, 0.14690841, 0.0520806 , 0.12248034]),\n",
       "  array([0.18722574, 0.05687974, 0.16960457, 0.09819751, 0.10643731]),\n",
       "  array([0.16402116, 0.03161398, 0.17903734, 0.11717746, 0.04322641]),\n",
       "  array([0.22677866, 0.17080745, 0.24603534, 0.15223976, 0.1347692 ]),\n",
       "  array([0.15560061, 0.08351293, 0.16286645, 0.07233606, 0.02963732]),\n",
       "  array([0.16068796, 0.07176532, 0.20046948, 0.1349596 , 0.00782852]),\n",
       "  array([0.19588123, 0.07302772, 0.1470726 , 0.05424077, 0.06059681]),\n",
       "  array([0.17706334, 0.07555089, 0.17633302, 0.10998144, 0.00599216])],\n",
       " 1.11: [array([ 0.11232063,  0.06059009,  0.12237094,  0.02217431, -0.04608215]),\n",
       "  array([0.14314214, 0.10907184, 0.1387422 , 0.12454841, 0.05316716]),\n",
       "  array([0.17241379, 0.12583806, 0.17896679, 0.06666457, 0.15013237]),\n",
       "  array([0.12940608, 0.0427027 , 0.13837375, 0.02147015, 0.0887093 ]),\n",
       "  array([0.13339731, 0.03677664, 0.15574897, 0.11208317, 0.05915463]),\n",
       "  array([0.17776665, 0.21104742, 0.28815122, 0.18922573, 0.12924446]),\n",
       "  array([0.14710253, 0.06131308, 0.17198336, 0.07416815, 0.02574242]),\n",
       "  array([0.14025591, 0.08251168, 0.18467221, 0.07502366, 0.03763851]),\n",
       "  array([0.19164265, 0.09607219, 0.15610438, 0.05549133, 0.04312333]),\n",
       "  array([0.18062088, 0.06311946, 0.13980492, 0.08880121, 0.00657362])],\n",
       " 1.25: [array([ 0.12663755,  0.07257646,  0.09832134, -0.00988051, -0.01945219]),\n",
       "  array([0.17611641, 0.07964135, 0.16036381, 0.15888036, 0.0742331 ]),\n",
       "  array([0.11218274, 0.05164067, 0.15709692, 0.0231928 , 0.06827132]),\n",
       "  array([0.1374637 , 0.12426978, 0.1063327 , 0.03299354, 0.07163822]),\n",
       "  array([0.13141487, 0.03588645, 0.13321251, 0.06289425, 0.03289358]),\n",
       "  array([0.20437956, 0.22315348, 0.25034835, 0.17707437, 0.13549849]),\n",
       "  array([ 0.16446402,  0.07966457,  0.16324669,  0.05789785, -0.02576689]),\n",
       "  array([ 0.17002882,  0.09802931,  0.16837687,  0.06932471, -0.00074179]),\n",
       "  array([0.16579323, 0.1093011 , 0.13193117, 0.04974277, 0.06375715]),\n",
       "  array([ 0.13733906,  0.06155451,  0.12226871,  0.06041485, -0.03626108])],\n",
       " 1.43: [array([ 0.09202756,  0.08413098,  0.09948861,  0.00882582, -0.06788608]),\n",
       "  array([0.21238938, 0.10864979, 0.15282555, 0.11849878, 0.12400547]),\n",
       "  array([0.17018072, 0.08681842, 0.1871899 , 0.06163131, 0.08072754]),\n",
       "  array([ 0.14542802,  0.17685235,  0.16014898,  0.03827828, -0.00710194]),\n",
       "  array([0.171875  , 0.04331551, 0.14934773, 0.10528038, 0.07910806]),\n",
       "  array([0.19343946, 0.20565553, 0.22694064, 0.17635572, 0.12995521]),\n",
       "  array([0.18951419, 0.07575758, 0.14345211, 0.03938174, 0.00540339]),\n",
       "  array([ 0.15488215,  0.08161209,  0.14480489,  0.07205029, -0.01912446]),\n",
       "  array([0.18351188, 0.0995829 , 0.1       , 0.06125096, 0.08507073]),\n",
       "  array([0.12782316, 0.07680492, 0.15395158, 0.05568585, 0.0003858 ])],\n",
       " 1.67: [array([ 1.12068966e-01,  1.25062035e-01,  1.50483203e-01, -1.43934784e-04,\n",
       "         -1.81659894e-02]),\n",
       "  array([0.19491939, 0.04240838, 0.12452107, 0.11911591, 0.09027527]),\n",
       "  array([ 0.11353269,  0.05336788,  0.16037317,  0.01605543, -0.03604928]),\n",
       "  array([0.13468992, 0.07131783, 0.12568306, 0.04673251, 0.02299675]),\n",
       "  array([0.14653938, 0.02471083, 0.13564669, 0.14056627, 0.03439713]),\n",
       "  array([0.14953271, 0.20319752, 0.22207207, 0.16951906, 0.13184192]),\n",
       "  array([0.17867435, 0.08105318, 0.13146853, 0.03126819, 0.03017563]),\n",
       "  array([ 0.1220339 ,  0.12174767,  0.17300557,  0.06491173, -0.03732487]),\n",
       "  array([ 0.17292162,  0.05174234,  0.16049954, -0.01702321,  0.0043638 ]),\n",
       "  array([ 0.13713478,  0.05598356,  0.12777778,  0.04796185, -0.0338899 ])],\n",
       " 2: [array([ 0.16319773,  0.15007146,  0.12929849,  0.03214438, -0.00740629]),\n",
       "  array([0.18835616, 0.08010471, 0.20833333, 0.09078204, 0.11168961]),\n",
       "  array([ 0.11049724,  0.06717557,  0.14412417,  0.05812716, -0.06637436]),\n",
       "  array([0.1627685 , 0.0754522 , 0.12879819, 0.01544493, 0.02269388]),\n",
       "  array([0.14525407, 0.05064599, 0.12572968, 0.07816861, 0.09793472]),\n",
       "  array([0.22330097, 0.1884347 , 0.22934537, 0.1680327 , 0.11440603]),\n",
       "  array([0.19373219, 0.08277289, 0.12794457, 0.02713681, 0.04070638]),\n",
       "  array([ 0.14534884,  0.07311089,  0.17208238,  0.0507415 , -0.02133252]),\n",
       "  array([ 0.17278719,  0.04518873,  0.16391185,  0.02320308, -0.03763346]),\n",
       "  array([ 0.15944056,  0.10613682,  0.13093066,  0.08802733, -0.01141403])],\n",
       " 2.5: [array([ 0.1316166 ,  0.20381573,  0.14266055, -0.02711681, -0.03269173]),\n",
       "  array([0.21082353, 0.10067814, 0.23513514, 0.1863244 , 0.14227341]),\n",
       "  array([ 0.04895833,  0.05002527,  0.10607434,  0.05949162, -0.08185711]),\n",
       "  array([ 0.10203095,  0.10886076,  0.13134058,  0.00501365, -0.04803469]),\n",
       "  array([0.05211406, 0.06578947, 0.12880143, 0.0304375 , 0.02645344]),\n",
       "  array([0.17042607, 0.16908213, 0.19757521, 0.12148896, 0.07277356]),\n",
       "  array([0.21097852, 0.11758691, 0.18161232, 0.02051957, 0.05794099]),\n",
       "  array([ 0.10373243,  0.13616818,  0.17576318,  0.04926284, -0.04850212]),\n",
       "  array([ 0.13333333, -0.01954569,  0.11100875, -0.00672694, -0.0566527 ]),\n",
       "  array([0.12648034, 0.13609467, 0.14451383, 0.08917389, 0.01922554])],\n",
       " 3: [array([ 0.18363463,  0.15448276,  0.19301471,  0.04412222, -0.02704598]),\n",
       "  array([ 0.13205786,  0.02019679,  0.16487936,  0.07997792, -0.01659519]),\n",
       "  array([ 0.00632578,  0.03724207,  0.11086075,  0.10368784, -0.06096863]),\n",
       "  array([0.14017815, 0.1011874 , 0.0958352 , 0.03132262, 0.01644178]),\n",
       "  array([ 0.05966469,  0.07214429,  0.10590356,  0.00917703, -0.01357979]),\n",
       "  array([0.19362627, 0.25508755, 0.21276596, 0.1340521 , 0.13552795]),\n",
       "  array([0.16594308, 0.07755946, 0.15753735, 0.02108626, 0.05313873]),\n",
       "  array([ 0.11285574,  0.08974359,  0.16214975,  0.04866113, -0.01723825]),\n",
       "  array([ 0.15720319,  0.05315268,  0.19576004,  0.03756822, -0.02272666]),\n",
       "  array([ 0.14771668,  0.09731877,  0.12416257,  0.11310194, -0.00183064])],\n",
       " 4: [array([ 0.1202864 ,  0.13831776,  0.19955157,  0.01517143, -0.03655646]),\n",
       "  array([ 0.14411085, -0.05780989,  0.15961622,  0.11763074,  0.01547432]),\n",
       "  array([0.04624872, 0.11328125, 0.1601263 , 0.10175807, 0.00832825]),\n",
       "  array([0.12047059, 0.13773314, 0.15174239, 0.0553544 , 0.04855346]),\n",
       "  array([ 0.06185567,  0.064347  ,  0.10111857,  0.03533375, -0.02058898]),\n",
       "  array([0.17135802, 0.25034451, 0.21854008, 0.14624787, 0.09580097]),\n",
       "  array([ 0.11725768,  0.05943536,  0.14189794, -0.03604172,  0.01010128]),\n",
       "  array([0.14701671, 0.14696185, 0.18966313, 0.17512944, 0.00320162]),\n",
       "  array([0.16112412, 0.03856313, 0.14959929, 0.06873549, 0.02922083]),\n",
       "  array([ 0.11712552,  0.107109  ,  0.15468887,  0.05001559, -0.03545471])],\n",
       " 5: [array([ 0.08631378,  0.11452514,  0.17771883,  0.00402454, -0.06923907]),\n",
       "  array([ 0.12340842,  0.00588865,  0.18117543,  0.12564825, -0.02958597]),\n",
       "  array([ 0.09217302,  0.11921182,  0.1431135 ,  0.14199346, -0.04164649]),\n",
       "  array([ 0.12795751,  0.08634538,  0.16659243,  0.08858706, -0.08641698]),\n",
       "  array([0.17551622, 0.09705043, 0.15038271, 0.00961774, 0.02672031]),\n",
       "  array([0.20077595, 0.19663709, 0.19546485, 0.03719432, 0.04610858]),\n",
       "  array([0.25643382, 0.17281553, 0.18345324, 0.07466378, 0.13897227]),\n",
       "  array([ 0.09375   ,  0.16528163,  0.18325792,  0.12089957, -0.04342199]),\n",
       "  array([0.17753121, 0.08010076, 0.16320072, 0.07711525, 0.05121364]),\n",
       "  array([ 0.10376919,  0.10422671,  0.1586116 ,  0.02597756, -0.02273303])],\n",
       " 10: [array([ 0.13045434,  0.12602366,  0.08579336,  0.03926789, -0.06063873]),\n",
       "  array([ 0.01604033, -0.03891789,  0.02285714, -0.01197272, -0.12095166]),\n",
       "  array([-0.10446957,  0.05102041,  0.02041742, -0.02391206, -0.2510035 ]),\n",
       "  array([ 0.02739068,  0.04080675,  0.0448037 ,  0.03040868, -0.29213818]),\n",
       "  array([ 0.05901794,  0.04712279,  0.05097861, -0.01280559, -0.2231341 ]),\n",
       "  array([-0.03409091,  0.06987506,  0.08325833, -0.01229966, -0.19361254]),\n",
       "  array([ 0.07372842,  0.0642369 ,  0.02327704, -0.03195763, -0.11807863]),\n",
       "  array([-0.04638404, -0.01544221,  0.02264654, -0.04256637, -0.11973724]),\n",
       "  array([ 0.00338001,  0.00337838,  0.0743657 , -0.01877142, -0.12470253]),\n",
       "  array([-0.01570938,  0.00425935,  0.04958315, -0.05230396, -0.18218696])],\n",
       " 18: [array([ 0.01906874, -0.00314324, -0.0260274 , -0.12249703, -0.18999136]),\n",
       "  array([-0.06011184, -0.05213055, -0.02064119, -0.14128791, -0.2250591 ]),\n",
       "  array([-0.19372294, -0.04012915, -0.05819861, -0.06320051, -0.30259849]),\n",
       "  array([-0.01719331, -0.01530842,  0.01174935, -0.13356754, -0.29897933]),\n",
       "  array([-0.02190121, -0.00043975, -0.00577778, -0.07216684, -0.25810598]),\n",
       "  array([-0.24711697,  0.00043783, -0.01915367, -0.12172335, -0.36459102]),\n",
       "  array([-0.00779817,  0.00266193, -0.04456571, -0.10458098, -0.09745088]),\n",
       "  array([-0.07479752, -0.01678766, -0.04518753, -0.07087856, -0.23267642]),\n",
       "  array([-0.06047619, -0.05141269, -0.02424787, -0.08694018, -0.23898966]),\n",
       "  array([-0.12061295, -0.01833631, -0.02631579, -0.10784961, -0.31623673])]}"
      ]
     },
     "execution_count": 22,
     "metadata": {},
     "output_type": "execute_result"
    }
   ],
   "source": [
    "results"
   ]
  },
  {
   "cell_type": "code",
   "execution_count": 23,
   "id": "11b724db",
   "metadata": {},
   "outputs": [],
   "source": [
    "with open('parameter_guidelines/Nursery/evaluation/rel_undersampling_attack_utilities_mlp_fpattr{}_e{}.pkl'.format(fpattr, n_exp), 'wb') as outfile:\n",
    "    pickle.dump(results, outfile)"
   ]
  }
 ],
 "metadata": {
  "kernelspec": {
   "display_name": "Python3-FP",
   "language": "python",
   "name": "python3"
  },
  "language_info": {
   "codemirror_mode": {
    "name": "ipython",
    "version": 3
   },
   "file_extension": ".py",
   "mimetype": "text/x-python",
   "name": "python",
   "nbconvert_exporter": "python",
   "pygments_lexer": "ipython3",
   "version": "3.8.8"
  }
 },
 "nbformat": 4,
 "nbformat_minor": 5
}
