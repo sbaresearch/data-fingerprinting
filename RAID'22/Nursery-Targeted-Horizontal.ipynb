{
 "cells": [
  {
   "cell_type": "code",
   "execution_count": 1,
   "id": "bc37b543",
   "metadata": {},
   "outputs": [],
   "source": [
    "import os\n",
    "os.chdir(\"C:\\\\Users\\\\tsarcevic\\\\PycharmProjects\\\\fingerprinting-toolbox\")\n",
    "import warnings\n",
    "warnings.filterwarnings('ignore')"
   ]
  },
  {
   "cell_type": "code",
   "execution_count": 2,
   "id": "d9c611ef",
   "metadata": {},
   "outputs": [],
   "source": [
    "import pickle\n",
    "import numpy as np\n",
    "import pandas as pd\n",
    "import collections\n",
    "\n",
    "from sklearn.neighbors import LocalOutlierFactor\n",
    "from sklearn.model_selection import train_test_split, cross_val_score\n",
    "from sklearn.svm import SVC\n",
    "from sklearn.metrics import accuracy_score\n",
    "\n",
    "from scipy.stats import chi2\n",
    "from imblearn.under_sampling import *\n",
    "\n",
    "from datasets import GermanCredit\n",
    "from attacks import *\n",
    "from parameter_guidelines.guidelines import *"
   ]
  },
  {
   "cell_type": "code",
   "execution_count": 3,
   "id": "e00a783d",
   "metadata": {
    "scrolled": true
   },
   "outputs": [],
   "source": [
    "# original data\n",
    "data = Nursery().preprocessed()\n",
    "X = data.drop('target', axis=1).to_numpy()\n",
    "y = data['target']"
   ]
  },
  {
   "cell_type": "code",
   "execution_count": 4,
   "id": "726347bb",
   "metadata": {},
   "outputs": [],
   "source": [
    "# fingerprinted data\n",
    "gamma=1\n",
    "fp_dir = \"parameter_guidelines/fingerprinted_data/nursery/attr_subset_8/\"\n",
    "fingerprinted_data = pd.read_csv(fp_dir + \"universal_g{}_x1_l32_u1_sk0.csv\".format(gamma))\n",
    "fp_data = Nursery().preprocessed(fp_data=fingerprinted_data)\n",
    "#data = data.to_numpy()\n",
    "X_fp = fp_data.drop('target', axis=1)#.to_numpy()\n",
    "y_fp = fp_data['target']"
   ]
  },
  {
   "cell_type": "code",
   "execution_count": 5,
   "id": "ba4518e3",
   "metadata": {},
   "outputs": [
    {
     "data": {
      "text/plain": [
       "array([0.68942901, 0.80864198, 0.82445988, 0.8159012 , 0.6483983 ])"
      ]
     },
     "execution_count": 5,
     "metadata": {},
     "output_type": "execute_result"
    }
   ],
   "source": [
    "# baseline\n",
    "score_baseline = fp_cross_val_score(SVC(random_state=9), X, y, X_fp, y_fp, scoring='accuracy')['test_score']\n",
    "score_baseline"
   ]
  },
  {
   "cell_type": "code",
   "execution_count": 6,
   "id": "a22b6805",
   "metadata": {},
   "outputs": [],
   "source": [
    "# this function will serve as a pipeline for cross validation attacked dataset\n",
    "def attack_cross_val_score(X, y, target, attack, attack_strength, n_folds=5):\n",
    "    accuracy = []\n",
    "    for fold in range(n_folds):\n",
    "        X_train, X_test, y_train, y_test = train_test_split(X, y, test_size=0.2, random_state=fold, shuffle=True)\n",
    "        train = pd.concat([X_train, y_train], axis=1)\n",
    "        attacked_train = attack.run(train, attack_strength, random_state=fold)\n",
    "        attacked_X = attacked_train.drop(target, axis=1)\n",
    "        attacked_y = attacked_train[target]\n",
    "        model = SVC()\n",
    "        model.fit(attacked_X, attacked_y)\n",
    "        acc = accuracy_score(y_test, model.predict(X_test))\n",
    "        accuracy.append(acc)\n",
    "    return accuracy"
   ]
  },
  {
   "cell_type": "code",
   "execution_count": 7,
   "id": "f3022b18",
   "metadata": {},
   "outputs": [
    {
     "data": {
      "text/plain": [
       "[0.8263888888888888,\n",
       " 0.8190586419753086,\n",
       " 0.8306327160493827,\n",
       " 0.8132716049382716,\n",
       " 0.8194444444444444]"
      ]
     },
     "execution_count": 7,
     "metadata": {},
     "output_type": "execute_result"
    }
   ],
   "source": [
    "# random attack\n",
    "attack_utility_scores = attack_cross_val_score(X_fp, y_fp, 'target', HorizontalSubsetAttack(), 0.7)\n",
    "attack_utility_scores"
   ]
  },
  {
   "cell_type": "markdown",
   "id": "e3036807",
   "metadata": {},
   "source": [
    "### Targeted attack"
   ]
  },
  {
   "cell_type": "code",
   "execution_count": 8,
   "id": "23a464c7",
   "metadata": {},
   "outputs": [],
   "source": [
    "def targeted_attack_cross_val_score(X, y, attack_strength, n_folds=5, sampler_version=1, sampler_n_neighbors=3):\n",
    "    accuracy = []\n",
    "    for fold in range(n_folds):\n",
    "        X_train, X_test, y_train, y_test = train_test_split(X, y, test_size=0.2, random_state=fold, shuffle=True)\n",
    "        train = pd.concat([X_train, y_train], axis=1)\n",
    "        sampler = NearMiss(version=sampler_version, \n",
    "                           sampling_strategy=strategy(attack_strength, y_train), \n",
    "                           n_neighbors=sampler_n_neighbors)\n",
    "        #sampler = InstanceHardnessThreshold(estimator=GradientBoostingClassifier(),\n",
    "        #                                    sampling_strategy=strategy(attack_strength, y_train)) -- some internal error\n",
    "        attacked_X, attacked_y = sampler.fit_resample(X_train, y_train)\n",
    "        model = SVC()\n",
    "        model.fit(attacked_X, attacked_y)\n",
    "        acc = accuracy_score(y_test, model.predict(X_test))\n",
    "        accuracy.append(acc)\n",
    "    return accuracy"
   ]
  },
  {
   "cell_type": "code",
   "execution_count": 9,
   "id": "fda7dc77",
   "metadata": {},
   "outputs": [],
   "source": [
    "def strategy(attack_strength, y):\n",
    "    strategy = y.value_counts() * (1-attack_strength)\n",
    "    strategy = {key: round(x) for key, x in strategy.items()}\n",
    "    return strategy"
   ]
  },
  {
   "cell_type": "code",
   "execution_count": 14,
   "id": "f9d60bba",
   "metadata": {},
   "outputs": [
    {
     "data": {
      "text/plain": [
       "0.7334104938271604"
      ]
     },
     "execution_count": 14,
     "metadata": {},
     "output_type": "execute_result"
    }
   ],
   "source": [
    "# targeted attack\n",
    "attack_utility_scores = targeted_attack_cross_val_score(X_fp, y_fp, 0.7)\n",
    "attack_utility_scores\n",
    "np.mean(attack_utility_scores) # version 1 ###### the best (and the only one actually better than random)"
   ]
  },
  {
   "cell_type": "code",
   "execution_count": 15,
   "id": "af79c78b",
   "metadata": {},
   "outputs": [
    {
     "name": "stdout",
     "output_type": "stream",
     "text": [
      "version 1\n",
      "{1: 0.7689814814814815, 2: 0.7435956790123457, 3: 0.7334104938271604, 4: 0.7234567901234568, 5: 0.7002314814814815, 6: 0.6812500000000001, 7: 0.6749228395061728, 8: 0.6682098765432098, 9: 0.6604166666666667}\n",
      "0.7689814814814815\n"
     ]
    }
   ],
   "source": [
    "# experimenting with the number of neighbors\n",
    "res = dict()\n",
    "for n in range(1, 10):\n",
    "    # targeted attack\n",
    "    attack_utility_scores = targeted_attack_cross_val_score(X_fp, y_fp, 0.7, sampler_n_neighbors=n) # 3 shows to be the best (default)\n",
    "    res[n] = np.mean(attack_utility_scores) # version 1 ###### the best (and the only one actually better than random)\n",
    "print('version 1')\n",
    "print(res)\n",
    "print(max(res.values()))"
   ]
  },
  {
   "cell_type": "code",
   "execution_count": 16,
   "id": "618f9140",
   "metadata": {},
   "outputs": [
    {
     "data": {
      "text/plain": [
       "0.7657407407407407"
      ]
     },
     "execution_count": 16,
     "metadata": {},
     "output_type": "execute_result"
    }
   ],
   "source": [
    "# targeted attack\n",
    "attack_utility_scores = targeted_attack_cross_val_score(X_fp, y_fp, 0.7, sampler_version=2)\n",
    "attack_utility_scores\n",
    "np.mean(attack_utility_scores) # version 2"
   ]
  },
  {
   "cell_type": "code",
   "execution_count": 17,
   "id": "d2de0ee7",
   "metadata": {},
   "outputs": [
    {
     "data": {
      "text/plain": [
       "0.6665123456790123"
      ]
     },
     "execution_count": 17,
     "metadata": {},
     "output_type": "execute_result"
    }
   ],
   "source": [
    "# targeted attack\n",
    "attack_utility_scores = targeted_attack_cross_val_score(X_fp, y_fp, 0.7, sampler_version=3)\n",
    "np.mean(attack_utility_scores) # version 3"
   ]
  },
  {
   "cell_type": "markdown",
   "id": "232269c0",
   "metadata": {},
   "source": [
    "Here update the targeted_attack_cross_val_score with the best strategy."
   ]
  },
  {
   "cell_type": "code",
   "execution_count": 18,
   "id": "b2c481dc",
   "metadata": {},
   "outputs": [],
   "source": [
    "with open('parameter_guidelines/Nursery/evaluation/robustness_horizontal_universal_c95_e30.pickle', 'rb') as infile:\n",
    "    robustness = pickle.load(infile)"
   ]
  },
  {
   "cell_type": "code",
   "execution_count": 19,
   "id": "a32c0f08",
   "metadata": {},
   "outputs": [
    {
     "data": {
      "text/plain": [
       "{1: 0.9,\n",
       " 1.11: 0.9,\n",
       " 1.25: 0.9,\n",
       " 1.43: 0.9,\n",
       " 1.67: 0.9,\n",
       " 2: 0.9,\n",
       " 2.5: 0.9,\n",
       " 3: 0.9,\n",
       " 4: 0.9,\n",
       " 5: 0.9,\n",
       " 10: 0.8,\n",
       " 18: 0.6}"
      ]
     },
     "execution_count": 19,
     "metadata": {},
     "output_type": "execute_result"
    }
   ],
   "source": [
    "robustness"
   ]
  },
  {
   "cell_type": "code",
   "execution_count": 20,
   "id": "e94ef6ba",
   "metadata": {},
   "outputs": [
    {
     "name": "stdout",
     "output_type": "stream",
     "text": [
      "1 0.9\n",
      "1.11 0.9\n",
      "1.25 0.9\n",
      "1.43 0.9\n",
      "1.67 0.9\n",
      "2 0.9\n",
      "2.5 0.9\n",
      "3 0.9\n",
      "4 0.9\n",
      "5 0.9\n",
      "10 0.8\n",
      "18 0.6\n"
     ]
    }
   ],
   "source": [
    "fpattr=8\n",
    "n_exp = 10\n",
    "results = {gamma: [] for gamma in robustness}\n",
    "for gamma, attack_strength in robustness.items():\n",
    "    print(gamma, attack_strength)\n",
    "    for exp in range(n_exp):\n",
    "        # take one fp ds\n",
    "        fp_dir = \"parameter_guidelines/fingerprinted_data/nursery/attr_subset_{}/\".format(fpattr)\n",
    "        fingerprinted_data = pd.read_csv(fp_dir + \"universal_g{}_x1_l32_u1_sk{}.csv\".format(gamma, exp))\n",
    "        fp_data = Nursery().preprocessed(fp_data=fingerprinted_data)\n",
    "        #data = data.to_numpy()\n",
    "        X_fp = fp_data.drop('target', axis=1)#.to_numpy()\n",
    "        y_fp = fp_data['target']\n",
    "        \n",
    "        # calc baseline fp utility\n",
    "        score_baseline = fp_cross_val_score(SVC(random_state=9), X, y, X_fp, y_fp, scoring='accuracy')['test_score']\n",
    "\n",
    "        # calc attacked \n",
    "        attack_utility_scores = targeted_attack_cross_val_score(X_fp, y_fp, attack_strength, \n",
    "                                                                sampler_version=1, sampler_n_neighbors=1) # CHANGE HERE\n",
    "\n",
    "        # take relative loss\n",
    "        rel_loss = (score_baseline - attack_utility_scores) / score_baseline\n",
    "        results[gamma].append(rel_loss)"
   ]
  },
  {
   "cell_type": "code",
   "execution_count": 21,
   "id": "2867a788",
   "metadata": {},
   "outputs": [
    {
     "data": {
      "text/plain": [
       "{1: [array([-0.0201455 ,  0.14503817,  0.10622368,  0.09306526, -0.1126658 ]),\n",
       "  array([ 0.12911523,  0.25199437,  0.17194143,  0.23686381, -0.00256989]),\n",
       "  array([0.05075293, 0.17721519, 0.14312796, 0.17965933, 0.01936957]),\n",
       "  array([0.07194245, 0.15975203, 0.16705772, 0.23411704, 0.00681231]),\n",
       "  array([0.15697963, 0.15392109, 0.17589577, 0.20856062, 0.03357043]),\n",
       "  array([0.10825893, 0.26937442, 0.21947743, 0.29245027, 0.05486714]),\n",
       "  array([ 0.07066139,  0.175179  ,  0.1533269 ,  0.20498241, -0.00551511]),\n",
       "  array([ 0.07261641,  0.1532567 ,  0.19734974,  0.22142261, -0.01258854]),\n",
       "  array([0.125     , 0.17610063, 0.18190568, 0.18650445, 0.01736812]),\n",
       "  array([ 0.17497556,  0.15217391,  0.18327822,  0.19677183, -0.04640714])],\n",
       " 1.11: [array([-0.02927928,  0.14591255,  0.10858469,  0.1398341 , -0.10242826]),\n",
       "  array([ 0.11283644,  0.19375873,  0.15202232,  0.20795851, -0.05095212]),\n",
       "  array([0.03579418, 0.17768401, 0.16999536, 0.21235444, 0.08324624]),\n",
       "  array([ 0.0282167 ,  0.15526192,  0.14198972,  0.13244579, -0.01576492]),\n",
       "  array([0.11827411, 0.15700483, 0.17242969, 0.21535161, 0.04162497]),\n",
       "  array([0.07505643, 0.31133829, 0.23620934, 0.31241491, 0.061022  ]),\n",
       "  array([0.07001694, 0.18539592, 0.16451459, 0.21850076, 0.01095752]),\n",
       "  array([ 0.0590182 ,  0.1605874 ,  0.16775396,  0.19448108, -0.01667648]),\n",
       "  array([0.1042328 , 0.17131858, 0.14988067, 0.17729184, 0.00389733]),\n",
       "  array([ 0.13947633,  0.15280464,  0.17251052,  0.1726528 , -0.07059619])],\n",
       " 1.25: [array([-0.0417843 ,  0.13563327,  0.10844485,  0.1215227 , -0.10099856]),\n",
       "  array([ 0.08551577,  0.20562061,  0.19273229,  0.2440127 , -0.00373996]),\n",
       "  array([ 0.02464986,  0.14448669,  0.14819945,  0.16365457, -0.00723142]),\n",
       "  array([-0.02002288,  0.19830827,  0.1219286 ,  0.12142371, -0.06721816]),\n",
       "  array([ 0.0796875 ,  0.14333175,  0.15978212,  0.19984478, -0.00898375]),\n",
       "  array([0.05639308, 0.29953704, 0.22460391, 0.28405379, 0.04742647]),\n",
       "  array([ 0.06382979,  0.18259224,  0.165347  ,  0.21685072, -0.00485083]),\n",
       "  array([0.03765227, 0.16753678, 0.1641239 , 0.1993766 , 0.01323882]),\n",
       "  array([0.05248619, 0.1712627 , 0.14645744, 0.17474258, 0.05767363]),\n",
       "  array([ 0.07824726,  0.16340182,  0.15927978,  0.17461762, -0.07534255])],\n",
       " 1.43: [array([-0.07525656,  0.13088512,  0.10755149,  0.11578003, -0.09916328]),\n",
       "  array([0.12103594, 0.20595072, 0.23125852, 0.2464802 , 0.06220558]),\n",
       "  array([0.02936194, 0.17865538, 0.16376944, 0.21309925, 0.07642433]),\n",
       "  array([-0.05479452,  0.21820741,  0.13694268,  0.12632511, -0.10498827]),\n",
       "  array([0.07311941, 0.13565709, 0.1646369 , 0.2412124 , 0.0183603 ]),\n",
       "  array([0.04916201, 0.30779754, 0.21382488, 0.27262904, 0.08534715]),\n",
       "  array([ 0.04879417,  0.17910448,  0.13670412,  0.19918073, -0.04216337]),\n",
       "  array([ 0.03455964,  0.14597156,  0.16222426,  0.19171279, -0.00192678]),\n",
       "  array([-0.0084317 ,  0.16811175,  0.10985915,  0.17827137,  0.04914747]),\n",
       "  array([ 0.02116115,  0.14490674,  0.15177758,  0.16978039, -0.07134577])],\n",
       " 1.67: [array([-0.075     ,  0.15166976,  0.10735496,  0.10001979, -0.10027792]),\n",
       "  array([0.08885299, 0.1826611 , 0.18451845, 0.19716753, 0.00910337]),\n",
       "  array([0.01181102, 0.15417057, 0.15207581, 0.17113022, 0.01312712]),\n",
       "  array([-0.00506757,  0.16845544,  0.16049933,  0.12585653, -0.07923963]),\n",
       "  array([0.02714681, 0.1364486 , 0.15897895, 0.25246641, 0.02983717]),\n",
       "  array([0.02998334, 0.2746703 , 0.17959372, 0.26246563, 0.06249548]),\n",
       "  array([ 0.0790492 ,  0.17375231,  0.14908257,  0.17818833, -0.01455096]),\n",
       "  array([ 0.00389538,  0.12623646,  0.21986456,  0.18175815, -0.03226635]),\n",
       "  array([0.01340782, 0.14121589, 0.15593376, 0.14518973, 0.00853641]),\n",
       "  array([ 0.02466488,  0.16124402,  0.1642984 ,  0.1693737 , -0.07355355])],\n",
       " 2: [array([-0.03436807,  0.13851818,  0.12017937,  0.11058312, -0.11432402]),\n",
       "  array([0.11631664, 0.21105991, 0.21412606, 0.20971461, 0.06221165]),\n",
       "  array([ 0.02063581,  0.14218896,  0.14851045,  0.17309641, -0.00880077]),\n",
       "  array([-0.05875706,  0.21660482,  0.14058355,  0.07300145, -0.06294592]),\n",
       "  array([0.0463065 , 0.15069124, 0.15035907, 0.2341151 , 0.04629231]),\n",
       "  array([0.08959377, 0.27725011, 0.26015518, 0.26621118, 0.08093442]),\n",
       "  array([ 0.08876712,  0.20699172,  0.1724605 ,  0.20792298, -0.0007645 ]),\n",
       "  array([ 0.00613839,  0.14044944,  0.19627442,  0.18514208, -0.02079732]),\n",
       "  array([-0.00610433,  0.12269067,  0.14649682,  0.12933835, -0.04743705]),\n",
       "  array([ 0.06263383,  0.15998112,  0.18722467,  0.17309641, -0.07126086])],\n",
       " 2.5: [array([-0.0640884 ,  0.16507068,  0.10303301,  0.08597548, -0.1198467 ]),\n",
       "  array([0.06905782, 0.19539171, 0.26823843, 0.27698255, 0.07754299]),\n",
       "  array([-0.01845638,  0.11976048,  0.14316892,  0.17186582, -0.05717465]),\n",
       "  array([-0.07401224,  0.17911833,  0.12835165,  0.05678605, -0.12691015]),\n",
       "  array([-0.02444444,  0.16794582,  0.14050689,  0.17872502,  0.02093755]),\n",
       "  array([0.10415512, 0.25896057, 0.24230254, 0.26365868, 0.06404454]),\n",
       "  array([0.07277778, 0.21903461, 0.19848687, 0.22748709, 0.00960415]),\n",
       "  array([ 0.00334635,  0.14239029,  0.22307002,  0.23537483, -0.05324647]),\n",
       "  array([-0.00326087,  0.10731022,  0.11812081,  0.12597479, -0.07188243]),\n",
       "  array([0.03854506, 0.22304147, 0.191331  , 0.20131789, 0.01394756])],\n",
       " 3: [array([-0.00331858,  0.17291196,  0.19591293,  0.16500117, -0.09657447]),\n",
       "  array([ 0.02112676,  0.13592677,  0.21725664,  0.20945843, -0.00698933]),\n",
       "  array([-0.03419283,  0.12346241,  0.14054998,  0.20930108, -0.06102394]),\n",
       "  array([-0.06281267,  0.2124943 ,  0.12134439,  0.07132912, -0.11945431]),\n",
       "  array([-0.01396648,  0.15981941,  0.13062862,  0.14829024, -0.01907977]),\n",
       "  array([0.09170785, 0.27925532, 0.23547811, 0.2538414 , 0.10865347]),\n",
       "  array([ 0.06094183,  0.21293801,  0.17631463,  0.22512665, -0.00649622]),\n",
       "  array([ 0.00221239,  0.16302368,  0.21742997,  0.21876587, -0.0348479 ]),\n",
       "  array([ 0.        ,  0.12476723,  0.2       ,  0.15906937, -0.06165922]),\n",
       "  array([ 0.00708447,  0.18570778,  0.17675439,  0.19590263, -0.00973972])],\n",
       " 4: [array([-0.0441989 ,  0.1550874 ,  0.19451813,  0.14024952, -0.11112952]),\n",
       "  array([ 0.00815661,  0.12505643,  0.19542254,  0.20814518, -0.04484561]),\n",
       "  array([ 0.01995565,  0.17957904,  0.16659379,  0.22262349, -0.01605709]),\n",
       "  array([-0.04417449,  0.16885469,  0.15401396,  0.12953136, -0.05240473]),\n",
       "  array([-0.03652463,  0.1383452 ,  0.12362031,  0.1522835 ,  0.00437742]),\n",
       "  array([0.06472847, 0.26501767, 0.22791519, 0.25508202, 0.0826868 ]),\n",
       "  array([-0.01820188,  0.15933573,  0.1673951 ,  0.1461248 , -0.07826115]),\n",
       "  array([-0.01755348,  0.18570144,  0.23206377,  0.25370645, -0.03871475]),\n",
       "  array([-0.00490998,  0.11707543,  0.14594356,  0.1893653 ,  0.00494765]),\n",
       "  array([-0.0016331 ,  0.1598916 ,  0.20173913,  0.15364473, -0.04718822])],\n",
       " 5: [array([-0.07602664,  0.15566459,  0.14474846,  0.14377123, -0.11711472]),\n",
       "  array([-0.03683342,  0.11881188,  0.19122807,  0.18846811, -0.07428826]),\n",
       "  array([ 0.06080708,  0.21580817,  0.13100437,  0.2763919 , -0.07024833]),\n",
       "  array([-0.07801418,  0.16350497,  0.15714286,  0.10851386, -0.12074525]),\n",
       "  array([0.10254989, 0.21302037, 0.17431598, 0.16955128, 0.03128401]),\n",
       "  array([0.10381005, 0.2351901 , 0.21857205, 0.2123423 , 0.05547818]),\n",
       "  array([0.08560523, 0.20606601, 0.21080139, 0.21290577, 0.09141498]),\n",
       "  array([-0.02189381,  0.20619946,  0.20697264,  0.20703026, -0.04556695]),\n",
       "  array([0.006469  , 0.1564938 , 0.19582245, 0.21942295, 0.06812731]),\n",
       "  array([-0.04034896,  0.15230013,  0.14663774,  0.14033179, -0.09395981])],\n",
       " 10: [array([-0.09753425,  0.13007055,  0.10004388,  0.08954058, -0.14901461]),\n",
       "  array([-0.13057671,  0.05793897,  0.05724198,  0.03648925, -0.2067618 ]),\n",
       "  array([-0.12725287,  0.07519789,  0.06323084,  0.0419987 , -0.1937635 ]),\n",
       "  array([-0.11976048,  0.06222222,  0.06669554,  0.05113684, -0.17399822]),\n",
       "  array([-0.13245033,  0.0760774 ,  0.07229437,  0.05278311, -0.16734991]),\n",
       "  array([-0.1260274 ,  0.08661417,  0.0810928 ,  0.07404634, -0.16377206]),\n",
       "  array([-0.11111111,  0.07943513,  0.07235702,  0.05921326, -0.18280141]),\n",
       "  array([-0.11880109,  0.06803024,  0.06323594,  0.03715635, -0.18462412]),\n",
       "  array([-0.09719222,  0.06864065,  0.08652604,  0.05702759, -0.16076959]),\n",
       "  array([-0.1038819 ,  0.09289862,  0.08178278,  0.06744967, -0.16086048])],\n",
       " 18: [array([-0.15984724,  0.03672566,  0.03614983,  0.02205765, -0.21797927]),\n",
       "  array([-0.18644068,  0.02733686,  0.02931034,  0.00893721, -0.2427636 ]),\n",
       "  array([-0.15384615,  0.04052863,  0.04404145,  0.01077023, -0.22507834]),\n",
       "  array([-0.15692641,  0.03501773,  0.04778304,  0.01662502, -0.21329781]),\n",
       "  array([-0.15938865,  0.04342105,  0.05133736,  0.0256013 , -0.22112283]),\n",
       "  array([-0.18436984,  0.04591167,  0.04860215,  0.02338099, -0.22738867]),\n",
       "  array([-0.15513514,  0.04465849,  0.04639175,  0.01929742, -0.21606609]),\n",
       "  array([-0.15555556,  0.03818828,  0.03656944,  0.02166382, -0.22093723]),\n",
       "  array([-0.14886731,  0.03675819,  0.04733219,  0.02524059, -0.21738529]),\n",
       "  array([-0.18221495,  0.02446619,  0.04314064,  0.01255972, -0.2350163 ])]}"
      ]
     },
     "execution_count": 21,
     "metadata": {},
     "output_type": "execute_result"
    }
   ],
   "source": [
    "results"
   ]
  },
  {
   "cell_type": "code",
   "execution_count": 22,
   "id": "f2c135e2",
   "metadata": {},
   "outputs": [],
   "source": [
    "with open('parameter_guidelines/Nursery/evaluation/rel_undersampling_attack_utilities_svm_fpattr{}_e{}.pkl'.format(fpattr, n_exp), 'wb') as outfile:\n",
    "    pickle.dump(results, outfile)"
   ]
  }
 ],
 "metadata": {
  "kernelspec": {
   "display_name": "Python3-FP",
   "language": "python",
   "name": "python3"
  },
  "language_info": {
   "codemirror_mode": {
    "name": "ipython",
    "version": 3
   },
   "file_extension": ".py",
   "mimetype": "text/x-python",
   "name": "python",
   "nbconvert_exporter": "python",
   "pygments_lexer": "ipython3",
   "version": "3.8.8"
  }
 },
 "nbformat": 4,
 "nbformat_minor": 5
}
