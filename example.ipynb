{
 "cells": [
  {
   "cell_type": "markdown",
   "metadata": {
    "collapsed": true
   },
   "source": [
    "# Fingerprinting Relational Data\n",
    "\n",
    "In this notebook we set an example of how to use our toolbox to embedd the fingerprint into a dataset and how to detect one from the suspricious data. I suggest reading [1] to familiarise yourself to the basis of relational data fingerprinting, parameters and terminology, since the toolbox uses the method from the paper as an algorithmic foundation. \n",
    "\n",
    "We perform the following:\n",
    "- 1) Import the dataset \n",
    "- 2) Define the fingerprinting scheme with related parameters (length of a fingerprint and \"gamma\" (ratio #rows/#marks))\n",
    "- 3) Embedd the fingerprint into the data\n",
    "- 4) Detect a fingerprint from the fingerprinted data.\n",
    "- 5) Additional examples:\n",
    "    - 5.1) Save fingerprinted data to file\n",
    "    - 5.2) Extraction from file\n",
    "    - 5.3) Fingerprint a subset of columns"
   ]
  },
  {
   "cell_type": "code",
   "execution_count": 1,
   "metadata": {},
   "outputs": [],
   "source": [
    "import pandas as pd\n",
    "from scheme import Universal"
   ]
  },
  {
   "cell_type": "markdown",
   "metadata": {},
   "source": [
    "## 1) Import data\n",
    "Specify the path to the dataset (in csv format). Make sure that the first row of the file contains column names."
   ]
  },
  {
   "cell_type": "code",
   "execution_count": 2,
   "metadata": {},
   "outputs": [],
   "source": [
    "data_path = \"datasets/adult.csv\""
   ]
  },
  {
   "cell_type": "markdown",
   "metadata": {},
   "source": [
    "## 2) Defining the scheme\n",
    "The class 'Universal' implements the fingerprinting scheme appropriate for both numerical and categorical data types. \n",
    "\n",
    "- The parameter 'gamma' is required. This is the main parameter for fingerprinting, which defines how many marks are expected to be embedded into the data: #marks = #rows / gamma; i.e. if #rows(Adult dataset)= 48841 and gamma=2, the total number of marks will be approximatelly 48842/2=24421 (due to the nature of the fingerprinting algorithm [1], the real number of modifications will always be approximatelly #marks/2 because half of the marks \"mark\" the data value to the same original value).\n",
    "\n",
    "- fingerprint_bit_length is an optional parameter that should be set to a power of 2, otherwise the insertion will throw an error. The default value is 32.\n",
    "\n",
    "- number_of_recipients is an optional parameter that defines a maximum number of potential data recipients. The default is 100. The possible recipient IDs are then in a range [0, number_of_recipients]"
   ]
  },
  {
   "cell_type": "code",
   "execution_count": 3,
   "metadata": {},
   "outputs": [],
   "source": [
    "scheme = Universal(gamma=2, fingerprint_bit_length=64)"
   ]
  },
  {
   "cell_type": "markdown",
   "metadata": {},
   "source": [
    "## 3) Fingerprint embedding"
   ]
  },
  {
   "cell_type": "markdown",
   "metadata": {},
   "source": [
    "Fingerprint embedding is performed with the method 'insertion'. The following parameters must be specified:\n",
    "- data (i.e. datapath(string), data(pandas.DataFrame), ...)\n",
    "- owner's secret key - arbitrary integer number known only to the owner\n",
    "- recipient ID "
   ]
  },
  {
   "cell_type": "code",
   "execution_count": 4,
   "metadata": {},
   "outputs": [
    {
     "name": "stdout",
     "output_type": "stream",
     "text": [
      "Start insertion algorithm...\n",
      "\tgamma: 2\n",
      "\tfingerprint length: 64\n",
      "\n",
      "Generated fingerprint for recipient 0: 0100010000101011101010110001100011011011101111101000001100110001\n",
      "Fingerprint inserted.\n",
      "\tmarked tuples: ~50.26%\n",
      "\tsingle fingerprint bit embedded 383 times\n",
      "Time: 12 sec.\n"
     ]
    }
   ],
   "source": [
    "fingerprinted_data = scheme.insertion(data_path, secret_key=12345678, recipient_id=0)"
   ]
  },
  {
   "cell_type": "markdown",
   "metadata": {},
   "source": [
    "We obtained the fingerprinted copy of the data provided for the recipient 0.\n",
    "\n",
    "From the above printout, we can see the parameters used for embedding and exact fingerprint assigned to the recipient 0. \n",
    "Furhermore, we see that approximatelly 50% of rows was marked, which is expected due to the defined gamma (i.e. 1 in 2 rows are marked). \n",
    "\n",
    "All fingerprint bits (64 of them) are equaly used for marking (cca.. 24421 of marks). Therefore, on average each fingerprint bit has been embedded 383 times (roughly 24421/64 due to randomness).\n",
    "\n",
    "Let's try to spot some modifications:"
   ]
  },
  {
   "cell_type": "code",
   "execution_count": 5,
   "metadata": {},
   "outputs": [
    {
     "data": {
      "text/html": [
       "<div>\n",
       "<style scoped>\n",
       "    .dataframe tbody tr th:only-of-type {\n",
       "        vertical-align: middle;\n",
       "    }\n",
       "\n",
       "    .dataframe tbody tr th {\n",
       "        vertical-align: top;\n",
       "    }\n",
       "\n",
       "    .dataframe thead th {\n",
       "        text-align: right;\n",
       "    }\n",
       "</style>\n",
       "<table border=\"1\" class=\"dataframe\">\n",
       "  <thead>\n",
       "    <tr style=\"text-align: right;\">\n",
       "      <th></th>\n",
       "      <th>age</th>\n",
       "      <th>workclass</th>\n",
       "      <th>fnlwgt</th>\n",
       "      <th>education</th>\n",
       "      <th>education-num</th>\n",
       "      <th>marital-status</th>\n",
       "      <th>occupation</th>\n",
       "      <th>relationship</th>\n",
       "      <th>race</th>\n",
       "      <th>sex</th>\n",
       "      <th>capital-gain</th>\n",
       "      <th>capital-loss</th>\n",
       "      <th>hours-per-week</th>\n",
       "      <th>native-country</th>\n",
       "      <th>income</th>\n",
       "    </tr>\n",
       "  </thead>\n",
       "  <tbody>\n",
       "    <tr>\n",
       "      <th>0</th>\n",
       "      <td>39</td>\n",
       "      <td>State-gov</td>\n",
       "      <td>77516</td>\n",
       "      <td>Bachelors</td>\n",
       "      <td>13</td>\n",
       "      <td>Never-married</td>\n",
       "      <td>Adm-clerical</td>\n",
       "      <td>Not-in-family</td>\n",
       "      <td>White</td>\n",
       "      <td>Male</td>\n",
       "      <td>2174</td>\n",
       "      <td>0</td>\n",
       "      <td>40</td>\n",
       "      <td>United-States</td>\n",
       "      <td>&lt;=50K</td>\n",
       "    </tr>\n",
       "    <tr>\n",
       "      <th>1</th>\n",
       "      <td>50</td>\n",
       "      <td>Self-emp-not-inc</td>\n",
       "      <td>83311</td>\n",
       "      <td>Bachelors</td>\n",
       "      <td>13</td>\n",
       "      <td>Married-civ-spouse</td>\n",
       "      <td>Exec-managerial</td>\n",
       "      <td>Husband</td>\n",
       "      <td>White</td>\n",
       "      <td>Male</td>\n",
       "      <td>0</td>\n",
       "      <td>0</td>\n",
       "      <td>13</td>\n",
       "      <td>United-States</td>\n",
       "      <td>&lt;=50K</td>\n",
       "    </tr>\n",
       "    <tr>\n",
       "      <th>2</th>\n",
       "      <td>38</td>\n",
       "      <td>Private</td>\n",
       "      <td>215646</td>\n",
       "      <td>HS-grad</td>\n",
       "      <td>9</td>\n",
       "      <td>Divorced</td>\n",
       "      <td>Handlers-cleaners</td>\n",
       "      <td>Not-in-family</td>\n",
       "      <td>White</td>\n",
       "      <td>Male</td>\n",
       "      <td>0</td>\n",
       "      <td>0</td>\n",
       "      <td>40</td>\n",
       "      <td>United-States</td>\n",
       "      <td>&lt;=50K</td>\n",
       "    </tr>\n",
       "    <tr>\n",
       "      <th>3</th>\n",
       "      <td>53</td>\n",
       "      <td>Private</td>\n",
       "      <td>234721</td>\n",
       "      <td>11th</td>\n",
       "      <td>7</td>\n",
       "      <td>Married-civ-spouse</td>\n",
       "      <td>Handlers-cleaners</td>\n",
       "      <td>Husband</td>\n",
       "      <td>Black</td>\n",
       "      <td>Male</td>\n",
       "      <td>0</td>\n",
       "      <td>0</td>\n",
       "      <td>40</td>\n",
       "      <td>United-States</td>\n",
       "      <td>&lt;=50K</td>\n",
       "    </tr>\n",
       "    <tr>\n",
       "      <th>4</th>\n",
       "      <td>28</td>\n",
       "      <td>Private</td>\n",
       "      <td>338409</td>\n",
       "      <td>Bachelors</td>\n",
       "      <td>13</td>\n",
       "      <td>Married-civ-spouse</td>\n",
       "      <td>Prof-specialty</td>\n",
       "      <td>Wife</td>\n",
       "      <td>Black</td>\n",
       "      <td>Female</td>\n",
       "      <td>0</td>\n",
       "      <td>0</td>\n",
       "      <td>40</td>\n",
       "      <td>Cuba</td>\n",
       "      <td>&lt;=50K</td>\n",
       "    </tr>\n",
       "  </tbody>\n",
       "</table>\n",
       "</div>"
      ],
      "text/plain": [
       "   age         workclass  fnlwgt  education  education-num  \\\n",
       "0   39         State-gov   77516  Bachelors             13   \n",
       "1   50  Self-emp-not-inc   83311  Bachelors             13   \n",
       "2   38           Private  215646    HS-grad              9   \n",
       "3   53           Private  234721       11th              7   \n",
       "4   28           Private  338409  Bachelors             13   \n",
       "\n",
       "       marital-status         occupation   relationship   race     sex  \\\n",
       "0       Never-married       Adm-clerical  Not-in-family  White    Male   \n",
       "1  Married-civ-spouse    Exec-managerial        Husband  White    Male   \n",
       "2            Divorced  Handlers-cleaners  Not-in-family  White    Male   \n",
       "3  Married-civ-spouse  Handlers-cleaners        Husband  Black    Male   \n",
       "4  Married-civ-spouse     Prof-specialty           Wife  Black  Female   \n",
       "\n",
       "   capital-gain  capital-loss  hours-per-week native-country income  \n",
       "0          2174             0              40  United-States  <=50K  \n",
       "1             0             0              13  United-States  <=50K  \n",
       "2             0             0              40  United-States  <=50K  \n",
       "3             0             0              40  United-States  <=50K  \n",
       "4             0             0              40           Cuba  <=50K  "
      ]
     },
     "execution_count": 5,
     "metadata": {},
     "output_type": "execute_result"
    }
   ],
   "source": [
    "#original\n",
    "original = pd.read_csv(data_path)\n",
    "original.head()"
   ]
  },
  {
   "cell_type": "code",
   "execution_count": 6,
   "metadata": {},
   "outputs": [
    {
     "data": {
      "text/html": [
       "<div>\n",
       "<style scoped>\n",
       "    .dataframe tbody tr th:only-of-type {\n",
       "        vertical-align: middle;\n",
       "    }\n",
       "\n",
       "    .dataframe tbody tr th {\n",
       "        vertical-align: top;\n",
       "    }\n",
       "\n",
       "    .dataframe thead th {\n",
       "        text-align: right;\n",
       "    }\n",
       "</style>\n",
       "<table border=\"1\" class=\"dataframe\">\n",
       "  <thead>\n",
       "    <tr style=\"text-align: right;\">\n",
       "      <th></th>\n",
       "      <th>age</th>\n",
       "      <th>workclass</th>\n",
       "      <th>fnlwgt</th>\n",
       "      <th>education</th>\n",
       "      <th>education-num</th>\n",
       "      <th>marital-status</th>\n",
       "      <th>occupation</th>\n",
       "      <th>relationship</th>\n",
       "      <th>race</th>\n",
       "      <th>sex</th>\n",
       "      <th>capital-gain</th>\n",
       "      <th>capital-loss</th>\n",
       "      <th>hours-per-week</th>\n",
       "      <th>native-country</th>\n",
       "      <th>income</th>\n",
       "    </tr>\n",
       "  </thead>\n",
       "  <tbody>\n",
       "    <tr>\n",
       "      <th>0</th>\n",
       "      <td>39</td>\n",
       "      <td>State-gov</td>\n",
       "      <td>77516</td>\n",
       "      <td>Bachelors</td>\n",
       "      <td>13</td>\n",
       "      <td>Never-married</td>\n",
       "      <td>Adm-clerical</td>\n",
       "      <td>Not-in-family</td>\n",
       "      <td>White</td>\n",
       "      <td>Male</td>\n",
       "      <td>2174</td>\n",
       "      <td>0</td>\n",
       "      <td>40</td>\n",
       "      <td>United-States</td>\n",
       "      <td>&lt;=50K</td>\n",
       "    </tr>\n",
       "    <tr>\n",
       "      <th>1</th>\n",
       "      <td>50</td>\n",
       "      <td>Self-emp-not-inc</td>\n",
       "      <td>83311</td>\n",
       "      <td>Bachelors</td>\n",
       "      <td>13</td>\n",
       "      <td>Married-civ-spouse</td>\n",
       "      <td>Exec-managerial</td>\n",
       "      <td>Husband</td>\n",
       "      <td>White</td>\n",
       "      <td>Male</td>\n",
       "      <td>0</td>\n",
       "      <td>0</td>\n",
       "      <td>13</td>\n",
       "      <td>United-States</td>\n",
       "      <td>&lt;=50K</td>\n",
       "    </tr>\n",
       "    <tr>\n",
       "      <th>2</th>\n",
       "      <td>38</td>\n",
       "      <td>Private</td>\n",
       "      <td>215646</td>\n",
       "      <td>HS-grad</td>\n",
       "      <td>9</td>\n",
       "      <td>Divorced</td>\n",
       "      <td>Handlers-cleaners</td>\n",
       "      <td>Not-in-family</td>\n",
       "      <td>White</td>\n",
       "      <td>Male</td>\n",
       "      <td>0</td>\n",
       "      <td>0</td>\n",
       "      <td>40</td>\n",
       "      <td>United-States</td>\n",
       "      <td>&lt;=50K</td>\n",
       "    </tr>\n",
       "    <tr>\n",
       "      <th>3</th>\n",
       "      <td>53</td>\n",
       "      <td>Private</td>\n",
       "      <td>234721</td>\n",
       "      <td>11th</td>\n",
       "      <td>7</td>\n",
       "      <td>Married-civ-spouse</td>\n",
       "      <td>Handlers-cleaners</td>\n",
       "      <td>Wife</td>\n",
       "      <td>Black</td>\n",
       "      <td>Male</td>\n",
       "      <td>0</td>\n",
       "      <td>0</td>\n",
       "      <td>40</td>\n",
       "      <td>United-States</td>\n",
       "      <td>&lt;=50K</td>\n",
       "    </tr>\n",
       "    <tr>\n",
       "      <th>4</th>\n",
       "      <td>28</td>\n",
       "      <td>Private</td>\n",
       "      <td>338409</td>\n",
       "      <td>Bachelors</td>\n",
       "      <td>13</td>\n",
       "      <td>Married-civ-spouse</td>\n",
       "      <td>Craft-repair</td>\n",
       "      <td>Wife</td>\n",
       "      <td>Black</td>\n",
       "      <td>Female</td>\n",
       "      <td>0</td>\n",
       "      <td>0</td>\n",
       "      <td>40</td>\n",
       "      <td>Cuba</td>\n",
       "      <td>&lt;=50K</td>\n",
       "    </tr>\n",
       "  </tbody>\n",
       "</table>\n",
       "</div>"
      ],
      "text/plain": [
       "   age         workclass  fnlwgt  education  education-num  \\\n",
       "0   39         State-gov   77516  Bachelors             13   \n",
       "1   50  Self-emp-not-inc   83311  Bachelors             13   \n",
       "2   38           Private  215646    HS-grad              9   \n",
       "3   53           Private  234721       11th              7   \n",
       "4   28           Private  338409  Bachelors             13   \n",
       "\n",
       "       marital-status         occupation   relationship   race     sex  \\\n",
       "0       Never-married       Adm-clerical  Not-in-family  White    Male   \n",
       "1  Married-civ-spouse    Exec-managerial        Husband  White    Male   \n",
       "2            Divorced  Handlers-cleaners  Not-in-family  White    Male   \n",
       "3  Married-civ-spouse  Handlers-cleaners           Wife  Black    Male   \n",
       "4  Married-civ-spouse       Craft-repair           Wife  Black  Female   \n",
       "\n",
       "   capital-gain  capital-loss  hours-per-week native-country income  \n",
       "0          2174             0              40  United-States  <=50K  \n",
       "1             0             0              13  United-States  <=50K  \n",
       "2             0             0              40  United-States  <=50K  \n",
       "3             0             0              40  United-States  <=50K  \n",
       "4             0             0              40           Cuba  <=50K  "
      ]
     },
     "execution_count": 6,
     "metadata": {},
     "output_type": "execute_result"
    }
   ],
   "source": [
    "fingerprinted_data.dataframe.head()"
   ]
  },
  {
   "cell_type": "markdown",
   "metadata": {},
   "source": [
    "Between above two dataset snippets we can observe that:\n",
    "- in row 3 the value for 'relationship' has changed from 'Husband' to 'Wife' and \n",
    "- in row 4 the value for 'occupation'  has changed from 'Prof-specialty' to 'Craft-repair' "
   ]
  },
  {
   "cell_type": "markdown",
   "metadata": {},
   "source": [
    "## 4) Fingerprint extraction\n",
    "\n",
    "To extract the fingerprint and find the suspect, we use the 'detection' method of the scheme. To successfully extract the data, one must provide the owner's secret key."
   ]
  },
  {
   "cell_type": "code",
   "execution_count": 7,
   "metadata": {},
   "outputs": [
    {
     "name": "stdout",
     "output_type": "stream",
     "text": [
      "Start detection algorithm...\n",
      "\tgamma: 2\n",
      "\txi: 1\n",
      "Potential fingerprint detected: 0100010000101011101010110001100011011011101111101000001100110001\n",
      "Recipient 0 is suspected.\n",
      "Runtime: 3 sec.\n"
     ]
    }
   ],
   "source": [
    "suspect = scheme.detection(fingerprinted_data, secret_key=12345678)"
   ]
  },
  {
   "cell_type": "markdown",
   "metadata": {},
   "source": [
    "The detection algorithm successfully extracted the fingerprint that belongs to recipient 0 from the data. Observe how the detection fails when the wrong secret key is provided (i.e. only the owner can varify the recipient):"
   ]
  },
  {
   "cell_type": "code",
   "execution_count": 8,
   "metadata": {},
   "outputs": [
    {
     "name": "stdout",
     "output_type": "stream",
     "text": [
      "Start detection algorithm...\n",
      "\tgamma: 2\n",
      "\txi: 1\n",
      "Potential fingerprint detected: 1101111001001111100010010001100011100021110001010111110101000011\n",
      "No one suspected.\n",
      "Runtime: 3 sec.\n"
     ]
    }
   ],
   "source": [
    "suspect = scheme.detection(fingerprinted_data, secret_key=123)"
   ]
  },
  {
   "cell_type": "markdown",
   "metadata": {},
   "source": [
    "## 5) Other examples\n",
    "### 5.1) Embedding to pandas.DataFrame"
   ]
  },
  {
   "cell_type": "code",
   "execution_count": 9,
   "metadata": {},
   "outputs": [],
   "source": [
    "dataframe = pd.read_csv(data_path)"
   ]
  },
  {
   "cell_type": "code",
   "execution_count": 10,
   "metadata": {},
   "outputs": [
    {
     "name": "stdout",
     "output_type": "stream",
     "text": [
      "Start insertion algorithm...\n",
      "\tgamma: 2\n",
      "\tfingerprint length: 64\n",
      "\n",
      "Generated fingerprint for recipient 0: 0100010000101011101010110001100011011011101111101000001100110001\n",
      "Fingerprint inserted.\n",
      "\tmarked tuples: ~50.26%\n",
      "\tsingle fingerprint bit embedded 383 times\n",
      "Time: 12 sec.\n"
     ]
    }
   ],
   "source": [
    "fingerprinted_data = scheme.insertion(dataframe, secret_key=12345678, recipient_id=0)"
   ]
  },
  {
   "cell_type": "markdown",
   "metadata": {},
   "source": [
    "### 5.1) Save the fingerprinted data to file"
   ]
  },
  {
   "cell_type": "code",
   "execution_count": 11,
   "metadata": {},
   "outputs": [
    {
     "name": "stdout",
     "output_type": "stream",
     "text": [
      "Start insertion algorithm...\n",
      "\tgamma: 2\n",
      "\tfingerprint length: 64\n",
      "\n",
      "Generated fingerprint for recipient 0: 0100010000101011101010110001100011011011101111101000001100110001\n",
      "Fingerprint inserted.\n",
      "\tmarked tuples: ~50.26%\n",
      "\tsingle fingerprint bit embedded 383 times\n",
      "Time: 12 sec.\n"
     ]
    },
    {
     "data": {
      "text/plain": [
       "<datasets._dataset.Dataset at 0x1ef3c95af40>"
      ]
     },
     "execution_count": 11,
     "metadata": {},
     "output_type": "execute_result"
    }
   ],
   "source": [
    "scheme.insertion(data_path, secret_key=12345678, recipient_id=0, write_to=\"fingerprinted/adult_0.csv\")"
   ]
  },
  {
   "cell_type": "markdown",
   "metadata": {},
   "source": [
    "### 5.2) Extract the fingerprint from the data file"
   ]
  },
  {
   "cell_type": "code",
   "execution_count": 12,
   "metadata": {},
   "outputs": [
    {
     "name": "stdout",
     "output_type": "stream",
     "text": [
      "Start detection algorithm...\n",
      "\tgamma: 2\n",
      "\txi: 1\n",
      "Potential fingerprint detected: 0100010000101011101010110001100011011011101111101000001100110001\n",
      "Recipient 0 is suspected.\n",
      "Runtime: 3 sec.\n"
     ]
    },
    {
     "data": {
      "text/plain": [
       "0"
      ]
     },
     "execution_count": 12,
     "metadata": {},
     "output_type": "execute_result"
    }
   ],
   "source": [
    "scheme.detection(\"fingerprinted/adult_0.csv\", secret_key=12345678)"
   ]
  },
  {
   "cell_type": "markdown",
   "metadata": {},
   "source": [
    "### 5.3) Fingerprint a subset of columns"
   ]
  },
  {
   "cell_type": "markdown",
   "metadata": {},
   "source": [
    "The owner can specify which columns they want to fingerprint. This might be useful when some columns, due to their sensitivity, should stay unmodified, for example the target attribute for an assumed classification task for the dataset.\n",
    "\n",
    "When embedding the fingerprint, one can do that by specifying a list of data column names to exclude: "
   ]
  },
  {
   "cell_type": "code",
   "execution_count": 13,
   "metadata": {},
   "outputs": [
    {
     "name": "stdout",
     "output_type": "stream",
     "text": [
      "Start insertion algorithm...\n",
      "\tgamma: 2\n",
      "\tfingerprint length: 64\n",
      "\n",
      "Generated fingerprint for recipient 0: 0100010000101011101010110001100011011011101111101000001100110001\n",
      "Fingerprint inserted.\n",
      "\tmarked tuples: ~50.26%\n",
      "\tsingle fingerprint bit embedded 383 times\n",
      "Time: 11 sec.\n"
     ]
    }
   ],
   "source": [
    "fingerprinted_data = scheme.insertion(dataframe, secret_key=12345678, recipient_id=0, exclude=['income'])"
   ]
  },
  {
   "cell_type": "markdown",
   "metadata": {},
   "source": [
    "Therefore, the 'income' column will stay in its original form: "
   ]
  },
  {
   "cell_type": "code",
   "execution_count": 14,
   "metadata": {},
   "outputs": [
    {
     "data": {
      "text/plain": [
       "True"
      ]
     },
     "execution_count": 14,
     "metadata": {},
     "output_type": "execute_result"
    }
   ],
   "source": [
    "len(dataframe['income'].compare(fingerprinted_data.dataframe['income'])) == 0"
   ]
  },
  {
   "cell_type": "markdown",
   "metadata": {},
   "source": [
    "Alternativelly, specify the names of the columns to include into fingerprint embedding:"
   ]
  },
  {
   "cell_type": "code",
   "execution_count": 15,
   "metadata": {},
   "outputs": [
    {
     "name": "stdout",
     "output_type": "stream",
     "text": [
      "Start insertion algorithm...\n",
      "\tgamma: 2\n",
      "\tfingerprint length: 64\n",
      "\n",
      "Generated fingerprint for recipient 0: 0100010000101011101010110001100011011011101111101000001100110001\n",
      "Fingerprint inserted.\n",
      "\tmarked tuples: ~50.26%\n",
      "\tsingle fingerprint bit embedded 383 times\n",
      "Time: 14 sec.\n"
     ]
    }
   ],
   "source": [
    "fingerprinted_data = scheme.insertion(data_path, secret_key=12345678, recipient_id=0, \n",
    "                                      include=['workclass','education','education-num','marital-status','occupation'],\n",
    "                                     write_to='fingerprinted_data/adult_0_subset.csv')"
   ]
  },
  {
   "cell_type": "markdown",
   "metadata": {},
   "source": [
    "When extracting the fingerprint, the owner must again specify which columns they did or did not mark (holds for specifying 'exclude', too):"
   ]
  },
  {
   "cell_type": "code",
   "execution_count": 16,
   "metadata": {},
   "outputs": [
    {
     "name": "stdout",
     "output_type": "stream",
     "text": [
      "Start detection algorithm...\n",
      "\tgamma: 2\n",
      "\txi: 1\n",
      "Potential fingerprint detected: 0100010000101011101010110001100011011011101111101000001100110001\n",
      "Recipient 0 is suspected.\n",
      "Runtime: 3 sec.\n"
     ]
    },
    {
     "data": {
      "text/plain": [
       "0"
      ]
     },
     "execution_count": 16,
     "metadata": {},
     "output_type": "execute_result"
    }
   ],
   "source": [
    "scheme.detection('fingerprinted_data/adult_0_subset.csv', secret_key=12345678, \n",
    "                 include=['workclass','education','education-num','marital-status','occupation'])"
   ]
  },
  {
   "cell_type": "markdown",
   "metadata": {},
   "source": [
    "Otherwise, the scheme does not extract the fingerprint correctly:"
   ]
  },
  {
   "cell_type": "code",
   "execution_count": 17,
   "metadata": {},
   "outputs": [
    {
     "name": "stdout",
     "output_type": "stream",
     "text": [
      "Start detection algorithm...\n",
      "\tgamma: 2\n",
      "\txi: 1\n",
      "Potential fingerprint detected: 0100010110000111100110011110100111011001101111100110011101101010\n",
      "No one suspected.\n",
      "Runtime: 3 sec.\n"
     ]
    },
    {
     "data": {
      "text/plain": [
       "-1"
      ]
     },
     "execution_count": 17,
     "metadata": {},
     "output_type": "execute_result"
    }
   ],
   "source": [
    "scheme.detection('fingerprinted_data/adult_0_subset.csv', secret_key=12345678)"
   ]
  },
  {
   "cell_type": "markdown",
   "metadata": {},
   "source": [
    "## References:\n",
    "[1] Li, Yingjiu, Vipin Swarup, and Sushil Jajodia. \"Fingerprinting relational databases: Schemes and specialties.\" IEEE Transactions on Dependable and Secure Computing 2.1 (2005): 34-45."
   ]
  }
 ],
 "metadata": {
  "kernelspec": {
   "display_name": "Python 3 (ipykernel)",
   "language": "python",
   "name": "python3"
  },
  "language_info": {
   "codemirror_mode": {
    "name": "ipython",
    "version": 3
   },
   "file_extension": ".py",
   "mimetype": "text/x-python",
   "name": "python",
   "nbconvert_exporter": "python",
   "pygments_lexer": "ipython3",
   "version": "3.10.6"
  }
 },
 "nbformat": 4,
 "nbformat_minor": 1
}
