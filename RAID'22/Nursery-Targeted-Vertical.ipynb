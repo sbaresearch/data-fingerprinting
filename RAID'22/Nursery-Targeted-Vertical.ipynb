{
 "cells": [
  {
   "cell_type": "code",
   "execution_count": 1,
   "id": "fe776b3b",
   "metadata": {},
   "outputs": [],
   "source": [
    "import os\n",
    "os.chdir(\"C:\\\\Users\\\\tsarcevic\\\\PycharmProjects\\\\fingerprinting-toolbox\")\n",
    "import warnings\n",
    "warnings.filterwarnings('ignore')"
   ]
  },
  {
   "cell_type": "code",
   "execution_count": 3,
   "id": "c552e1b5",
   "metadata": {},
   "outputs": [],
   "source": [
    "import pickle\n",
    "import numpy as np\n",
    "import pandas as pd\n",
    "import collections\n",
    "from pprint import pprint\n",
    "\n",
    "from sklearn.neighbors import LocalOutlierFactor\n",
    "from sklearn.model_selection import train_test_split, cross_val_score\n",
    "from sklearn.ensemble import GradientBoostingClassifier\n",
    "from sklearn.metrics import accuracy_score\n",
    "\n",
    "from scipy.stats import chi2\n",
    "from matplotlib import pyplot\n",
    "\n",
    "from datasets import Nursery"
   ]
  },
  {
   "cell_type": "code",
   "execution_count": 4,
   "id": "b9f09715",
   "metadata": {},
   "outputs": [],
   "source": [
    "with open('parameter_guidelines/Nursery/evaluation/rel_vertical_attack_utility_loss_gb_fpattr8.pickle', 'rb') as infile:\n",
    "    utility_loss_20 = pickle.load(infile)"
   ]
  },
  {
   "cell_type": "code",
   "execution_count": 5,
   "id": "c79109a6",
   "metadata": {},
   "outputs": [
    {
     "data": {
      "text/plain": [
       "-0.5335574683723584"
      ]
     },
     "execution_count": 5,
     "metadata": {},
     "output_type": "execute_result"
    }
   ],
   "source": [
    "np.mean([np.mean(ut) for ut in utility_loss_20[1]])"
   ]
  },
  {
   "cell_type": "code",
   "execution_count": 29,
   "id": "d4aab8fa",
   "metadata": {},
   "outputs": [],
   "source": [
    "with open('parameter_guidelines/Nursery/evaluation/robustness_vertical_universal_c95_e30.pickle', 'rb') as infile:\n",
    "    robustness = pickle.load(infile)"
   ]
  },
  {
   "cell_type": "code",
   "execution_count": 30,
   "id": "4493e402",
   "metadata": {},
   "outputs": [
    {
     "data": {
      "text/plain": [
       "{1: 0.75,\n",
       " 1.11: 0.75,\n",
       " 1.25: 0.75,\n",
       " 1.43: 0.75,\n",
       " 1.67: 0.75,\n",
       " 2: 0.75,\n",
       " 2.5: 0.75,\n",
       " 3: 0.75,\n",
       " 4: 0.62,\n",
       " 5: 0.62,\n",
       " 10: 0.5,\n",
       " 18: 0.38}"
      ]
     },
     "execution_count": 30,
     "metadata": {},
     "output_type": "execute_result"
    }
   ],
   "source": [
    "robustness"
   ]
  },
  {
   "cell_type": "code",
   "execution_count": 11,
   "id": "16129b8f",
   "metadata": {},
   "outputs": [],
   "source": [
    "gamma=1\n",
    "fp_dir = \"parameter_guidelines/fingerprinted_data/nursery/attr_subset_8/\"\n",
    "fingerprinted_data = pd.read_csv(fp_dir + \"universal_g{}_x1_l32_u1_sk0.csv\".format(gamma))\n",
    "data = Nursery().preprocessed(fp_data=fingerprinted_data)"
   ]
  },
  {
   "cell_type": "code",
   "execution_count": 12,
   "id": "9d873437",
   "metadata": {},
   "outputs": [],
   "source": [
    "X_fp = data.drop('target', axis=1)\n",
    "y_fp = data['target']"
   ]
  },
  {
   "cell_type": "code",
   "execution_count": 17,
   "id": "9b1a2de7",
   "metadata": {},
   "outputs": [],
   "source": [
    "X_train, X_test, y_train, y_test = train_test_split(X_fp, y_fp, test_size=0.2, random_state=9)\n",
    "\n",
    "model = GradientBoostingClassifier()\n",
    "model.fit(X_train, y_train)\n",
    "acc = accuracy_score(y_test, model.predict(X_test))"
   ]
  },
  {
   "cell_type": "code",
   "execution_count": 14,
   "id": "db297d61",
   "metadata": {},
   "outputs": [
    {
     "data": {
      "text/plain": [
       "0.8452932098765432"
      ]
     },
     "execution_count": 14,
     "metadata": {},
     "output_type": "execute_result"
    }
   ],
   "source": [
    "acc"
   ]
  },
  {
   "cell_type": "code",
   "execution_count": 15,
   "id": "dda18a34",
   "metadata": {},
   "outputs": [
    {
     "data": {
      "text/plain": [
       "array([0.70987654, 0.65933642, 0.7341821 , 0.69625627, 0.63952142])"
      ]
     },
     "execution_count": 15,
     "metadata": {},
     "output_type": "execute_result"
    }
   ],
   "source": [
    "#model = GradientBoostingClassifier(random_state=9)\n",
    "#original = cross_val_score(model, X_fp, y_fp)\n",
    "#original"
   ]
  },
  {
   "cell_type": "code",
   "execution_count": 18,
   "id": "39d8d132",
   "metadata": {},
   "outputs": [
    {
     "data": {
      "text/plain": [
       "array([0.07909748, 0.19361998, 0.00585532, 0.01022164, 0.01379173,\n",
       "       0.00584065, 0.01305558, 0.67851763])"
      ]
     },
     "execution_count": 18,
     "metadata": {},
     "output_type": "execute_result"
    }
   ],
   "source": [
    "model.feature_importances_"
   ]
  },
  {
   "cell_type": "code",
   "execution_count": 19,
   "id": "026b4ae7",
   "metadata": {},
   "outputs": [
    {
     "data": {
      "image/png": "[encoded data removed]",
      "text/plain": [
       "<Figure size 432x288 with 1 Axes>"
      ]
     },
     "metadata": {
      "needs_background": "light"
     },
     "output_type": "display_data"
    }
   ],
   "source": [
    "pyplot.bar(range(len(model.feature_importances_)), model.feature_importances_)\n",
    "pyplot.show()"
   ]
  },
  {
   "cell_type": "code",
   "execution_count": 20,
   "id": "093da7c1",
   "metadata": {},
   "outputs": [
    {
     "data": {
      "text/plain": [
       "{'parents': 0.07909747616821541,\n",
       " 'has_nurs': 0.19361997568442604,\n",
       " 'form': 0.005855323074272755,\n",
       " 'children': 0.010221641598791933,\n",
       " 'housing': 0.013791726172105905,\n",
       " 'finance': 0.005840648394091483,\n",
       " 'social': 0.013055583006951641,\n",
       " 'health': 0.6785176259011448}"
      ]
     },
     "execution_count": 20,
     "metadata": {},
     "output_type": "execute_result"
    }
   ],
   "source": [
    "feature_importances = dict(zip(data.columns, model.feature_importances_))\n",
    "feature_importances"
   ]
  },
  {
   "cell_type": "code",
   "execution_count": 21,
   "id": "6bee73eb",
   "metadata": {},
   "outputs": [],
   "source": [
    "def drop_least_important(n, features):\n",
    "    remaining = features\n",
    "    for i in range(n):\n",
    "        min_val = min(remaining.values())\n",
    "        remaining = {k: v for k, v in remaining.items() if v != min_val}    \n",
    "    return remaining"
   ]
  },
  {
   "cell_type": "code",
   "execution_count": 22,
   "id": "55e62edc",
   "metadata": {},
   "outputs": [],
   "source": [
    "selected_f = drop_least_important(5, feature_importances)"
   ]
  },
  {
   "cell_type": "code",
   "execution_count": 23,
   "id": "c24fcf9c",
   "metadata": {},
   "outputs": [],
   "source": [
    "removed = list(feature_importances.keys() - selected_f.keys())"
   ]
  },
  {
   "cell_type": "code",
   "execution_count": 24,
   "id": "f07d6ec0",
   "metadata": {},
   "outputs": [
    {
     "name": "stdout",
     "output_type": "stream",
     "text": [
      "3\n"
     ]
    }
   ],
   "source": [
    "X_fp = data.drop('target', axis=1)\n",
    "X_fp = X_fp.drop(removed, axis=1)\n",
    "print(len(X_fp.columns))\n",
    "y_fp = data['target']"
   ]
  },
  {
   "cell_type": "code",
   "execution_count": 25,
   "id": "e07b01f7",
   "metadata": {},
   "outputs": [],
   "source": [
    "X_train, X_test, y_train, y_test = train_test_split(X_fp, y_fp, test_size=0.2, random_state=9)\n",
    "\n",
    "model = GradientBoostingClassifier()\n",
    "model.fit(X_train, y_train)\n",
    "acc = accuracy_score(y_test, model.predict(X_test))"
   ]
  },
  {
   "cell_type": "code",
   "execution_count": 26,
   "id": "779b7ce0",
   "metadata": {},
   "outputs": [
    {
     "data": {
      "text/plain": [
       "0.8101851851851852"
      ]
     },
     "execution_count": 26,
     "metadata": {},
     "output_type": "execute_result"
    }
   ],
   "source": [
    "acc"
   ]
  },
  {
   "cell_type": "code",
   "execution_count": 27,
   "id": "4b4965fe",
   "metadata": {},
   "outputs": [
    {
     "data": {
      "text/plain": [
       "array([0.73842593, 0.65354938, 0.65625   , 0.6341181 , 0.62755693])"
      ]
     },
     "execution_count": 27,
     "metadata": {},
     "output_type": "execute_result"
    }
   ],
   "source": [
    "model = GradientBoostingClassifier(random_state=9)\n",
    "removed_25p = cross_val_score(model, X_fp, y_fp)\n",
    "removed_25p"
   ]
  },
  {
   "cell_type": "code",
   "execution_count": 28,
   "id": "f526af9e",
   "metadata": {},
   "outputs": [
    {
     "data": {
      "text/plain": [
       "(0.6619800675176656, 0.6878345507478404)"
      ]
     },
     "execution_count": 28,
     "metadata": {},
     "output_type": "execute_result"
    }
   ],
   "source": [
    "np.mean(removed_25p), np.mean(original)"
   ]
  },
  {
   "cell_type": "markdown",
   "id": "fe6b2678",
   "metadata": {},
   "source": [
    "## Experiment"
   ]
  },
  {
   "cell_type": "code",
   "execution_count": 38,
   "id": "e45ae951",
   "metadata": {
    "scrolled": true
   },
   "outputs": [
    {
     "name": "stdout",
     "output_type": "stream",
     "text": [
      "original acc:  [0.70987654 0.65933642 0.7341821  0.69625627 0.63952142]\n",
      "1\n",
      "Index(['health'], dtype='object')\n",
      "selected accuracy:  [0.6257716  0.6408179  0.66936728 0.67502895 0.70281745]\n",
      "original acc:  [0.71604938 0.65625    0.74228395 0.68776534 0.64067927]\n",
      "1\n",
      "Index(['health'], dtype='object')\n",
      "selected accuracy:  [0.63117284 0.64390432 0.67283951 0.67927441 0.70899267]\n",
      "original acc:  [0.72299383 0.65972222 0.74382716 0.6912389  0.64183713]\n",
      "1\n",
      "Index(['health'], dtype='object')\n",
      "selected accuracy:  [0.63387346 0.64737654 0.67824074 0.68120417 0.71208028]\n",
      "original acc:  [0.72029321 0.66782407 0.7503858  0.68622154 0.63720571]\n",
      "1\n",
      "Index(['health'], dtype='object')\n",
      "selected accuracy:  [0.63927469 0.65200617 0.68209877 0.68660749 0.7174836 ]\n",
      "original acc:  [0.74266975 0.6882716  0.75964506 0.69471247 0.63681976]\n",
      "1\n",
      "Index(['health'], dtype='object')\n",
      "selected accuracy:  [0.64544753 0.65393519 0.68479938 0.69394056 0.72095716]\n",
      "original acc:  [0.76967593 0.69251543 0.76658951 0.72674643 0.64260903]\n",
      "1\n",
      "Index(['health'], dtype='object')\n",
      "selected accuracy:  [0.65046296 0.65933642 0.68865741 0.69741413 0.72520262]\n",
      "original acc:  [0.77160494 0.71334877 0.76118827 0.70899267 0.63373215]\n",
      "1\n",
      "Index(['health'], dtype='object')\n",
      "selected accuracy:  [0.65740741 0.66550926 0.69251543 0.70204554 0.73292165]\n",
      "original acc:  [0.75964506 0.71720679 0.75848765 0.69895793 0.61790814]\n",
      "1\n",
      "Index(['health'], dtype='object')\n",
      "selected accuracy:  [0.66203704 0.66628086 0.69598765 0.7039753  0.73832497]\n",
      "original acc:  [0.77816358 0.70717593 0.77932099 0.70590506 0.64492474]\n",
      "3\n",
      "Index(['parents', 'has_nurs', 'health'], dtype='object')\n",
      "selected accuracy:  [0.67361111 0.58564815 0.62307099 0.62215361 0.64260903]\n",
      "original acc:  [0.78780864 0.72337963 0.77700617 0.72404477 0.62678503]\n",
      "3\n",
      "Index(['parents', 'has_nurs', 'health'], dtype='object')\n",
      "selected accuracy:  [0.67476852 0.47685185 0.62345679 0.62446932 0.64415284]\n",
      "original acc:  [0.80246914 0.72878086 0.8125     0.72751833 0.64260903]\n",
      "3\n",
      "Index(['parents', 'has_nurs', 'health'], dtype='object')\n",
      "selected accuracy:  [0.67438272 0.59027778 0.6246142  0.62562717 0.64492474]\n",
      "original acc:  [0.79359568 0.69907407 0.80864198 0.74450019 0.64299498]\n",
      "4\n",
      "Index(['parents', 'has_nurs', 'housing', 'health'], dtype='object')\n",
      "selected accuracy:  [0.69675926 0.67554012 0.6882716  0.66422231 0.57313778]\n"
     ]
    }
   ],
   "source": [
    "fp_dir = \"parameter_guidelines/fingerprinted_data/nursery/attr_subset_8/\"\n",
    "results = dict()\n",
    "original = dict()\n",
    "for gamma in robustness:\n",
    "    fingerprinted_data = pd.read_csv(fp_dir + \"universal_g{}_x1_l32_u1_sk0.csv\".format(gamma))\n",
    "    data = Nursery().preprocessed(fp_data=fingerprinted_data)\n",
    "    \n",
    "    #split\n",
    "    X_fp = data.drop('target', axis=1)\n",
    "    y_fp = data['target']\n",
    "    # original accuracy\n",
    "    model = GradientBoostingClassifier(random_state=9)\n",
    "    original[gamma] = cross_val_score(model, X_fp, y_fp)\n",
    "    print('original acc: ', np.mean(original[gamma]))\n",
    "    \n",
    "    # \n",
    "    to_remove = int(8*robustness[gamma])+1\n",
    "    selected_f = drop_least_important(to_remove, feature_importances)\n",
    "    removed = list(feature_importances.keys() - selected_f.keys())\n",
    "    X_fp = data.drop('target', axis=1)\n",
    "    X_fp = X_fp.drop(removed, axis=1)\n",
    "    print(len(X_fp.columns))\n",
    "    print(X_fp.columns)\n",
    "    y_fp = data['target']\n",
    "    model = GradientBoostingClassifier(random_state=9)\n",
    "    acc = cross_val_score(model, X_fp, y_fp)\n",
    "    print('selected accuracy: ', np.mean(acc))\n",
    "    results[gamma] = acc"
   ]
  },
  {
   "cell_type": "code",
   "execution_count": 44,
   "id": "f28deadc",
   "metadata": {},
   "outputs": [],
   "source": [
    "original_acc = {1: 0.7405195473251028,\n",
    " 1.11: 0.7398842592592594,\n",
    " 1.25: 0.7300977366255145,\n",
    " 1.43: 0.7180684156378601,\n",
    " 1.67: 0.7149819958847736,\n",
    " 2: 0.7208101851851851,\n",
    " 2.5: 0.723996913580247,\n",
    " 3: 0.7207355967078188,\n",
    " 4: 0.7147968106995884,\n",
    " 5: 0.7057175925925926,\n",
    " 10: 0.6799717078189301,\n",
    " 18: 0.6590509259259262}"
   ]
  },
  {
   "cell_type": "code",
   "execution_count": 46,
   "id": "e70d9731",
   "metadata": {},
   "outputs": [],
   "source": [
    "rel_loss_temp = dict()\n",
    "for gamma in results:\n",
    "    loss = original_acc[gamma] - results[gamma] \n",
    "    rel_loss_temp[gamma] = loss / original_acc[gamma]"
   ]
  },
  {
   "cell_type": "code",
   "execution_count": 39,
   "id": "53ab5750",
   "metadata": {},
   "outputs": [],
   "source": [
    "rel_loss = dict()\n",
    "for gamma in results:\n",
    "    loss = original[gamma] - results[gamma] \n",
    "    rel_loss[gamma] = loss / original[gamma]"
   ]
  },
  {
   "cell_type": "code",
   "execution_count": 47,
   "id": "0079f138",
   "metadata": {},
   "outputs": [
    {
     "data": {
      "text/plain": [
       "{1: array([ 0.11847826,  0.0280866 ,  0.08828166,  0.0304878 , -0.09897405]),\n",
       " 1.11: array([ 0.11853448,  0.01881246,  0.09355509,  0.01234568, -0.10662651]),\n",
       " 1.25: array([ 0.12326574,  0.01871345,  0.08817427,  0.01451703, -0.10944077]),\n",
       " 1.43: array([ 0.11247991,  0.02368573,  0.09100257, -0.00056243, -0.12598425]),\n",
       " 1.67: array([ 0.13090909,  0.04988789,  0.09852717,  0.00111111, -0.13212121]),\n",
       " 2: array([ 0.15488722,  0.04791086,  0.1016608 ,  0.04036113, -0.12852853]),\n",
       " 2.5: array([ 0.148     ,  0.06706328,  0.09021794,  0.00979858, -0.15651644]),\n",
       " 3: array([ 0.12849162,  0.07100592,  0.08240081, -0.00717835, -0.1948782 ]),\n",
       " 4: array([0.13435796, 0.17184943, 0.20049505, 0.11864407, 0.00359066]),\n",
       " 5: array([ 0.14348678,  0.3408    ,  0.19761668,  0.13752665, -0.02770936]),\n",
       " 10: array([ 0.15961538,  0.19004764,  0.23124406,  0.14005305, -0.0036036 ]),\n",
       " 18: array([0.12202236, 0.03366446, 0.14885496, 0.10782789, 0.10864346])}"
      ]
     },
     "execution_count": 47,
     "metadata": {},
     "output_type": "execute_result"
    }
   ],
   "source": [
    "rel_loss"
   ]
  },
  {
   "cell_type": "code",
   "execution_count": 50,
   "id": "17cfd85b",
   "metadata": {},
   "outputs": [],
   "source": [
    "with open('parameter_guidelines/Nursery/evaluation/rel_targeted_vertical_attack_utility_loss_gb_sk0.pkl', 'wb') as outfile:\n",
    "    pickle.dump(rel_loss_temp, outfile) "
   ]
  }
 ],
 "metadata": {
  "kernelspec": {
   "display_name": "Python3-FP",
   "language": "python",
   "name": "python3"
  },
  "language_info": {
   "codemirror_mode": {
    "name": "ipython",
    "version": 3
   },
   "file_extension": ".py",
   "mimetype": "text/x-python",
   "name": "python",
   "nbconvert_exporter": "python",
   "pygments_lexer": "ipython3",
   "version": "3.8.8"
  }
 },
 "nbformat": 4,
 "nbformat_minor": 5
}
