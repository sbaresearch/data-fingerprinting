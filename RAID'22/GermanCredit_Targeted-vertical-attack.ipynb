{
 "cells": [
  {
   "cell_type": "markdown",
   "id": "adjusted-sponsorship",
   "metadata": {},
   "source": [
    "# Targeted vertical attack\n",
    "This notebook investigates approaches to targeted vertical attack on German Credit data"
   ]
  },
  {
   "cell_type": "code",
   "execution_count": 2,
   "id": "obvious-diameter",
   "metadata": {},
   "outputs": [],
   "source": [
    "import os\n",
    "os.chdir(\"C:\\\\Users\\\\tsarcevic\\\\PycharmProjects\\\\fingerprinting-toolbox\")\n",
    "import warnings\n",
    "warnings.filterwarnings('ignore')"
   ]
  },
  {
   "cell_type": "code",
   "execution_count": 3,
   "id": "early-waters",
   "metadata": {},
   "outputs": [],
   "source": [
    "import pickle\n",
    "import numpy as np\n",
    "import pandas as pd\n",
    "import collections\n",
    "from pprint import pprint\n",
    "\n",
    "from sklearn.neighbors import LocalOutlierFactor\n",
    "from sklearn.model_selection import train_test_split, cross_val_score\n",
    "from sklearn.ensemble import GradientBoostingClassifier\n",
    "from sklearn.metrics import accuracy_score\n",
    "\n",
    "from scipy.stats import chi2\n",
    "from matplotlib import pyplot\n",
    "\n",
    "from datasets import GermanCredit"
   ]
  },
  {
   "cell_type": "markdown",
   "id": "comprehensive-yugoslavia",
   "metadata": {},
   "source": [
    "the goal: with feature selection achieve less utility loss"
   ]
  },
  {
   "cell_type": "markdown",
   "id": "searching-marine",
   "metadata": {},
   "source": [
    "## 1. Impurity-based feature selection\n",
    "- https://scikit-learn.org/stable/modules/generated/sklearn.ensemble.GradientBoostingClassifier.html#sklearn.ensemble.GradientBoostingClassifier.feature_importances_"
   ]
  },
  {
   "cell_type": "code",
   "execution_count": 4,
   "id": "medieval-password",
   "metadata": {},
   "outputs": [],
   "source": [
    "with open('parameter_guidelines/evaluation/german_credit/rel_vertical_attack_utility_loss_gb_fpattr20.pickle', 'rb') as infile:\n",
    "    utility_loss_20 = pickle.load(infile)"
   ]
  },
  {
   "cell_type": "code",
   "execution_count": 5,
   "id": "engaged-queens",
   "metadata": {},
   "outputs": [
    {
     "data": {
      "text/plain": [
       "{1: [array([-0.1375    , -0.02739726, -0.05405405, -0.10828025, -0.05369128]),\n",
       "  array([-0.11392405, -0.07236842, -0.09333333, -0.08441558, -0.02068966]),\n",
       "  array([-0.09677419, -0.08974359, -0.07236842, -0.09090909, -0.07284768]),\n",
       "  array([-0.04109589, -0.09803922, -0.10596026, -0.08441558, -0.0890411 ]),\n",
       "  array([-0.07894737, -0.07894737, -0.07894737, -0.09090909, -0.09090909]),\n",
       "  array([-0.04861111, -0.03896104, -0.11038961, -0.10666667, -0.0974026 ]),\n",
       "  array([-0.09090909, -0.09150327, -0.10596026, -0.16666667, -0.09090909]),\n",
       "  array([-0.07284768, -0.11949686, -0.09933775, -0.10191083, -0.08      ]),\n",
       "  array([-0.08496732, -0.07843137, -0.08552632, -0.08974359, -0.0955414 ]),\n",
       "  array([-0.07142857, -0.08280255, -0.03333333, -0.08108108, -0.05263158])],\n",
       " 1.11: [array([-0.06711409, -0.11038961, -0.05405405, -0.09803922, -0.07236842]),\n",
       "  array([-0.05921053, -0.08552632, -0.10322581, -0.10191083, -0.04054054]),\n",
       "  array([-0.12578616, -0.0974026 , -0.09803922, -0.09032258, -0.06122449]),\n",
       "  array([-0.01369863, -0.0974026 , -0.07236842, -0.08666667, -0.05405405]),\n",
       "  array([-0.09032258, -0.08974359, -0.06578947, -0.09032258, -0.06578947]),\n",
       "  array([ 0.00675676, -0.03246753, -0.12337662, -0.06122449, -0.08783784]),\n",
       "  array([-0.09677419, -0.07692308, -0.12258065, -0.17419355, -0.09933775]),\n",
       "  array([-0.04054054, -0.07741935, -0.09090909, -0.06578947, -0.06711409]),\n",
       "  array([-0.07333333, -0.10897436, -0.07284768, -0.05369128, -0.06666667]),\n",
       "  array([-0.09150327, -0.09933775, -0.02597403, -0.10596026, -0.03311258])],\n",
       " 1.25: [array([-0.08441558, -0.08496732, -0.05960265, -0.06451613,  0.02684564]),\n",
       "  array([-0.03378378, -0.04761905, -0.10457516, -0.09677419, -0.06578947]),\n",
       "  array([-0.12025316, -0.10526316, -0.07189542, -0.09032258, -0.04761905]),\n",
       "  array([-0.0397351 , -0.12179487, -0.02013423, -0.09150327, -0.09090909]),\n",
       "  array([-0.06535948, -0.07843137, -0.05960265, -0.08441558, -0.07843137]),\n",
       "  array([-0.03378378, -0.04605263, -0.11612903, -0.02097902, -0.06802721]),\n",
       "  array([-0.0397351 , -0.06535948, -0.14102564, -0.19354839, -0.09210526]),\n",
       "  array([-0.07432432, -0.1025641 , -0.1       , -0.06535948, -0.09210526]),\n",
       "  array([-0.06040268, -0.0955414 , -0.09803922, -0.03378378, -0.06622517]),\n",
       "  array([-0.09210526, -0.08441558, -0.05263158, -0.06666667, -0.12582781])],\n",
       " 1.43: [array([-0.09032258, -0.07643312, -0.07741935, -0.03921569,  0.01360544]),\n",
       "  array([-0.08333333, -0.0472973 , -0.11688312, -0.07843137, -0.05333333]),\n",
       "  array([-0.1025641 , -0.09090909, -0.10691824, -0.08552632, -0.0738255 ]),\n",
       "  array([-0.05333333, -0.11688312,  0.        , -0.10457516, -0.06081081]),\n",
       "  array([-0.09615385, -0.09032258, -0.05298013, -0.06      , -0.06      ]),\n",
       "  array([-0.06      , -0.08333333, -0.10322581, -0.0738255 , -0.13548387]),\n",
       "  array([-0.08053691, -0.05882353, -0.12903226, -0.17532468, -0.09803922]),\n",
       "  array([-0.09868421, -0.07284768, -0.1038961 , -0.04026846, -0.10897436]),\n",
       "  array([-0.06040268, -0.0955414 , -0.09271523, -0.03355705, -0.05405405]),\n",
       "  array([-0.11111111, -0.07236842, -0.05844156, -0.08496732, -0.11111111])],\n",
       " 1.67: [array([-0.08552632, -0.07741935, -0.07236842, -0.07894737,  0.00671141]),\n",
       "  array([-0.04575163, -0.07894737, -0.03246753, -0.07096774, -0.02013423]),\n",
       "  array([-0.09803922, -0.09150327, -0.05844156, -0.08609272, -0.11258278]),\n",
       "  array([-0.0794702 , -0.12337662, -0.09803922, -0.11111111, -0.10526316]),\n",
       "  array([-0.0974026 , -0.08496732, -0.06622517, -0.10897436, -0.07284768]),\n",
       "  array([-0.06040268, -0.05882353, -0.11038961, -0.08609272, -0.1372549 ]),\n",
       "  array([-0.07741935, -0.09677419, -0.1038961 , -0.15483871, -0.11184211]),\n",
       "  array([-0.11258278, -0.10759494, -0.07792208, -0.05333333, -0.13157895]),\n",
       "  array([-0.07333333, -0.08387097, -0.10457516, -0.04666667, -0.05369128]),\n",
       "  array([-0.12820513, -0.1503268 , -0.07843137, -0.08783784, -0.05333333])],\n",
       " 2: [array([-0.0974026 , -0.12258065, -0.11612903, -0.12101911, -0.09677419]),\n",
       "  array([-0.08974359, -0.07843137, -0.11111111, -0.08441558, -0.04697987]),\n",
       "  array([-0.1474359 , -0.07843137, -0.04666667, -0.09090909, -0.1025641 ]),\n",
       "  array([-0.07741935, -0.10666667, -0.04605263, -0.10457516, -0.06040268]),\n",
       "  array([-0.08496732, -0.07792208, -0.07189542, -0.09677419, -0.08496732]),\n",
       "  array([-0.03333333, -0.05263158, -0.10526316, -0.0738255 , -0.08      ]),\n",
       "  array([-0.09090909, -0.06711409, -0.14935065, -0.17763158, -0.08      ]),\n",
       "  array([-0.07189542, -0.08333333, -0.08724832, -0.06578947, -0.10967742]),\n",
       "  array([-0.09677419, -0.09677419, -0.07894737, -0.08387097, -0.06      ]),\n",
       "  array([-0.13245033, -0.12820513, -0.02614379, -0.09210526, -0.04575163])],\n",
       " 2.5: [array([-0.11764706, -0.07741935, -0.05405405, -0.07843137, -0.02631579]),\n",
       "  array([-0.06451613, -0.08      , -0.03896104, -0.0516129 , -0.02      ]),\n",
       "  array([-0.1192053 , -0.08609272, -0.09803922, -0.11038961, -0.12244898]),\n",
       "  array([-0.1025641 , -0.10526316, -0.05263158, -0.14193548, -0.10457516]),\n",
       "  array([-0.10897436, -0.11464968, -0.07792208, -0.13375796, -0.08441558]),\n",
       "  array([-0.0472973 , -0.05882353, -0.10526316, -0.08053691, -0.11038961]),\n",
       "  array([-0.09271523, -0.07792208, -0.12578616, -0.15483871, -0.07284768]),\n",
       "  array([-0.08609272, -0.09677419, -0.0974026 , -0.09032258, -0.13836478]),\n",
       "  array([-0.08552632, -0.08387097, -0.12337662, -0.00689655, -0.08      ]),\n",
       "  array([-0.12258065, -0.13071895, -0.06493506, -0.12903226, -0.06535948])],\n",
       " 3: [array([-0.06535948, -0.02666667, -0.05844156, -0.03289474, -0.00662252]),\n",
       "  array([ 0.00649351, -0.08441558, -0.05228758,  0.02027027,  0.01324503]),\n",
       "  array([-0.16339869, -0.09210526, -0.11111111, -0.14473684, -0.15131579]),\n",
       "  array([-0.09090909, -0.05228758, -0.04575163, -0.13375796, -0.06711409]),\n",
       "  array([-0.10897436, -0.07189542, -0.13461538, -0.11612903, -0.07894737]),\n",
       "  array([-0.05882353, -0.05806452, -0.11111111, -0.10828025, -0.13548387]),\n",
       "  array([-0.06493506, -0.09803922, -0.07894737, -0.14649682, -0.09150327]),\n",
       "  array([-0.09868421, -0.05844156, -0.10457516, -0.08441558, -0.1       ]),\n",
       "  array([-0.10596026, -0.05298013, -0.11038961, -0.11875   , -0.09032258]),\n",
       "  array([-0.08609272, -0.15286624, -0.07894737, -0.09271523, -0.10596026])],\n",
       " 4: [array([-0.11875   , -0.05806452, -0.06493506, -0.04575163, -0.00653595]),\n",
       "  array([-0.02547771, -0.04635762, -0.03921569,  0.00662252,  0.04761905]),\n",
       "  array([-0.13548387, -0.07284768, -0.08      , -0.18709677, -0.10596026]),\n",
       "  array([-0.08609272, -0.08387097, -0.05228758, -0.0738255 , -0.09271523]),\n",
       "  array([-0.11612903, -0.09150327, -0.08552632, -0.12337662, -0.05921053]),\n",
       "  array([-0.08974359, -0.09150327, -0.07284768, -0.05298013, -0.08552632]),\n",
       "  array([-0.12025316, -0.06666667, -0.09090909, -0.15286624, -0.10526316]),\n",
       "  array([-0.10135135, -0.06535948, -0.05405405, -0.10897436, -0.10457516]),\n",
       "  array([-0.15483871, -0.0794702 , -0.12418301, -0.06711409, -0.07189542]),\n",
       "  array([-0.09803922, -0.08496732, -0.04635762, -0.13245033, -0.08552632])],\n",
       " 5: [array([-0.07284768,  0.00657895, -0.03289474, -0.10191083, -0.00666667]),\n",
       "  array([-0.05769231, -0.04516129, -0.01298701, -0.04666667, -0.01342282]),\n",
       "  array([-0.16129032, -0.04666667, -0.06410256, -0.09615385, -0.12337662]),\n",
       "  array([-0.06578947,  0.04054054, -0.03947368, -0.05921053, -0.04081633]),\n",
       "  array([-0.07189542, -0.04      , -0.08496732, -0.11320755, -0.04666667]),\n",
       "  array([-0.05732484, -0.03289474, -0.04545455, -0.03355705, -0.03355705]),\n",
       "  array([-0.09868421, -0.08441558, -0.08552632, -0.10526316, -0.09150327]),\n",
       "  array([-0.13375796, -0.11612903, -0.13375796, -0.08552632, -0.11688312]),\n",
       "  array([-0.11842105, -0.06535948, -0.10967742, -0.08      , -0.03311258]),\n",
       "  array([-0.05298013, -0.13461538, -0.01960784, -0.08552632, -0.04081633])],\n",
       " 6: [array([-0.06493506, -0.02631579, -0.01960784, -0.09677419, -0.05732484]),\n",
       "  array([-0.04575163, -0.02684564, -0.00649351, -0.01351351, -0.0130719 ]),\n",
       "  array([-0.15384615, -0.03896104, -0.06493506, -0.11612903, -0.12337662]),\n",
       "  array([-0.11464968, -0.02564103, -0.03311258, -0.08      , -0.05921053]),\n",
       "  array([-0.05333333, -0.06493506, -0.08974359, -0.07792208, -0.05263158]),\n",
       "  array([-0.07792208, -0.01290323, -0.01973684, -0.06578947, -0.03333333]),\n",
       "  array([-0.13125   , -0.12738854, -0.07142857, -0.12179487, -0.09271523]),\n",
       "  array([-0.15483871, -0.08552632, -0.08496732, -0.11464968, -0.0794702 ]),\n",
       "  array([-0.0794702 , -0.03896104, -0.15286624, -0.1025641 , -0.07142857]),\n",
       "  array([-0.10457516, -0.1038961 , -0.03921569, -0.09803922, -0.05442177])],\n",
       " 7: [array([-0.08609272, -0.09615385, -0.02597403, -0.1025641 , -0.01342282]),\n",
       "  array([-0.01923077, -0.04516129, -0.0130719 , -0.03921569, -0.01986755]),\n",
       "  array([-0.12337662, -0.03289474, -0.04516129, -0.10126582, -0.11258278]),\n",
       "  array([-0.07051282, -0.04545455, -0.00662252, -0.04605263, -0.01333333]),\n",
       "  array([-0.05228758, -0.04635762, -0.08387097, -0.10759494, -0.10526316]),\n",
       "  array([-0.03289474, -0.03246753, -0.06578947, -0.08441558, -0.05769231]),\n",
       "  array([-0.08280255, -0.04635762, -0.08974359, -0.09933775, -0.01333333]),\n",
       "  array([-0.04605263, -0.05228758, -0.03870968, -0.00653595, -0.04026846]),\n",
       "  array([-0.09271523, -0.07284768, -0.09090909, -0.11538462, -0.0794702 ]),\n",
       "  array([-0.09032258, -0.12337662, -0.05882353, -0.03355705, -0.02013423])],\n",
       " 8: [array([-0.05031447, -0.03355705, -0.01948052, -0.06      ,  0.01973684]),\n",
       "  array([-0.0443038 , -0.03267974, -0.03870968, -0.03267974,  0.05369128]),\n",
       "  array([-0.09210526, -0.03921569, -0.07643312, -0.07284768, -0.09395973]),\n",
       "  array([-0.00649351, -0.00662252, -0.00649351, -0.00666667,  0.00653595]),\n",
       "  array([-0.07096774, -0.08441558, -0.06666667, -0.08496732, -0.04666667]),\n",
       "  array([-0.01986755, -0.01315789, -0.06369427, -0.06040268, -0.02702703]),\n",
       "  array([-0.08441558, -0.07692308, -0.04666667, -0.06578947, -0.06535948]),\n",
       "  array([-0.08974359, -0.06493506, -0.02649007, -0.03821656, -0.09803922]),\n",
       "  array([-0.06756757, -0.09090909, -0.13548387, -0.08724832, -0.04605263]),\n",
       "  array([-0.05921053, -0.13071895, -0.07189542, -0.04605263, -0.06493506])],\n",
       " 9: [array([-0.04666667, -0.03947368, -0.05882353, -0.07006369,  0.02027027]),\n",
       "  array([-0.03246753, -0.01973684, -0.01315789,  0.        ,  0.02666667]),\n",
       "  array([-0.10967742, -0.06410256, -0.05732484, -0.08333333, -0.0516129 ]),\n",
       "  array([-0.01935484, -0.03311258, -0.01960784, -0.02631579, -0.0130719 ]),\n",
       "  array([-0.06493506,  0.00657895, -0.04487179,  0.02631579, -0.01960784]),\n",
       "  array([-0.11949686, -0.01960784, -0.04605263, -0.05228758, -0.01986755]),\n",
       "  array([-0.07096774, -0.06535948, -0.09150327, -0.04545455, -0.08974359]),\n",
       "  array([-0.07894737, -0.01960784, -0.05844156, -0.00662252, -0.06622517]),\n",
       "  array([-0.11111111, -0.08441558, -0.09803922, -0.14102564, -0.07236842]),\n",
       "  array([-0.08053691, -0.09933775, -0.08974359, -0.04      , -0.05844156])],\n",
       " 10: [array([-0.05882353, -0.03267974, -0.03246753, -0.05844156,  0.04109589]),\n",
       "  array([-0.02631579,  0.        ,  0.01324503,  0.01360544,  0.01948052]),\n",
       "  array([-0.09459459,  0.01324503, -0.05769231, -0.06493506, -0.05333333]),\n",
       "  array([ 0.00662252, -0.01342282, -0.02597403, -0.01986755,  0.02702703]),\n",
       "  array([-0.09032258, -0.01315789, -0.03246753,  0.01290323,  0.01342282]),\n",
       "  array([-0.07189542, -0.05882353, -0.04545455, -0.04026846, -0.01333333]),\n",
       "  array([-0.10897436, -0.05194805, -0.10322581, -0.02702703, -0.05298013]),\n",
       "  array([-0.06578947, -0.03821656, -0.02013423,  0.01298701, -0.08496732]),\n",
       "  array([-0.11258278, -0.05333333, -0.09150327, -0.12179487, -0.07741935]),\n",
       "  array([-0.07894737, -0.13071895, -0.06578947, -0.06535948, -0.0397351 ])],\n",
       " 12: [array([-0.03246753, -0.02580645, -0.03164557, -0.05806452, -0.03225806]),\n",
       "  array([-0.05194805, -0.0516129 , -0.01973684, -0.04635762,  0.00662252]),\n",
       "  array([-0.0955414 , -0.02597403, -0.01333333, -0.05882353, -0.07006369]),\n",
       "  array([-0.01973684, -0.02597403, -0.00649351, -0.03267974,  0.04      ]),\n",
       "  array([-0.0130719 , -0.01290323, -0.03870968, -0.00653595, -0.01333333]),\n",
       "  array([-0.08552632, -0.07142857, -0.01973684, -0.06622517, -0.06      ]),\n",
       "  array([-0.08974359, -0.03870968, -0.07096774, -0.07643312, -0.07006369]),\n",
       "  array([ 0.        , -0.00666667, -0.00671141,  0.        , -0.08552632]),\n",
       "  array([-0.03311258, -0.01960784,  0.00657895, -0.00657895,  0.00666667]),\n",
       "  array([-0.03311258, -0.04575163, -0.01298701, -0.02564103, -0.00657895])],\n",
       " 15: [array([-0.03947368,  0.0130719 ,  0.0130719 , -0.08917197, -0.02631579]),\n",
       "  array([-0.03921569,  0.02      , -0.02597403, -0.05882353, -0.06711409]),\n",
       "  array([-0.03311258,  0.01315789, -0.03246753, -0.04516129, -0.03921569]),\n",
       "  array([-0.02684564, -0.02631579,  0.00645161, -0.04545455,  0.03311258]),\n",
       "  array([-0.00671141,  0.        , -0.01935484,  0.        , -0.03896104]),\n",
       "  array([-0.08387097, -0.03267974, -0.0130719 , -0.04666667, -0.02649007]),\n",
       "  array([-0.06535948, -0.03225806, -0.03921569,  0.00662252, -0.01973684]),\n",
       "  array([-0.03870968, -0.04545455,  0.        , -0.03311258, -0.03333333]),\n",
       "  array([-0.06493506, -0.03921569, -0.01935484, -0.02631579,  0.03333333]),\n",
       "  array([-0.01315789, -0.05806452, -0.04545455, -0.01298701,  0.01315789])],\n",
       " 18: [array([-0.03289474, -0.00666667, -0.02531646, -0.07741935, -0.02614379]),\n",
       "  array([-0.07284768, -0.01315789, -0.03870968, -0.00666667, -0.00657895]),\n",
       "  array([-0.07051282, -0.01923077, -0.01948052, -0.02631579, -0.00657895]),\n",
       "  array([-0.00649351,  0.        ,  0.        ,  0.00666667,  0.02649007]),\n",
       "  array([ 0.01315789, -0.00662252, -0.01923077, -0.04487179,  0.03355705]),\n",
       "  array([-0.01290323,  0.        , -0.0130719 ,  0.01324503,  0.        ]),\n",
       "  array([-0.04545455,  0.01973684,  0.04666667,  0.03311258,  0.0397351 ]),\n",
       "  array([-0.01324503, -0.01948052,  0.0130719 , -0.00653595, -0.00662252]),\n",
       "  array([ 0.        ,  0.00657895, -0.01290323, -0.05732484,  0.        ]),\n",
       "  array([-0.02      ,  0.03947368, -0.00662252, -0.0130719 ,  0.00666667])]}"
      ]
     },
     "execution_count": 5,
     "metadata": {},
     "output_type": "execute_result"
    }
   ],
   "source": [
    "utility_loss_20"
   ]
  },
  {
   "cell_type": "code",
   "execution_count": 5,
   "id": "cognitive-incidence",
   "metadata": {},
   "outputs": [
    {
     "data": {
      "text/plain": [
       "-0.08405137673083425"
      ]
     },
     "execution_count": 5,
     "metadata": {},
     "output_type": "execute_result"
    }
   ],
   "source": [
    "np.mean([np.mean(ut) for ut in utility_loss_20[1]])"
   ]
  },
  {
   "cell_type": "code",
   "execution_count": 8,
   "id": "greek-angola",
   "metadata": {},
   "outputs": [],
   "source": [
    "with open('parameter_guidelines/evaluation/german_credit/robustness_vertical_universal_c95_fpattr20_e100.pickle', 'rb') as infile:\n",
    "    robustness_20 = pickle.load(infile)"
   ]
  },
  {
   "cell_type": "code",
   "execution_count": 6,
   "id": "ranging-classroom",
   "metadata": {},
   "outputs": [],
   "source": [
    "fpattrs=[20,16,12,8,4]\n",
    "robustness = dict()\n",
    "for fpattr in fpattrs:\n",
    "    with open('parameter_guidelines/evaluation/german_credit/robustness_vertical_universal_c95_fpattr{}_e100.pickle'.format(fpattr), 'rb') as infile:\n",
    "        robustness[fpattr] = pickle.load(infile)"
   ]
  },
  {
   "cell_type": "code",
   "execution_count": 9,
   "id": "received-exercise",
   "metadata": {},
   "outputs": [
    {
     "data": {
      "text/plain": [
       "{1: 0.8,\n",
       " 1.11: 0.75,\n",
       " 1.25: 0.7,\n",
       " 1.43: 0.7,\n",
       " 1.67: 0.65,\n",
       " 2: 0.75,\n",
       " 2.5: 0.65,\n",
       " 3: 0.6,\n",
       " 4: 0.6,\n",
       " 5: 0.5,\n",
       " 6: 0.5,\n",
       " 7: 0.45,\n",
       " 8: 0.4,\n",
       " 9: 0.35,\n",
       " 10: 0.35,\n",
       " 12: 0.25,\n",
       " 15: 0.2,\n",
       " 18: 0.1}"
      ]
     },
     "execution_count": 9,
     "metadata": {},
     "output_type": "execute_result"
    }
   ],
   "source": [
    "robustness_20"
   ]
  },
  {
   "cell_type": "code",
   "execution_count": 15,
   "id": "assumed-aging",
   "metadata": {},
   "outputs": [],
   "source": [
    "gamma=1\n",
    "fp_dir = \"parameter_guidelines/fingerprinted_data/german_credit/attr_subset_20/\"\n",
    "fingerprinted_data = pd.read_csv(fp_dir + \"universal_g{}_x1_l8_u1_sk0.csv\".format(gamma))\n",
    "data = GermanCredit().preprocessed(fp_data=fingerprinted_data)"
   ]
  },
  {
   "cell_type": "code",
   "execution_count": 16,
   "id": "obvious-royal",
   "metadata": {},
   "outputs": [],
   "source": [
    "X_fp = data.drop('target', axis=1)\n",
    "y_fp = data['target']"
   ]
  },
  {
   "cell_type": "code",
   "execution_count": 17,
   "id": "assigned-group",
   "metadata": {},
   "outputs": [],
   "source": [
    "X_train, X_test, y_train, y_test = train_test_split(X_fp, y_fp, test_size=0.2, random_state=9)\n",
    "\n",
    "model = GradientBoostingClassifier()\n",
    "model.fit(X_train, y_train)\n",
    "acc = accuracy_score(y_test, model.predict(X_test))"
   ]
  },
  {
   "cell_type": "code",
   "execution_count": 18,
   "id": "commercial-pocket",
   "metadata": {},
   "outputs": [
    {
     "data": {
      "text/plain": [
       "0.78"
      ]
     },
     "execution_count": 18,
     "metadata": {},
     "output_type": "execute_result"
    }
   ],
   "source": [
    "acc"
   ]
  },
  {
   "cell_type": "code",
   "execution_count": 18,
   "id": "roman-heaven",
   "metadata": {},
   "outputs": [
    {
     "data": {
      "text/plain": [
       "array([0.79 , 0.755, 0.73 , 0.8  , 0.73 ])"
      ]
     },
     "execution_count": 18,
     "metadata": {},
     "output_type": "execute_result"
    }
   ],
   "source": [
    "model = GradientBoostingClassifier(random_state=9)\n",
    "original = cross_val_score(model, X_fp, y_fp)\n",
    "original"
   ]
  },
  {
   "cell_type": "code",
   "execution_count": 19,
   "id": "severe-matter",
   "metadata": {},
   "outputs": [
    {
     "ename": "NotFittedError",
     "evalue": "This GradientBoostingClassifier instance is not fitted yet. Call 'fit' with appropriate arguments before using this estimator.",
     "output_type": "error",
     "traceback": [
      "\u001b[1;31m---------------------------------------------------------------------------\u001b[0m",
      "\u001b[1;31mNotFittedError\u001b[0m                            Traceback (most recent call last)",
      "\u001b[1;32mC:\\Users\\TSARCE~1\\AppData\\Local\\Temp/ipykernel_3948/4242228011.py\u001b[0m in \u001b[0;36m<module>\u001b[1;34m\u001b[0m\n\u001b[1;32m----> 1\u001b[1;33m \u001b[0mmodel\u001b[0m\u001b[1;33m.\u001b[0m\u001b[0mfeature_importances_\u001b[0m\u001b[1;33m\u001b[0m\u001b[1;33m\u001b[0m\u001b[0m\n\u001b[0m",
      "\u001b[1;32mc:\\users\\tsarcevic\\pycharmprojects\\fingerprinting-toolbox\\venv\\lib\\site-packages\\sklearn\\ensemble\\_gb.py\u001b[0m in \u001b[0;36mfeature_importances_\u001b[1;34m(self)\u001b[0m\n\u001b[0;32m    675\u001b[0m             \u001b[0marray\u001b[0m \u001b[0mof\u001b[0m \u001b[0mzeros\u001b[0m\u001b[1;33m.\u001b[0m\u001b[1;33m\u001b[0m\u001b[1;33m\u001b[0m\u001b[0m\n\u001b[0;32m    676\u001b[0m         \"\"\"\n\u001b[1;32m--> 677\u001b[1;33m         \u001b[0mself\u001b[0m\u001b[1;33m.\u001b[0m\u001b[0m_check_initialized\u001b[0m\u001b[1;33m(\u001b[0m\u001b[1;33m)\u001b[0m\u001b[1;33m\u001b[0m\u001b[1;33m\u001b[0m\u001b[0m\n\u001b[0m\u001b[0;32m    678\u001b[0m \u001b[1;33m\u001b[0m\u001b[0m\n\u001b[0;32m    679\u001b[0m         relevant_trees = [tree\n",
      "\u001b[1;32mc:\\users\\tsarcevic\\pycharmprojects\\fingerprinting-toolbox\\venv\\lib\\site-packages\\sklearn\\ensemble\\_gb.py\u001b[0m in \u001b[0;36m_check_initialized\u001b[1;34m(self)\u001b[0m\n\u001b[0;32m    357\u001b[0m     \u001b[1;32mdef\u001b[0m \u001b[0m_check_initialized\u001b[0m\u001b[1;33m(\u001b[0m\u001b[0mself\u001b[0m\u001b[1;33m)\u001b[0m\u001b[1;33m:\u001b[0m\u001b[1;33m\u001b[0m\u001b[1;33m\u001b[0m\u001b[0m\n\u001b[0;32m    358\u001b[0m         \u001b[1;34m\"\"\"Check that the estimator is initialized, raising an error if not.\"\"\"\u001b[0m\u001b[1;33m\u001b[0m\u001b[1;33m\u001b[0m\u001b[0m\n\u001b[1;32m--> 359\u001b[1;33m         \u001b[0mcheck_is_fitted\u001b[0m\u001b[1;33m(\u001b[0m\u001b[0mself\u001b[0m\u001b[1;33m)\u001b[0m\u001b[1;33m\u001b[0m\u001b[1;33m\u001b[0m\u001b[0m\n\u001b[0m\u001b[0;32m    360\u001b[0m \u001b[1;33m\u001b[0m\u001b[0m\n\u001b[0;32m    361\u001b[0m     \u001b[1;33m@\u001b[0m\u001b[0mabstractmethod\u001b[0m\u001b[1;33m\u001b[0m\u001b[1;33m\u001b[0m\u001b[0m\n",
      "\u001b[1;32mc:\\users\\tsarcevic\\pycharmprojects\\fingerprinting-toolbox\\venv\\lib\\site-packages\\sklearn\\utils\\validation.py\u001b[0m in \u001b[0;36minner_f\u001b[1;34m(*args, **kwargs)\u001b[0m\n\u001b[0;32m     61\u001b[0m             \u001b[0mextra_args\u001b[0m \u001b[1;33m=\u001b[0m \u001b[0mlen\u001b[0m\u001b[1;33m(\u001b[0m\u001b[0margs\u001b[0m\u001b[1;33m)\u001b[0m \u001b[1;33m-\u001b[0m \u001b[0mlen\u001b[0m\u001b[1;33m(\u001b[0m\u001b[0mall_args\u001b[0m\u001b[1;33m)\u001b[0m\u001b[1;33m\u001b[0m\u001b[1;33m\u001b[0m\u001b[0m\n\u001b[0;32m     62\u001b[0m             \u001b[1;32mif\u001b[0m \u001b[0mextra_args\u001b[0m \u001b[1;33m<=\u001b[0m \u001b[1;36m0\u001b[0m\u001b[1;33m:\u001b[0m\u001b[1;33m\u001b[0m\u001b[1;33m\u001b[0m\u001b[0m\n\u001b[1;32m---> 63\u001b[1;33m                 \u001b[1;32mreturn\u001b[0m \u001b[0mf\u001b[0m\u001b[1;33m(\u001b[0m\u001b[1;33m*\u001b[0m\u001b[0margs\u001b[0m\u001b[1;33m,\u001b[0m \u001b[1;33m**\u001b[0m\u001b[0mkwargs\u001b[0m\u001b[1;33m)\u001b[0m\u001b[1;33m\u001b[0m\u001b[1;33m\u001b[0m\u001b[0m\n\u001b[0m\u001b[0;32m     64\u001b[0m \u001b[1;33m\u001b[0m\u001b[0m\n\u001b[0;32m     65\u001b[0m             \u001b[1;31m# extra_args > 0\u001b[0m\u001b[1;33m\u001b[0m\u001b[1;33m\u001b[0m\u001b[1;33m\u001b[0m\u001b[0m\n",
      "\u001b[1;32mc:\\users\\tsarcevic\\pycharmprojects\\fingerprinting-toolbox\\venv\\lib\\site-packages\\sklearn\\utils\\validation.py\u001b[0m in \u001b[0;36mcheck_is_fitted\u001b[1;34m(estimator, attributes, msg, all_or_any)\u001b[0m\n\u001b[0;32m   1039\u001b[0m \u001b[1;33m\u001b[0m\u001b[0m\n\u001b[0;32m   1040\u001b[0m     \u001b[1;32mif\u001b[0m \u001b[1;32mnot\u001b[0m \u001b[0mattrs\u001b[0m\u001b[1;33m:\u001b[0m\u001b[1;33m\u001b[0m\u001b[1;33m\u001b[0m\u001b[0m\n\u001b[1;32m-> 1041\u001b[1;33m         \u001b[1;32mraise\u001b[0m \u001b[0mNotFittedError\u001b[0m\u001b[1;33m(\u001b[0m\u001b[0mmsg\u001b[0m \u001b[1;33m%\u001b[0m \u001b[1;33m{\u001b[0m\u001b[1;34m'name'\u001b[0m\u001b[1;33m:\u001b[0m \u001b[0mtype\u001b[0m\u001b[1;33m(\u001b[0m\u001b[0mestimator\u001b[0m\u001b[1;33m)\u001b[0m\u001b[1;33m.\u001b[0m\u001b[0m__name__\u001b[0m\u001b[1;33m}\u001b[0m\u001b[1;33m)\u001b[0m\u001b[1;33m\u001b[0m\u001b[1;33m\u001b[0m\u001b[0m\n\u001b[0m\u001b[0;32m   1042\u001b[0m \u001b[1;33m\u001b[0m\u001b[0m\n\u001b[0;32m   1043\u001b[0m \u001b[1;33m\u001b[0m\u001b[0m\n",
      "\u001b[1;31mNotFittedError\u001b[0m: This GradientBoostingClassifier instance is not fitted yet. Call 'fit' with appropriate arguments before using this estimator."
     ]
    }
   ],
   "source": [
    "model.feature_importances_"
   ]
  },
  {
   "cell_type": "code",
   "execution_count": 24,
   "id": "cubic-hormone",
   "metadata": {},
   "outputs": [
    {
     "data": {
      "image/png": "[encoded data removed]",
      "text/plain": [
       "<Figure size 432x288 with 1 Axes>"
      ]
     },
     "metadata": {
      "needs_background": "light"
     },
     "output_type": "display_data"
    }
   ],
   "source": [
    "pyplot.bar(range(len(model.feature_importances_)), model.feature_importances_)\n",
    "pyplot.show()"
   ]
  },
  {
   "cell_type": "code",
   "execution_count": 30,
   "id": "opposed-gentleman",
   "metadata": {},
   "outputs": [
    {
     "data": {
      "text/plain": [
       "{'checking_account': 0.21514958469895673,\n",
       " 'duration': 0.13044392484665898,\n",
       " 'credit_hist': 0.08577361202438204,\n",
       " 'purpose': 0.037542360031586446,\n",
       " 'credit_amount': 0.17261276703874145,\n",
       " 'savings': 0.04680897088703411,\n",
       " 'employment_since': 0.03161875938692153,\n",
       " 'installment_rate': 0.022951027357519246,\n",
       " 'sex_status': 0.006977414324585844,\n",
       " 'debtors': 0.01549920743767321,\n",
       " 'residence_since': 0.006314167794645683,\n",
       " 'property': 0.04161068704700113,\n",
       " 'age': 0.09356728372727559,\n",
       " 'installment_other': 0.04487824182105095,\n",
       " 'housing': 0.010520190596630376,\n",
       " 'existing_credits': 0.013612419726994892,\n",
       " 'job': 0.008691845710110693,\n",
       " 'liable_people': 0.010437271782373785,\n",
       " 'tel': 0.003110805448656495,\n",
       " 'foreign': 0.0018794583112007593}"
      ]
     },
     "execution_count": 30,
     "metadata": {},
     "output_type": "execute_result"
    }
   ],
   "source": [
    "feature_importances = dict(zip(data.columns, model.feature_importances_))\n",
    "feature_importances"
   ]
  },
  {
   "cell_type": "code",
   "execution_count": null,
   "id": "stone-being",
   "metadata": {},
   "outputs": [],
   "source": []
  },
  {
   "cell_type": "code",
   "execution_count": 13,
   "id": "instructional-astrology",
   "metadata": {},
   "outputs": [],
   "source": [
    "def drop_least_important(n, features):\n",
    "    remaining = features\n",
    "    for i in range(n):\n",
    "        min_val = min(remaining.values())\n",
    "        remaining = {k: v for k, v in remaining.items() if v != min_val}    \n",
    "    return remaining"
   ]
  },
  {
   "cell_type": "code",
   "execution_count": 80,
   "id": "divided-installation",
   "metadata": {},
   "outputs": [],
   "source": [
    "selected_f = drop_least_important(5, feature_importances)"
   ]
  },
  {
   "cell_type": "code",
   "execution_count": 81,
   "id": "unusual-silence",
   "metadata": {},
   "outputs": [
    {
     "data": {
      "text/plain": [
       "15"
      ]
     },
     "execution_count": 81,
     "metadata": {},
     "output_type": "execute_result"
    }
   ],
   "source": [
    "len(selected_f)"
   ]
  },
  {
   "cell_type": "code",
   "execution_count": 84,
   "id": "patient-religious",
   "metadata": {},
   "outputs": [],
   "source": [
    "removed = list(feature_importances.keys() - selected_f.keys())"
   ]
  },
  {
   "cell_type": "code",
   "execution_count": 106,
   "id": "brilliant-trade",
   "metadata": {},
   "outputs": [
    {
     "name": "stdout",
     "output_type": "stream",
     "text": [
      "15\n"
     ]
    }
   ],
   "source": [
    "X_fp = data.drop('target', axis=1)\n",
    "X_fp = X_fp.drop(removed, axis=1)\n",
    "print(len(X_fp.columns))\n",
    "y_fp = data['target']"
   ]
  },
  {
   "cell_type": "code",
   "execution_count": 89,
   "id": "composed-conviction",
   "metadata": {},
   "outputs": [],
   "source": [
    "X_train, X_test, y_train, y_test = train_test_split(X_fp, y_fp, test_size=0.2, random_state=9)\n",
    "\n",
    "model = GradientBoostingClassifier()\n",
    "model.fit(X_train, y_train)\n",
    "acc = accuracy_score(y_test, model.predict(X_test))"
   ]
  },
  {
   "cell_type": "code",
   "execution_count": 90,
   "id": "postal-respondent",
   "metadata": {},
   "outputs": [
    {
     "data": {
      "text/plain": [
       "0.775"
      ]
     },
     "execution_count": 90,
     "metadata": {},
     "output_type": "execute_result"
    }
   ],
   "source": [
    "acc"
   ]
  },
  {
   "cell_type": "code",
   "execution_count": 107,
   "id": "apparent-strengthening",
   "metadata": {},
   "outputs": [
    {
     "data": {
      "text/plain": [
       "array([0.755, 0.755, 0.73 , 0.785, 0.75 ])"
      ]
     },
     "execution_count": 107,
     "metadata": {},
     "output_type": "execute_result"
    }
   ],
   "source": [
    "model = GradientBoostingClassifier(random_state=9)\n",
    "removed_25p = cross_val_score(model, X_fp, y_fp)\n",
    "removed_25p"
   ]
  },
  {
   "cell_type": "code",
   "execution_count": 111,
   "id": "modern-rhythm",
   "metadata": {},
   "outputs": [
    {
     "data": {
      "text/plain": [
       "(0.7550000000000001, 0.761)"
      ]
     },
     "execution_count": 111,
     "metadata": {},
     "output_type": "execute_result"
    }
   ],
   "source": [
    "np.mean(removed_25p), np.mean(original)"
   ]
  },
  {
   "cell_type": "code",
   "execution_count": 117,
   "id": "opening-novel",
   "metadata": {},
   "outputs": [
    {
     "name": "stdout",
     "output_type": "stream",
     "text": [
      "4\n",
      "5\n",
      "6\n",
      "6\n",
      "7\n",
      "5\n",
      "7\n",
      "8\n",
      "8\n",
      "10\n",
      "10\n",
      "11\n",
      "12\n",
      "13\n",
      "13\n",
      "15\n",
      "16\n",
      "18\n"
     ]
    }
   ],
   "source": [
    "results = dict()\n",
    "for gamma in robustness_20:\n",
    "    # remove robustness_20[gamma] percent of columns\n",
    "    to_remove = int(20*robustness_20[gamma])\n",
    "    selected_f = drop_least_important(to_remove, feature_importances)\n",
    "    removed = list(feature_importances.keys() - selected_f.keys())\n",
    "    X_fp = data.drop('target', axis=1)\n",
    "    X_fp = X_fp.drop(removed, axis=1)\n",
    "    print(len(X_fp.columns))\n",
    "    y_fp = data['target']\n",
    "    model = GradientBoostingClassifier(random_state=9)\n",
    "    acc = cross_val_score(model, X_fp, y_fp)\n",
    "    results[gamma] = acc"
   ]
  },
  {
   "cell_type": "code",
   "execution_count": 118,
   "id": "isolated-antenna",
   "metadata": {},
   "outputs": [
    {
     "data": {
      "text/plain": [
       "{1: array([0.76 , 0.735, 0.715, 0.73 , 0.72 ]),\n",
       " 1.11: array([0.76 , 0.73 , 0.72 , 0.745, 0.74 ]),\n",
       " 1.25: array([0.78 , 0.74 , 0.735, 0.765, 0.75 ]),\n",
       " 1.43: array([0.78 , 0.74 , 0.735, 0.765, 0.75 ]),\n",
       " 1.67: array([0.765, 0.745, 0.735, 0.77 , 0.755]),\n",
       " 2: array([0.76 , 0.73 , 0.72 , 0.745, 0.74 ]),\n",
       " 2.5: array([0.765, 0.745, 0.735, 0.77 , 0.755]),\n",
       " 3: array([0.75 , 0.75 , 0.735, 0.755, 0.75 ]),\n",
       " 4: array([0.75 , 0.75 , 0.735, 0.755, 0.75 ]),\n",
       " 5: array([0.78 , 0.755, 0.76 , 0.775, 0.735]),\n",
       " 6: array([0.78 , 0.755, 0.76 , 0.775, 0.735]),\n",
       " 7: array([0.785, 0.755, 0.74 , 0.78 , 0.74 ]),\n",
       " 8: array([0.785, 0.75 , 0.735, 0.775, 0.73 ]),\n",
       " 9: array([0.775, 0.76 , 0.73 , 0.78 , 0.765]),\n",
       " 10: array([0.775, 0.76 , 0.73 , 0.78 , 0.765]),\n",
       " 12: array([0.755, 0.755, 0.73 , 0.785, 0.75 ]),\n",
       " 15: array([0.78 , 0.765, 0.73 , 0.78 , 0.745]),\n",
       " 18: array([0.78 , 0.78 , 0.75 , 0.775, 0.75 ])}"
      ]
     },
     "execution_count": 118,
     "metadata": {},
     "output_type": "execute_result"
    }
   ],
   "source": [
    "results"
   ]
  },
  {
   "cell_type": "code",
   "execution_count": 121,
   "id": "turned-import",
   "metadata": {},
   "outputs": [],
   "source": [
    "rel_loss = dict()\n",
    "for gamma in results:\n",
    "    loss = original - results[gamma] \n",
    "    rel_loss[gamma] = loss / original"
   ]
  },
  {
   "cell_type": "code",
   "execution_count": 125,
   "id": "lesbian-tribute",
   "metadata": {},
   "outputs": [],
   "source": [
    "with open('parameter_guidelines/evaluation/german_credit/rel_targeted_vertical_attack_utility_loss_gb_fpattr20_sk0.pkl', 'wb') as outfile:\n",
    "    pickle.dump(rel_loss, outfile) "
   ]
  },
  {
   "cell_type": "code",
   "execution_count": 123,
   "id": "civil-elizabeth",
   "metadata": {},
   "outputs": [
    {
     "name": "stdout",
     "output_type": "stream",
     "text": [
      "0.037242265022387054\n",
      "0.027967453265152174\n",
      "0.008405840434901946\n",
      "0.008405840434901946\n",
      "0.008258942464375417\n",
      "0.027967453265152174\n",
      "0.008258942464375417\n",
      "0.01585177052124615\n",
      "0.01585177052124615\n",
      "-0.000807395526270159\n",
      "-0.000807395526270159\n",
      "0.0007863707300156064\n",
      "0.007470463082369781\n",
      "-0.0021160760527183116\n",
      "-0.0021160760527183116\n",
      "0.007131307438876372\n",
      "0.0007730499060078069\n",
      "-0.008799775096260187\n"
     ]
    }
   ],
   "source": [
    "for gamma in rel_loss:\n",
    "    print(np.mean(rel_loss[gamma]))"
   ]
  },
  {
   "cell_type": "markdown",
   "id": "welcome-potato",
   "metadata": {},
   "source": [
    "# Experiment"
   ]
  },
  {
   "cell_type": "code",
   "execution_count": null,
   "id": "chronic-edgar",
   "metadata": {},
   "outputs": [],
   "source": [
    "feature_importances = {'checking_account': 0.21514958469895673,\n",
    " 'duration': 0.13044392484665898,\n",
    " 'credit_hist': 0.08577361202438204,\n",
    " 'purpose': 0.037542360031586446,\n",
    " 'credit_amount': 0.17261276703874145,\n",
    " 'savings': 0.04680897088703411,\n",
    " 'employment_since': 0.03161875938692153,\n",
    " 'installment_rate': 0.022951027357519246,\n",
    " 'sex_status': 0.006977414324585844,\n",
    " 'debtors': 0.01549920743767321,\n",
    " 'residence_since': 0.006314167794645683,\n",
    " 'property': 0.04161068704700113,\n",
    " 'age': 0.09356728372727559,\n",
    " 'installment_other': 0.04487824182105095,\n",
    " 'housing': 0.010520190596630376,\n",
    " 'existing_credits': 0.013612419726994892,\n",
    " 'job': 0.008691845710110693,\n",
    " 'liable_people': 0.010437271782373785,\n",
    " 'tel': 0.003110805448656495,\n",
    " 'foreign': 0.0018794583112007593}"
   ]
  },
  {
   "cell_type": "code",
   "execution_count": 41,
   "id": "molecular-envelope",
   "metadata": {},
   "outputs": [],
   "source": [
    "fpattr=4"
   ]
  },
  {
   "cell_type": "code",
   "execution_count": 42,
   "id": "environmental-stranger",
   "metadata": {},
   "outputs": [],
   "source": [
    "with open('parameter_guidelines/evaluation/german_credit/robustness_vertical_universal_c95_fpattr{}_e100.pickle'.format(fpattr), 'rb') as infile:\n",
    "    robustness = pickle.load(infile)"
   ]
  },
  {
   "cell_type": "code",
   "execution_count": 43,
   "id": "expensive-cream",
   "metadata": {},
   "outputs": [
    {
     "name": "stdout",
     "output_type": "stream",
     "text": [
      "11\n",
      "11\n",
      "11\n",
      "12\n",
      "12\n",
      "13\n",
      "12\n",
      "13\n",
      "14\n",
      "14\n",
      "14\n",
      "15\n",
      "16\n",
      "16\n",
      "15\n",
      "18\n",
      "19\n",
      "18\n"
     ]
    }
   ],
   "source": [
    "fp_dir = \"parameter_guidelines/fingerprinted_data/german_credit/attr_subset_{}/\".format(fpattr)\n",
    "results = dict()\n",
    "original = dict()\n",
    "for gamma in robustness:\n",
    "    fingerprinted_data = pd.read_csv(fp_dir + \"universal_g{}_x1_l8_u1_sk0.csv\".format(gamma))\n",
    "    data = GermanCredit().preprocessed(fp_data=fingerprinted_data)\n",
    "    \n",
    "    #split\n",
    "    X_fp = data.drop('target', axis=1)\n",
    "    y_fp = data['target']\n",
    "    # original accuracy\n",
    "    model = GradientBoostingClassifier(random_state=9)\n",
    "    original[gamma] = cross_val_score(model, X_fp, y_fp)\n",
    "    \n",
    "    # \n",
    "    to_remove = int(20*robustness[gamma])\n",
    "    selected_f = drop_least_important(to_remove, feature_importances)\n",
    "    removed = list(feature_importances.keys() - selected_f.keys())\n",
    "    X_fp = data.drop('target', axis=1)\n",
    "    X_fp = X_fp.drop(removed, axis=1)\n",
    "    print(len(X_fp.columns))\n",
    "    y_fp = data['target']\n",
    "    model = GradientBoostingClassifier(random_state=9)\n",
    "    acc = cross_val_score(model, X_fp, y_fp)\n",
    "    results[gamma] = acc"
   ]
  },
  {
   "cell_type": "code",
   "execution_count": 44,
   "id": "initial-journal",
   "metadata": {},
   "outputs": [],
   "source": [
    "rel_loss = dict()\n",
    "for gamma in results:\n",
    "    loss = original[gamma] - results[gamma] \n",
    "    rel_loss[gamma] = loss / original[gamma]"
   ]
  },
  {
   "cell_type": "code",
   "execution_count": 45,
   "id": "faced-clock",
   "metadata": {},
   "outputs": [],
   "source": [
    "with open('parameter_guidelines/evaluation/german_credit/NEW_rel_targeted_vertical_attack_utility_loss_gb_fpattr{}_sk0.pkl'.format(fpattr), 'wb') as outfile:\n",
    "    pickle.dump(rel_loss, outfile) "
   ]
  }
 ],
 "metadata": {
  "kernelspec": {
   "display_name": "Python3-FP",
   "language": "python",
   "name": "python3"
  },
  "language_info": {
   "codemirror_mode": {
    "name": "ipython",
    "version": 3
   },
   "file_extension": ".py",
   "mimetype": "text/x-python",
   "name": "python",
   "nbconvert_exporter": "python",
   "pygments_lexer": "ipython3",
   "version": "3.8.8"
  }
 },
 "nbformat": 4,
 "nbformat_minor": 5
}
